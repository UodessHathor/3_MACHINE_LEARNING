{
  "cells": [
    {
      "cell_type": "markdown",
      "metadata": {},
      "source": [
        "---"
      ]
    },
    {
      "cell_type": "markdown",
      "metadata": {},
      "source": [
        "------"
      ]
    },
    {
      "cell_type": "markdown",
      "metadata": {},
      "source": [
        "# 🚧 📧 **PROJET CONVERSION RATE** ✅ ❌"
      ]
    },
    {
      "cell_type": "markdown",
      "metadata": {},
      "source": [
        "##### **Doriane DOYON-DOUSSE** : *Certification bloc 3* ✅  (**ds_fs_od_03** 📖) "
      ]
    },
    {
      "cell_type": "markdown",
      "metadata": {},
      "source": [
        "------"
      ]
    },
    {
      "cell_type": "markdown",
      "metadata": {
        "id": "MVnsaJY2FJOV"
      },
      "source": [
        "### ➡️ **Importation librairies** 📚"
      ]
    },
    {
      "cell_type": "markdown",
      "metadata": {},
      "source": [
        "° ° ° ° ° ° ° ° ° ° ° ° ° ° ° ° ° ° ° ° ° ° ° ° ° ° ° ° ° ° ° ° ° ° ° ° ° ° ° ° ° ° ° ° ° ° ° ° ° ° ° ° ° ° ° ° ° ° ° ° ° ° ° ° ° ° ° ° ° ° ° ° ° ° ° ° ° ° ° ° ° ° ° °"
      ]
    },
    {
      "cell_type": "code",
      "execution_count": 1,
      "metadata": {},
      "outputs": [],
      "source": [
        "import pandas as pd\n",
        "import numpy as np\n",
        "import matplotlib.pyplot as plt \n",
        "import seaborn as sns \n",
        "\n",
        "\n",
        "from sklearn.model_selection import train_test_split\n",
        "from sklearn.pipeline import Pipeline\n",
        "from sklearn.impute import SimpleImputer\n",
        "from sklearn.preprocessing import  OneHotEncoder, StandardScaler, LabelEncoder\n",
        "from sklearn.compose import ColumnTransformer\n",
        "\n",
        "from sklearn.model_selection import GridSearchCV\n",
        "from sklearn.model_selection import train_test_split\n",
        "from sklearn.pipeline import Pipeline\n",
        "from sklearn.compose import ColumnTransformer\n",
        "from sklearn.preprocessing import StandardScaler, OneHotEncoder\n",
        "from sklearn.impute import SimpleImputer, KNNImputer\n",
        "# import ensemble methods\n",
        "from sklearn.ensemble import RandomForestClassifier, BaggingClassifier, AdaBoostClassifier, GradientBoostingClassifier, VotingClassifier\n",
        "from xgboost import XGBClassifier\n",
        "from sklearn.tree import DecisionTreeClassifier\n",
        "from sklearn.svm import SVC\n",
        "from sklearn.linear_model import LogisticRegression\n",
        "from sklearn.metrics import accuracy_score, f1_score, RocCurveDisplay, ConfusionMatrixDisplay, confusion_matrix\n",
        "\n",
        "\n",
        "import plotly.express as px\n",
        "import plotly.graph_objects as go\n",
        "import plotly.io as pio\n",
        "# setting Jedha color palette as default\n",
        "pio.templates[\"jedha\"] = go.layout.Template(\n",
        "    layout_colorway=[\"#4B9AC7\", \"#4BE8E0\", \"#9DD4F3\", \"#97FBF6\", \"#2A7FAF\", \"#23B1AB\", \"#0E3449\", \"#015955\"]\n",
        ")\n",
        "pio.templates.default = \"jedha\"\n",
        "pio.renderers.default = \"svg\" \n",
        "from IPython.display import display\n",
        "\n",
        "import warnings\n",
        "warnings.filterwarnings('ignore')"
      ]
    },
    {
      "cell_type": "markdown",
      "metadata": {},
      "source": [
        "### ➡️ **Lecture of the dataset** 📀"
      ]
    },
    {
      "cell_type": "code",
      "execution_count": 2,
      "metadata": {},
      "outputs": [
        {
          "name": "stdout",
          "output_type": "stream",
          "text": [
            "Lecture of the dataset ...\n",
            "...Done!\n"
          ]
        }
      ],
      "source": [
        "print('Lecture of the dataset ...')\n",
        "conversion = pd.read_csv('conversion_data_train.csv')\n",
        "print('...Done!')"
      ]
    },
    {
      "cell_type": "markdown",
      "metadata": {},
      "source": [
        "-----"
      ]
    },
    {
      "cell_type": "markdown",
      "metadata": {},
      "source": [
        "## 🔷 **PART 1️⃣ :** EDA / Preprocessings / **Train baseline model**"
      ]
    },
    {
      "cell_type": "markdown",
      "metadata": {},
      "source": [
        "-----"
      ]
    },
    {
      "cell_type": "markdown",
      "metadata": {},
      "source": [
        "### ➡️ **Baseline Model** : MODEL 1  🔎 🌺"
      ]
    },
    {
      "cell_type": "markdown",
      "metadata": {},
      "source": [
        "#### <ins>Jedha Baseline Model</ins> \t🌺"
      ]
    },
    {
      "cell_type": "markdown",
      "metadata": {},
      "source": [
        "- This baseline model has been included by Jedha as a **basic template**. \n",
        "- A single explanatory variable is used : the **total number of pages visited** \n",
        "- Let's build our **Simple Logistic Regression model** as a baseline "
      ]
    },
    {
      "cell_type": "code",
      "execution_count": 3,
      "metadata": {},
      "outputs": [
        {
          "data": {
            "text/html": [
              "<div>\n",
              "<style scoped>\n",
              "    .dataframe tbody tr th:only-of-type {\n",
              "        vertical-align: middle;\n",
              "    }\n",
              "\n",
              "    .dataframe tbody tr th {\n",
              "        vertical-align: top;\n",
              "    }\n",
              "\n",
              "    .dataframe thead th {\n",
              "        text-align: right;\n",
              "    }\n",
              "</style>\n",
              "<table border=\"1\" class=\"dataframe\">\n",
              "  <thead>\n",
              "    <tr style=\"text-align: right;\">\n",
              "      <th></th>\n",
              "      <th>country</th>\n",
              "      <th>age</th>\n",
              "      <th>new_user</th>\n",
              "      <th>source</th>\n",
              "      <th>total_pages_visited</th>\n",
              "      <th>converted</th>\n",
              "    </tr>\n",
              "  </thead>\n",
              "  <tbody>\n",
              "    <tr>\n",
              "      <th>0</th>\n",
              "      <td>China</td>\n",
              "      <td>22</td>\n",
              "      <td>1</td>\n",
              "      <td>Direct</td>\n",
              "      <td>2</td>\n",
              "      <td>0</td>\n",
              "    </tr>\n",
              "    <tr>\n",
              "      <th>1</th>\n",
              "      <td>UK</td>\n",
              "      <td>21</td>\n",
              "      <td>1</td>\n",
              "      <td>Ads</td>\n",
              "      <td>3</td>\n",
              "      <td>0</td>\n",
              "    </tr>\n",
              "    <tr>\n",
              "      <th>2</th>\n",
              "      <td>Germany</td>\n",
              "      <td>20</td>\n",
              "      <td>0</td>\n",
              "      <td>Seo</td>\n",
              "      <td>14</td>\n",
              "      <td>1</td>\n",
              "    </tr>\n",
              "    <tr>\n",
              "      <th>3</th>\n",
              "      <td>US</td>\n",
              "      <td>23</td>\n",
              "      <td>1</td>\n",
              "      <td>Seo</td>\n",
              "      <td>3</td>\n",
              "      <td>0</td>\n",
              "    </tr>\n",
              "    <tr>\n",
              "      <th>4</th>\n",
              "      <td>US</td>\n",
              "      <td>28</td>\n",
              "      <td>1</td>\n",
              "      <td>Direct</td>\n",
              "      <td>3</td>\n",
              "      <td>0</td>\n",
              "    </tr>\n",
              "  </tbody>\n",
              "</table>\n",
              "</div>"
            ],
            "text/plain": [
              "   country  age  new_user  source  total_pages_visited  converted\n",
              "0    China   22         1  Direct                    2          0\n",
              "1       UK   21         1     Ads                    3          0\n",
              "2  Germany   20         0     Seo                   14          1\n",
              "3       US   23         1     Seo                    3          0\n",
              "4       US   28         1  Direct                    3          0"
            ]
          },
          "execution_count": 3,
          "metadata": {},
          "output_type": "execute_result"
        }
      ],
      "source": [
        "# Visualizing 5 rows from the dataset \n",
        "\n",
        "conversion.head()"
      ]
    },
    {
      "cell_type": "code",
      "execution_count": 4,
      "metadata": {},
      "outputs": [
        {
          "name": "stdout",
          "output_type": "stream",
          "text": [
            "-----------------------\n",
            "Separating X from Y ...\n",
            "-----------------------\n",
            "\n",
            "Explanatory variables :  Index(['total_pages_visited'], dtype='object')\n",
            "\n",
            "-----------------------\n",
            "...Done\n",
            "-----------------------\n"
          ]
        }
      ],
      "source": [
        "print('-----------------------')\n",
        "print('Separating X from Y ...')\n",
        "print('-----------------------')\n",
        "print()\n",
        "features_list = ['total_pages_visited']\n",
        "numeric_indices = [0]\n",
        "categorical_indices = []\n",
        "target_variable = 'converted'\n",
        "\n",
        "X = conversion.loc[:, features_list]\n",
        "Y = conversion.loc[:, target_variable]\n",
        "\n",
        "print('Explanatory variables : ', X.columns)\n",
        "\n",
        "print()\n",
        "print('-----------------------')\n",
        "print('...Done')\n",
        "print('-----------------------')"
      ]
    },
    {
      "cell_type": "code",
      "execution_count": 5,
      "metadata": {},
      "outputs": [
        {
          "name": "stdout",
          "output_type": "stream",
          "text": [
            "--------------------------------\n",
            "     Train Test Split ...\n",
            "--------------------------------\n",
            "\n",
            "\n",
            "--------------------------------\n",
            "             ...Done\n",
            "--------------------------------\n"
          ]
        }
      ],
      "source": [
        "print('--------------------------------')\n",
        "print('     Train Test Split ...')\n",
        "print('--------------------------------')\n",
        "print()\n",
        "\n",
        "X_train, X_test, Y_train, Y_test = train_test_split(X, Y, test_size=0.1, random_state=0)\n",
        "\n",
        "\n",
        "print()\n",
        "print('--------------------------------')\n",
        "print('             ...Done')\n",
        "print('--------------------------------')"
      ]
    },
    {
      "cell_type": "code",
      "execution_count": 6,
      "metadata": {},
      "outputs": [
        {
          "name": "stdout",
          "output_type": "stream",
          "text": [
            "--------------------------------\n",
            "       Preprocessing ...\n",
            "--------------------------------\n",
            "\n",
            "\n",
            "Preprocessing on X_train : \n",
            "\n",
            "...Done\n",
            "[[-0.26070136]\n",
            " [ 0.93728655]\n",
            " [-0.85969532]\n",
            " [-0.56019834]\n",
            " [-0.26070136]]\n",
            "\n",
            "\n",
            "Preprocessing on X_test : \n",
            "\n",
            "...Done\n",
            "[[ 0.63778957]\n",
            " [ 0.03879562]\n",
            " [-0.26070136]\n",
            " [-0.26070136]\n",
            " [ 0.63778957]]\n",
            "\n",
            "\n",
            "--------------------------------\n",
            "             ...Done\n",
            "--------------------------------\n"
          ]
        }
      ],
      "source": [
        "print('--------------------------------')\n",
        "print('       Preprocessing ...')\n",
        "print('--------------------------------')\n",
        "print()\n",
        "print()\n",
        "\n",
        "print('Preprocessing on X_train : ')\n",
        "print()\n",
        "featureencoder = StandardScaler()\n",
        "X_train = featureencoder.fit_transform(X_train)\n",
        "print(\"...Done\")\n",
        "print(X_train[0:5,:])\n",
        "\n",
        "print()\n",
        "print()\n",
        "\n",
        "print('Preprocessing on X_test : ')\n",
        "print()\n",
        "X_test = featureencoder.transform(X_test)\n",
        "print(\"...Done\")\n",
        "print(X_test[0:5,:])\n",
        "\n",
        "print()\n",
        "print()\n",
        "print('--------------------------------')\n",
        "print('             ...Done')\n",
        "print('--------------------------------')"
      ]
    },
    {
      "cell_type": "code",
      "execution_count": 7,
      "metadata": {},
      "outputs": [
        {
          "name": "stdout",
          "output_type": "stream",
          "text": [
            "--------------------------------\n",
            "       Training the Model ...\n",
            "--------------------------------\n",
            "\n",
            "\n",
            "--------------------------------\n",
            "             ...Done\n",
            "--------------------------------\n"
          ]
        }
      ],
      "source": [
        "print('--------------------------------')\n",
        "print('       Training the Model ...')\n",
        "print('--------------------------------')\n",
        "print()\n",
        "\n",
        "classifier = LogisticRegression()\n",
        "classifier.fit(X_train, Y_train)\n",
        "\n",
        "\n",
        "print()\n",
        "print('--------------------------------')\n",
        "print('             ...Done')\n",
        "print('--------------------------------')"
      ]
    },
    {
      "cell_type": "code",
      "execution_count": 8,
      "metadata": {},
      "outputs": [
        {
          "name": "stdout",
          "output_type": "stream",
          "text": [
            "--------------------------------\n",
            "       Predictions ...\n",
            "--------------------------------\n",
            "\n",
            "\n",
            "Predictions on training set :\n",
            "\n",
            "[0 0 0 ... 0 0 0]\n",
            "\n",
            "\n",
            "Predictions on test set : \n",
            "\n",
            "...Done.\n",
            "[0 0 0 ... 0 0 0]\n",
            "\n",
            "\n",
            "--------------------------------\n",
            "             ...Done\n",
            "--------------------------------\n"
          ]
        }
      ],
      "source": [
        "print('--------------------------------')\n",
        "print('       Predictions ...')\n",
        "print('--------------------------------')\n",
        "print()\n",
        "print()\n",
        "\n",
        "print(\"Predictions on training set :\")\n",
        "print()\n",
        "Y_train_pred = classifier.predict(X_train)\n",
        "print(Y_train_pred)\n",
        "\n",
        "print()\n",
        "print()\n",
        "\n",
        "print(\"Predictions on test set : \")\n",
        "print()\n",
        "Y_test_pred = classifier.predict(X_test)\n",
        "print(\"...Done.\")\n",
        "print(Y_test_pred)\n",
        "\n",
        "print()\n",
        "print()\n",
        "print('--------------------------------')\n",
        "print('             ...Done')\n",
        "print('--------------------------------')"
      ]
    },
    {
      "cell_type": "code",
      "execution_count": 9,
      "metadata": {},
      "outputs": [
        {
          "name": "stdout",
          "output_type": "stream",
          "text": [
            "--------------------------------\n",
            "       Performances ...\n",
            "--------------------------------\n",
            "\n",
            "\n",
            "F1-score on train set :  0.6938517686692869\n",
            "\n",
            "F1-score on test set :  0.7060240963855423\n",
            "\n",
            "\n",
            "--------------------------------\n",
            "             ...Done\n",
            "--------------------------------\n"
          ]
        }
      ],
      "source": [
        "print('--------------------------------')\n",
        "print('       Performances ...')\n",
        "print('--------------------------------')\n",
        "print()\n",
        "print()\n",
        "\n",
        "model_1_train_f1score = f1_score(Y_train, Y_train_pred)\n",
        "model_1_test_f1score = f1_score(Y_test, Y_test_pred)\n",
        "\n",
        "print(\"F1-score on train set : \", model_1_train_f1score)\n",
        "print()\n",
        "print(\"F1-score on test set : \", model_1_test_f1score)\n",
        "\n",
        "\n",
        "print()\n",
        "print()\n",
        "print('--------------------------------')\n",
        "print('             ...Done')\n",
        "print('--------------------------------')"
      ]
    },
    {
      "cell_type": "code",
      "execution_count": 10,
      "metadata": {},
      "outputs": [
        {
          "name": "stdout",
          "output_type": "stream",
          "text": [
            "--------------------------------\n",
            "       Confusion Matrix ...\n",
            "--------------------------------\n",
            "\n",
            "\n",
            "Confusion matrix on train set : \n",
            "\n",
            "[[246817   1082]\n",
            " [  3280   4943]]\n",
            "\n",
            "\n",
            "+++++++++++++++++++++++++++++++ \n",
            "\n",
            "\n",
            "Confusion matrix on test set : \n",
            "\n",
            "[[27384   117]\n",
            " [  371   586]]\n",
            "\n",
            "\n",
            "\n",
            "--------------------------------\n",
            "             ...Done\n",
            "--------------------------------\n"
          ]
        }
      ],
      "source": [
        "print('--------------------------------')\n",
        "print('       Confusion Matrix ...')\n",
        "print('--------------------------------')\n",
        "print()\n",
        "print()\n",
        "\n",
        "print(\"Confusion matrix on train set : \")\n",
        "print()\n",
        "print(confusion_matrix(Y_train, Y_train_pred))\n",
        "\n",
        "print()\n",
        "print()\n",
        "print('+++++++++++++++++++++++++++++++ ')\n",
        "print()\n",
        "print()\n",
        "\n",
        "print(\"Confusion matrix on test set : \")\n",
        "print()\n",
        "print(confusion_matrix(Y_test, Y_test_pred))\n",
        "print()\n",
        "\n",
        "print()\n",
        "print()\n",
        "print('--------------------------------')\n",
        "print('             ...Done')\n",
        "print('--------------------------------')"
      ]
    },
    {
      "cell_type": "code",
      "execution_count": 11,
      "metadata": {},
      "outputs": [
        {
          "name": "stdout",
          "output_type": "stream",
          "text": [
            "---------------------------------------------------------\n",
            "             Visualizing Confusion Matrix ...\n",
            "---------------------------------------------------------\n",
            "\n",
            "\n",
            "Confusion matrix on train set : \n",
            "\n"
          ]
        },
        {
          "data": {
            "image/png": "[encoded data removed]",
            "text/plain": [
              "<Figure size 400x400 with 2 Axes>"
            ]
          },
          "metadata": {},
          "output_type": "display_data"
        },
        {
          "name": "stdout",
          "output_type": "stream",
          "text": [
            "\n",
            "\n",
            "++++++++++++++++++++++++++++++++++++++++++++++++++++++++++\n",
            "\n",
            "\n",
            "Confusion matrix on test set : \n",
            "\n"
          ]
        },
        {
          "data": {
            "image/png": "[encoded data removed]",
            "text/plain": [
              "<Figure size 400x400 with 2 Axes>"
            ]
          },
          "metadata": {},
          "output_type": "display_data"
        },
        {
          "name": "stdout",
          "output_type": "stream",
          "text": [
            "\n",
            "\n",
            "---------------------------------------------------------\n",
            "                         ...Done\n",
            "---------------------------------------------------------\n"
          ]
        }
      ],
      "source": [
        "print('---------------------------------------------------------')\n",
        "print('             Visualizing Confusion Matrix ...')\n",
        "print('---------------------------------------------------------')\n",
        "print()\n",
        "print()\n",
        "\n",
        "\n",
        "print(\"Confusion matrix on train set : \")\n",
        "print()\n",
        "\n",
        "_, ax = plt.subplots(figsize=(4,4))\n",
        "ax.set(title=\"Confusion Matrix on Train Set\")\n",
        "ConfusionMatrixDisplay.from_estimator(classifier, X_train, Y_train, ax=ax)\n",
        "plt.show()\n",
        "\n",
        "print()\n",
        "print()\n",
        "print('++++++++++++++++++++++++++++++++++++++++++++++++++++++++++')\n",
        "print()\n",
        "print()\n",
        "\n",
        "print(\"Confusion matrix on test set : \")\n",
        "print()\n",
        "\n",
        "_, ax = plt.subplots(figsize=(4,4))\n",
        "ax.set(title=\"Confusion Matrix on Test Set\")\n",
        "ConfusionMatrixDisplay.from_estimator(classifier, X_test, Y_test, ax=ax)\n",
        "plt.show()\n",
        "\n",
        "\n",
        "print()\n",
        "print()\n",
        "print('---------------------------------------------------------')\n",
        "print('                         ...Done')\n",
        "print('---------------------------------------------------------')"
      ]
    },
    {
      "cell_type": "code",
      "execution_count": 12,
      "metadata": {},
      "outputs": [
        {
          "name": "stdout",
          "output_type": "stream",
          "text": [
            "---------------------------------------------------------\n",
            "             Visualizing ROC Curves ...\n",
            "---------------------------------------------------------\n",
            "\n",
            "\n",
            "ROC Curve on train set : \n",
            "\n"
          ]
        },
        {
          "data": {
            "image/png": "[encoded data removed]",
            "text/plain": [
              "<Figure size 400x400 with 1 Axes>"
            ]
          },
          "metadata": {},
          "output_type": "display_data"
        },
        {
          "name": "stdout",
          "output_type": "stream",
          "text": [
            "\n",
            "\n",
            "++++++++++++++++++++++++++++++++++++++++++++++++++++++++++\n",
            "\n",
            "\n",
            "ROC Curve on test set : \n",
            "\n"
          ]
        },
        {
          "data": {
            "image/png": "[encoded data removed]",
            "text/plain": [
              "<Figure size 400x400 with 1 Axes>"
            ]
          },
          "metadata": {},
          "output_type": "display_data"
        },
        {
          "name": "stdout",
          "output_type": "stream",
          "text": [
            "\n",
            "\n",
            "---------------------------------------------------------\n",
            "                         ...Done\n",
            "---------------------------------------------------------\n"
          ]
        }
      ],
      "source": [
        "print('---------------------------------------------------------')\n",
        "print('             Visualizing ROC Curves ...')\n",
        "print('---------------------------------------------------------')\n",
        "print()\n",
        "print()\n",
        "\n",
        "\n",
        "print(\"ROC Curve on train set : \")\n",
        "print()\n",
        "\n",
        "_, ax = plt.subplots(figsize=(4,4))\n",
        "ax.set(title=\"ROC Curve on Train Set\")\n",
        "RocCurveDisplay.from_estimator(classifier, X_train, Y_train, ax=ax)\n",
        "plt.show()\n",
        "\n",
        "print()\n",
        "print()\n",
        "print('++++++++++++++++++++++++++++++++++++++++++++++++++++++++++')\n",
        "print()\n",
        "print()\n",
        "\n",
        "print(\"ROC Curve on test set : \")\n",
        "print()\n",
        "\n",
        "_, ax = plt.subplots(figsize=(4,4))\n",
        "ax.set(title=\"ROC Curve on Test Set\")\n",
        "RocCurveDisplay.from_estimator(classifier, X_test, Y_test, ax=ax)\n",
        "plt.show()\n",
        "\n",
        "\n",
        "print()\n",
        "print()\n",
        "print('---------------------------------------------------------')\n",
        "print('                         ...Done')\n",
        "print('---------------------------------------------------------')"
      ]
    },
    {
      "cell_type": "markdown",
      "metadata": {},
      "source": [
        "-----"
      ]
    },
    {
      "cell_type": "markdown",
      "metadata": {},
      "source": [
        "## 🔷 **PART 2️⃣ :** **Improving F1 Score** of the Model"
      ]
    },
    {
      "cell_type": "markdown",
      "metadata": {},
      "source": [
        "-----"
      ]
    },
    {
      "cell_type": "markdown",
      "metadata": {},
      "source": [
        "- Our basline model is not bad but **could be way more better in term of performances**. \n",
        "- We have seen before thanks to the EDA done in part 1 that the **total number of pages visited is the most correlated to the target variable**. \n",
        "- Let's retry our Logitic Regression model but this time **with all variables, setting some parameters** and test if it is better or not \n",
        "- Then we will **test several other models**, for some of them not linear, and **put them in a dataframe in order to regroup performances**.\n",
        "\n",
        "\n",
        "- As mentioned in the project, **the only metric we will focus on is the F1 SCORE** (the Accuracy is not really a good metric in that case as the target is imbalanced), it is a metric that combine precision and recall :)\n"
      ]
    },
    {
      "cell_type": "markdown",
      "metadata": {},
      "source": [
        "### **A. Logitic Regression with ALL Explanatory variables included** 🌷"
      ]
    },
    {
      "cell_type": "markdown",
      "metadata": {},
      "source": [
        "### <ins>MODEL 2</ins> 🌷"
      ]
    },
    {
      "cell_type": "code",
      "execution_count": 13,
      "metadata": {},
      "outputs": [
        {
          "name": "stdout",
          "output_type": "stream",
          "text": [
            "---------------------------------------------------------\n",
            "             Separation of Features from Label \n",
            "---------------------------------------------------------\n",
            "\n",
            "\n",
            "Here are our Explanatory variables :\n",
            "\n",
            "   country  age  new_user  source  total_pages_visited\n",
            "0    China   22         1  Direct                    2\n",
            "1       UK   21         1     Ads                    3\n",
            "2  Germany   20         0     Seo                   14\n",
            "3       US   23         1     Seo                    3\n",
            "4       US   28         1  Direct                    3\n",
            "\n",
            "\n",
            "Here is our Target variable:\n",
            "\n",
            "0    0\n",
            "1    0\n",
            "2    1\n",
            "3    0\n",
            "4    0\n",
            "Name: converted, dtype: int64\n",
            "\n",
            "\n",
            "---------------------------------------------------------\n",
            "---------------------------------------------------------\n"
          ]
        }
      ],
      "source": [
        "print('---------------------------------------------------------')\n",
        "print('             Separation of Features from Label ')\n",
        "print('---------------------------------------------------------')\n",
        "print()\n",
        "print()\n",
        "\n",
        "target_variable = 'converted'\n",
        "\n",
        "X2 = conversion.drop(target_variable, axis=1)\n",
        "Y2 = conversion.loc[:, target_variable]\n",
        "\n",
        "print('Here are our Explanatory variables :')\n",
        "print()\n",
        "print(X2.head())\n",
        "\n",
        "print()\n",
        "print()\n",
        "\n",
        "print('Here is our Target variable:')\n",
        "print()\n",
        "print(Y2.head())\n",
        "\n",
        "print()\n",
        "print()\n",
        "print('---------------------------------------------------------')\n",
        "print('---------------------------------------------------------')"
      ]
    },
    {
      "cell_type": "code",
      "execution_count": 14,
      "metadata": {},
      "outputs": [
        {
          "name": "stdout",
          "output_type": "stream",
          "text": [
            "---------------------------------------------------------\n",
            "            T R A I N    T E S T   S P L I T \n",
            "---------------------------------------------------------\n",
            "\n",
            "\n",
            "                     . . . Done.\n",
            "\n",
            "\n",
            "---------------------------------------------------------\n",
            "---------------------------------------------------------\n"
          ]
        }
      ],
      "source": [
        "print('---------------------------------------------------------')\n",
        "print('            T R A I N    T E S T   S P L I T ')\n",
        "print('---------------------------------------------------------')\n",
        "print()\n",
        "print()\n",
        "\n",
        "X_train2, X_test2, Y_train2, Y_test2 = train_test_split(X2, Y2, \n",
        "                                                    test_size=0.2, \n",
        "                                                    random_state=23,\n",
        "                                                    stratify=Y)\n",
        "\n",
        "print('                     . . . Done.')\n",
        "print()\n",
        "print()\n",
        "print('---------------------------------------------------------')\n",
        "print('---------------------------------------------------------')"
      ]
    },
    {
      "cell_type": "code",
      "execution_count": 15,
      "metadata": {},
      "outputs": [
        {
          "name": "stdout",
          "output_type": "stream",
          "text": [
            "---------------------------------------------------------------------------\n",
            "               P I P E L I N E    I N    P R O G R E S S \n",
            "---------------------------------------------------------------------------\n",
            "\n",
            "\n",
            "Numerical pipeline ...\n",
            "\n",
            "...Done\n",
            "\n",
            "---------------------------------------------------------------------------\n",
            "\n",
            "Categorical pipeline ...\n",
            "\n",
            "...Done\n",
            "\n",
            "****************************************************************************\n",
            "\n",
            "Creating preprocessor2 object in order to apply treatment from Pipelines...\n",
            "\n",
            "...Done\n",
            "\n",
            "\n",
            "---------------------------------------------------------------------------\n",
            "---------------------------------------------------------------------------\n"
          ]
        }
      ],
      "source": [
        "print('---------------------------------------------------------------------------')\n",
        "print('               P I P E L I N E    I N    P R O G R E S S ')\n",
        "print('---------------------------------------------------------------------------')\n",
        "print()\n",
        "print()\n",
        "\n",
        "print('Numerical pipeline ...')\n",
        "print()\n",
        "\n",
        "\n",
        "numerical_features2 = ['age', 'total_pages_visited']\n",
        "numerical_transformer2 = Pipeline(steps=[\n",
        "    ('imputer', SimpleImputer(strategy='mean')),\n",
        "    ('scaler', StandardScaler())\n",
        "])\n",
        "\n",
        "print('...Done')\n",
        "\n",
        "print()\n",
        "print('---------------------------------------------------------------------------')\n",
        "print()\n",
        "\n",
        "print('Categorical pipeline ...')\n",
        "print()\n",
        "\n",
        "categorical_features2 = ['country', 'new_user', 'source']\n",
        "categorical_transformer2 = Pipeline(steps=[\n",
        "    ('imputer', SimpleImputer(strategy='most_frequent')),\n",
        "    ('encoder', OneHotEncoder(drop='first'))\n",
        "])\n",
        "\n",
        "print('...Done')\n",
        "\n",
        "print()\n",
        "print('****************************************************************************')\n",
        "print()\n",
        "\n",
        "print('Creating preprocessor2 object in order to apply treatment from Pipelines...')\n",
        "print()\n",
        "preprocessor2 = ColumnTransformer(transformers=[\n",
        "    ('num', numerical_transformer2, numerical_features2),\n",
        "    ('cat', categorical_transformer2, categorical_features2)\n",
        "])\n",
        "print('...Done')\n",
        "\n",
        "\n",
        "print()\n",
        "print()\n",
        "print('---------------------------------------------------------------------------')\n",
        "print('---------------------------------------------------------------------------')\n",
        "\n"
      ]
    },
    {
      "cell_type": "code",
      "execution_count": 16,
      "metadata": {},
      "outputs": [
        {
          "name": "stdout",
          "output_type": "stream",
          "text": [
            "---------------------------------------------------------------------------\n",
            "                       P R E P R O C E S S I N G \n",
            "---------------------------------------------------------------------------\n",
            "\n",
            "\n",
            "Performing preprocessings on train set...\n",
            "\n",
            "       country  age  new_user source  total_pages_visited\n",
            "234907      UK   26         1    Seo                    6\n",
            "80834    China   36         0    Ads                    5\n",
            "71821    China   23         1    Seo                    4\n",
            "258959   China   24         1    Seo                    3\n",
            "185793      UK   26         1    Seo                    2\n",
            "...Done.\n",
            "\n",
            "[[-0.55318482  0.33770426  0.          1.          0.          1.\n",
            "   0.          1.        ]\n",
            " [ 0.65637087  0.03832223  0.          0.          0.          0.\n",
            "   0.          0.        ]\n",
            " [-0.91605152 -0.26105981  0.          0.          0.          1.\n",
            "   0.          1.        ]\n",
            " [-0.79509596 -0.56044184  0.          0.          0.          1.\n",
            "   0.          1.        ]\n",
            " [-0.55318482 -0.85982387  0.          1.          0.          1.\n",
            "   0.          1.        ]]\n",
            "\n",
            "\n",
            "****************************************************************************\n",
            "\n",
            "Performing preprocessings on test set...\n",
            "\n",
            "       country  age  new_user source  total_pages_visited\n",
            "19248       UK   35         0    Ads                    4\n",
            "131990      US   26         1    Seo                    8\n",
            "244066      US   21         0    Seo                   12\n",
            "90025       US   17         1    Seo                    3\n",
            "259533      US   29         1    Seo                    1\n",
            "...Done.\n",
            "\n",
            "[[ 0.5354153  -0.26105981  0.          1.          0.          0.\n",
            "   0.          0.        ]\n",
            " [-0.55318482  0.93646832  0.          0.          1.          1.\n",
            "   0.          1.        ]\n",
            " [-1.15796266  2.13399645  0.          0.          1.          0.\n",
            "   0.          1.        ]\n",
            " [-1.64178494 -0.56044184  0.          0.          1.          1.\n",
            "   0.          1.        ]\n",
            " [-0.19031811 -1.1592059   0.          0.          1.          1.\n",
            "   0.          1.        ]]\n",
            "\n",
            "\n",
            "\n",
            "---------------------------------------------------------------------------\n",
            "---------------------------------------------------------------------------\n"
          ]
        }
      ],
      "source": [
        "print('---------------------------------------------------------------------------')\n",
        "print('                       P R E P R O C E S S I N G ')\n",
        "print('---------------------------------------------------------------------------')\n",
        "print()\n",
        "print()\n",
        "\n",
        "print(\"Performing preprocessings on train set...\")\n",
        "print()\n",
        "print(X_train2.head())\n",
        "X_train2 = preprocessor2.fit_transform(X_train2)\n",
        "print('...Done.')\n",
        "print()\n",
        "print(X_train2[0:5]) \n",
        "print()\n",
        "\n",
        "print()\n",
        "print('****************************************************************************')\n",
        "print()\n",
        "\n",
        "\n",
        "print(\"Performing preprocessings on test set...\")\n",
        "print()\n",
        "print(X_test2.head()) \n",
        "X_test2 = preprocessor2.transform(X_test2) \n",
        "print('...Done.')\n",
        "print()\n",
        "print(X_test2[0:5,:])\n",
        "print()\n",
        "\n",
        "\n",
        "print()\n",
        "print()\n",
        "print('---------------------------------------------------------------------------')\n",
        "print('---------------------------------------------------------------------------')"
      ]
    },
    {
      "cell_type": "code",
      "execution_count": 17,
      "metadata": {},
      "outputs": [
        {
          "name": "stdout",
          "output_type": "stream",
          "text": [
            "---------------------------------------------------------------------------\n",
            "                       T R A N I N G    M O D E L\n",
            "---------------------------------------------------------------------------\n",
            "\n",
            "\n",
            "                             Train model...\n",
            "\n",
            "                                 ...Done.\n",
            "\n",
            "\n",
            "---------------------------------------------------------------------------\n",
            "---------------------------------------------------------------------------\n"
          ]
        }
      ],
      "source": [
        "print('---------------------------------------------------------------------------')\n",
        "print('                       T R A N I N G    M O D E L')\n",
        "print('---------------------------------------------------------------------------')\n",
        "print()\n",
        "print()\n",
        "\n",
        "print(\"                             Train model...\")\n",
        "print()\n",
        "classifier2 = LogisticRegression()\n",
        "classifier2.fit(X_train2, Y_train2)\n",
        "print(\"                                 ...Done.\")\n",
        "\n",
        "print()\n",
        "print()\n",
        "print('---------------------------------------------------------------------------')\n",
        "print('---------------------------------------------------------------------------')\n",
        "\n"
      ]
    },
    {
      "cell_type": "code",
      "execution_count": 18,
      "metadata": {},
      "outputs": [
        {
          "name": "stdout",
          "output_type": "stream",
          "text": [
            "---------------------------------------------------------------------------\n",
            "                       P R E D I C T I O N S\n",
            "---------------------------------------------------------------------------\n",
            "\n",
            "\n",
            "Predictions on the train set...\n",
            "\n",
            "[0 0 0 ... 0 0 0]\n",
            "...Done\n",
            "\n",
            "****************************************************************************\n",
            "\n",
            "Predictions on test set...\n",
            "\n",
            "...Done.\n",
            "[0 0 1 ... 0 0 0]\n",
            "\n",
            "\n",
            "---------------------------------------------------------------------------\n",
            "---------------------------------------------------------------------------\n"
          ]
        }
      ],
      "source": [
        "print('---------------------------------------------------------------------------')\n",
        "print('                       P R E D I C T I O N S')\n",
        "print('---------------------------------------------------------------------------')\n",
        "print()\n",
        "print()\n",
        "\n",
        "print('Predictions on the train set...')\n",
        "print()\n",
        "Y_train_pred2 = classifier2.predict(X_train2)\n",
        "print(Y_train_pred2)\n",
        "print('...Done')\n",
        "\n",
        "print()\n",
        "print('****************************************************************************')\n",
        "print()\n",
        "\n",
        "print(\"Predictions on test set...\")\n",
        "print()\n",
        "Y_test_pred2 = classifier2.predict(X_test2)\n",
        "print(\"...Done.\")\n",
        "print(Y_test_pred2)\n",
        "\n",
        "\n",
        "print()\n",
        "print()\n",
        "print('---------------------------------------------------------------------------')\n",
        "print('---------------------------------------------------------------------------')"
      ]
    },
    {
      "cell_type": "code",
      "execution_count": 19,
      "metadata": {},
      "outputs": [
        {
          "name": "stdout",
          "output_type": "stream",
          "text": [
            "---------------------------------------------------------------------------\n",
            "                       P E R F O R M A N C E S\n",
            "---------------------------------------------------------------------------\n",
            "\n",
            "\n",
            "Performances on the train set :  0.7650207312476442\n",
            "\n",
            "****************************************************************************\n",
            "\n",
            "Performances on the test set :  0.7563791008505467\n",
            "\n",
            "\n",
            "---------------------------------------------------------------------------\n",
            "---------------------------------------------------------------------------\n"
          ]
        }
      ],
      "source": [
        "print('---------------------------------------------------------------------------')\n",
        "print('                       P E R F O R M A N C E S')\n",
        "print('---------------------------------------------------------------------------')\n",
        "print()\n",
        "print()\n",
        "\n",
        "model_2_train_f1score = f1_score(Y_train2, Y_train_pred2)\n",
        "model_2_test_f1score = f1_score(Y_test2, Y_test_pred2)\n",
        "\n",
        "print('Performances on the train set : ', model_2_train_f1score)\n",
        "\n",
        "print()\n",
        "print('****************************************************************************')\n",
        "print()\n",
        "\n",
        "print('Performances on the test set : ', model_2_test_f1score)\n",
        "\n",
        "\n",
        "print()\n",
        "print()\n",
        "print('---------------------------------------------------------------------------')\n",
        "print('---------------------------------------------------------------------------')"
      ]
    },
    {
      "cell_type": "code",
      "execution_count": 20,
      "metadata": {},
      "outputs": [
        {
          "name": "stdout",
          "output_type": "stream",
          "text": [
            "---------------------------------------------------------\n",
            "        MODEL 2 : C O N F U S I O N   M A T R I X \n",
            "---------------------------------------------------------\n",
            "\n",
            "\n",
            "MODEL 2 -- Confusion matrix on train set : \n",
            "\n"
          ]
        },
        {
          "data": {
            "image/png": "[encoded data removed]",
            "text/plain": [
              "<Figure size 500x500 with 2 Axes>"
            ]
          },
          "metadata": {},
          "output_type": "display_data"
        },
        {
          "name": "stdout",
          "output_type": "stream",
          "text": [
            "\n",
            "\n",
            "++++++++++++++++++++++++++++++++++++++++++++++++++++++++++\n",
            "\n",
            "\n",
            "MODEL 2 -- Confusion matrix on test set: \n",
            "\n"
          ]
        },
        {
          "data": {
            "image/png": "[encoded data removed]",
            "text/plain": [
              "<Figure size 500x500 with 2 Axes>"
            ]
          },
          "metadata": {},
          "output_type": "display_data"
        },
        {
          "name": "stdout",
          "output_type": "stream",
          "text": [
            "\n",
            "\n",
            "---------------------------------------------------------\n",
            "---------------------------------------------------------\n"
          ]
        }
      ],
      "source": [
        "print('---------------------------------------------------------')\n",
        "print('        MODEL 2 : C O N F U S I O N   M A T R I X ')\n",
        "print('---------------------------------------------------------')\n",
        "print()\n",
        "print()\n",
        "\n",
        "\n",
        "print(\"MODEL 2 -- Confusion matrix on train set : \")\n",
        "print()\n",
        "\n",
        "_, ax = plt.subplots(figsize=(5,5))\n",
        "ax.set(title=\"MODEL 2 Confusion Matrix on Train\")\n",
        "ConfusionMatrixDisplay.from_estimator(classifier2, X_train2, Y_train2, ax=ax)\n",
        "plt.show()\n",
        "\n",
        "print()\n",
        "print()\n",
        "print('++++++++++++++++++++++++++++++++++++++++++++++++++++++++++')\n",
        "print()\n",
        "print()\n",
        "\n",
        "print(\"MODEL 2 -- Confusion matrix on test set: \")\n",
        "print()\n",
        "\n",
        "_, ax = plt.subplots(figsize=(5,5))\n",
        "ax.set(title=\"MODEL 2 Confusion Matrix on Test\")\n",
        "ConfusionMatrixDisplay.from_estimator(classifier2, X_test2, Y_test2, ax=ax)\n",
        "plt.show()\n",
        "\n",
        "\n",
        "print()\n",
        "print()\n",
        "print('---------------------------------------------------------')\n",
        "print('---------------------------------------------------------')"
      ]
    },
    {
      "cell_type": "code",
      "execution_count": 21,
      "metadata": {},
      "outputs": [
        {
          "name": "stdout",
          "output_type": "stream",
          "text": [
            "---------------------------------------------------------\n",
            "             MODEL 2 :  R O C   C U R V E S \n",
            "---------------------------------------------------------\n",
            "\n",
            "\n",
            "MODEL 2 -- ROC Curve on train set : \n",
            "\n"
          ]
        },
        {
          "data": {
            "image/png": "[encoded data removed]",
            "text/plain": [
              "<Figure size 400x400 with 1 Axes>"
            ]
          },
          "metadata": {},
          "output_type": "display_data"
        },
        {
          "name": "stdout",
          "output_type": "stream",
          "text": [
            "\n",
            "\n",
            "++++++++++++++++++++++++++++++++++++++++++++++++++++++++++\n",
            "\n",
            "\n",
            "MODEL 2 -- ROC Curve on test set : \n",
            "\n"
          ]
        },
        {
          "data": {
            "image/png": "[encoded data removed]",
            "text/plain": [
              "<Figure size 400x400 with 1 Axes>"
            ]
          },
          "metadata": {},
          "output_type": "display_data"
        },
        {
          "name": "stdout",
          "output_type": "stream",
          "text": [
            "\n",
            "\n",
            "---------------------------------------------------------\n",
            "                         ...Done\n",
            "---------------------------------------------------------\n"
          ]
        }
      ],
      "source": [
        "print('---------------------------------------------------------')\n",
        "print('             MODEL 2 :  R O C   C U R V E S ')\n",
        "print('---------------------------------------------------------')\n",
        "print()\n",
        "print()\n",
        "\n",
        "\n",
        "print(\"MODEL 2 -- ROC Curve on train set : \")\n",
        "print()\n",
        "\n",
        "_, ax = plt.subplots(figsize=(4,4))\n",
        "ax.set(title=\"ROC Curve on Train Set\")\n",
        "RocCurveDisplay.from_estimator(classifier2, X_train2, Y_train2, ax=ax)\n",
        "plt.show()\n",
        "\n",
        "print()\n",
        "print()\n",
        "print('++++++++++++++++++++++++++++++++++++++++++++++++++++++++++')\n",
        "print()\n",
        "print()\n",
        "\n",
        "print(\"MODEL 2 -- ROC Curve on test set : \")\n",
        "print()\n",
        "\n",
        "_, ax = plt.subplots(figsize=(4,4))\n",
        "ax.set(title=\"MODEL 2 ROC Curve on Test Set\")\n",
        "RocCurveDisplay.from_estimator(classifier2, X_test2, Y_test2, ax=ax)\n",
        "plt.show()\n",
        "\n",
        "\n",
        "print()\n",
        "print()\n",
        "print('---------------------------------------------------------')\n",
        "print('                         ...Done')\n",
        "print('---------------------------------------------------------')"
      ]
    },
    {
      "cell_type": "markdown",
      "metadata": {},
      "source": [
        "### **Interpretation :** 🔍\n",
        "+ Okay so with our Second Model : **MODEL 2 we have better performances** : \n",
        "\n",
        "    - F1 Score on the **train** :  **0.7650**\n",
        "    - F1 Score on the **test** : **0.7563**\n",
        "    - Area under the Curve **(AUC) is higher**\n",
        "    - **True Positive** and **True Negative** observations are **higher too** which means **we predict better than the baseline**\n",
        "    - It means that even if the variable total number of visited pages is the most correlated, **taking into account all of the others variables is important** in order the raise our performances \n",
        "    -\n",
        "\n",
        "\n",
        "+ But as Data Scientists we still haven't raise our goal, we need to try to  **optimize MODEL 2 by tuning hyperparameters**, and this is what we are going to try to do in the next cells of code  "
      ]
    },
    {
      "cell_type": "code",
      "execution_count": 22,
      "metadata": {},
      "outputs": [
        {
          "name": "stdout",
          "output_type": "stream",
          "text": [
            "---------------------------------------------------------------------------\n",
            "      T U N I N G   H Y P E R P A R A M S   //   G R I D  S E A R C H\n",
            "---------------------------------------------------------------------------\n",
            "\n",
            "\n"
          ]
        },
        {
          "name": "stdout",
          "output_type": "stream",
          "text": [
            "MODEL 2 TUNING -- Best hyperparameters :  {'C': 11.288378916846883, 'max_iter': 100, 'penalty': 'l1', 'solver': 'liblinear'}\n",
            "\n",
            "MODEL 2 TUNING -- Best score :  0.9863702652016262\n",
            "\n",
            "\n",
            "---------------------------------------------------------------------------\n",
            "---------------------------------------------------------------------------\n"
          ]
        }
      ],
      "source": [
        "print('---------------------------------------------------------------------------')\n",
        "print('      T U N I N G   H Y P E R P A R A M S   //   G R I D  S E A R C H')\n",
        "print('---------------------------------------------------------------------------')\n",
        "print()\n",
        "print()\n",
        "\n",
        "\n",
        "log_reg_params = [    \n",
        "    {'penalty' : ['l1', 'l2'],\n",
        "    'C' : np.logspace(-4, 4, 20),\n",
        "    'solver' : ['lbfgs','newton-cg','liblinear','sag','saga'],\n",
        "    'max_iter' : [100, 1000, 2500, 5000]\n",
        "    }\n",
        "]\n",
        "\n",
        "grid_search2 = GridSearchCV(classifier2, param_grid=log_reg_params , cv=5, n_jobs=-1)\n",
        "grid_search2.fit(X_train2, Y_train2)\n",
        "\n",
        "\n",
        "\n",
        "print('MODEL 2 TUNING -- Best hyperparameters : ', grid_search2.best_params_)\n",
        "print()\n",
        "print('MODEL 2 TUNING -- Best score : ', grid_search2.best_score_)\n",
        "\n",
        "print()\n",
        "print()\n",
        "print('---------------------------------------------------------------------------')\n",
        "print('---------------------------------------------------------------------------')"
      ]
    },
    {
      "cell_type": "code",
      "execution_count": 23,
      "metadata": {},
      "outputs": [
        {
          "name": "stdout",
          "output_type": "stream",
          "text": [
            "---------------------------------------------------------------------------\n",
            "      P R E D I C T I O N S    O N    M O D E L   2    T U N E D\n",
            "---------------------------------------------------------------------------\n",
            "\n",
            "\n",
            "Predictions on the train set...\n",
            "\n",
            "[0 0 0 ... 0 0 0]\n",
            "...Done\n",
            "\n",
            "****************************************************************************\n",
            "\n",
            "Predictions on test set...\n",
            "\n",
            "...Done.\n",
            "[0 0 1 ... 0 0 0]\n",
            "\n",
            "\n",
            "---------------------------------------------------------------------------\n",
            "---------------------------------------------------------------------------\n"
          ]
        }
      ],
      "source": [
        "print('---------------------------------------------------------------------------')\n",
        "print('      P R E D I C T I O N S    O N    M O D E L   2    T U N E D')\n",
        "print('---------------------------------------------------------------------------')\n",
        "print()\n",
        "print()\n",
        "\n",
        "\n",
        "print('Predictions on the train set...')\n",
        "print()\n",
        "Y_train_pred2_tuned = grid_search2.predict(X_train2)\n",
        "print(Y_train_pred2_tuned)\n",
        "print('...Done')\n",
        "\n",
        "print()\n",
        "print('****************************************************************************')\n",
        "print()\n",
        "\n",
        "print(\"Predictions on test set...\")\n",
        "print()\n",
        "Y_test_pred2_tuned = grid_search2.predict(X_test2)\n",
        "print(\"...Done.\")\n",
        "print(Y_test_pred2_tuned)\n",
        "\n",
        "\n",
        "print()\n",
        "print()\n",
        "print('---------------------------------------------------------------------------')\n",
        "print('---------------------------------------------------------------------------')"
      ]
    },
    {
      "cell_type": "code",
      "execution_count": 24,
      "metadata": {},
      "outputs": [
        {
          "name": "stdout",
          "output_type": "stream",
          "text": [
            "---------------------------------------------------------------------------\n",
            "                       P E R F O R M A N C E S\n",
            "---------------------------------------------------------------------------\n",
            "\n",
            "\n",
            "MODEL 2 TUNED ---- F1 SCORE on train set :  0.7651178552601853\n",
            "\n",
            "MODEL 2 TUNED ---- F1 SCORE on test set :  0.7570518653321201\n",
            "\n",
            "\n",
            "---------------------------------------------------------------------------\n",
            "---------------------------------------------------------------------------\n"
          ]
        }
      ],
      "source": [
        "print('---------------------------------------------------------------------------')\n",
        "print('                       P E R F O R M A N C E S')\n",
        "print('---------------------------------------------------------------------------')\n",
        "print()\n",
        "print()\n",
        "\n",
        "gs2_train_f1score = f1_score(Y_train2, Y_train_pred2_tuned)\n",
        "gs2_test_f1score = f1_score(Y_test2, Y_test_pred2_tuned)\n",
        "\n",
        "print('MODEL 2 TUNED ---- F1 SCORE on train set : ', gs2_train_f1score)\n",
        "print()\n",
        "print('MODEL 2 TUNED ---- F1 SCORE on test set : ', gs2_test_f1score)\n",
        "\n",
        "\n",
        "print()\n",
        "print()\n",
        "print('---------------------------------------------------------------------------')\n",
        "print('---------------------------------------------------------------------------')"
      ]
    },
    {
      "cell_type": "code",
      "execution_count": 25,
      "metadata": {},
      "outputs": [
        {
          "name": "stdout",
          "output_type": "stream",
          "text": [
            "---------------------------------------------------------\n",
            "        MODEL 2 TUNED : C O N F U S I O N   M A T R I X \n",
            "---------------------------------------------------------\n",
            "\n",
            "\n",
            "MODEL 2 TUNED -- Confusion matrix on train set : \n",
            "\n"
          ]
        },
        {
          "data": {
            "image/png": "[encoded data removed]",
            "text/plain": [
              "<Figure size 500x500 with 2 Axes>"
            ]
          },
          "metadata": {},
          "output_type": "display_data"
        },
        {
          "name": "stdout",
          "output_type": "stream",
          "text": [
            "\n",
            "\n",
            "++++++++++++++++++++++++++++++++++++++++++++++++++++++++++\n",
            "\n",
            "\n",
            "MODEL 2 TUNED -- Confusion matrix on test set: \n",
            "\n"
          ]
        },
        {
          "data": {
            "image/png": "[encoded data removed]",
            "text/plain": [
              "<Figure size 500x500 with 2 Axes>"
            ]
          },
          "metadata": {},
          "output_type": "display_data"
        },
        {
          "name": "stdout",
          "output_type": "stream",
          "text": [
            "\n",
            "\n",
            "---------------------------------------------------------\n",
            "---------------------------------------------------------\n"
          ]
        }
      ],
      "source": [
        "print('---------------------------------------------------------')\n",
        "print('        MODEL 2 TUNED : C O N F U S I O N   M A T R I X ')\n",
        "print('---------------------------------------------------------')\n",
        "print()\n",
        "print()\n",
        "\n",
        "\n",
        "print(\"MODEL 2 TUNED -- Confusion matrix on train set : \")\n",
        "print()\n",
        "\n",
        "_, ax = plt.subplots(figsize=(5,5))\n",
        "ax.set(title=\"MODEL 2 TUNED Confusion Matrix on Train\")\n",
        "ConfusionMatrixDisplay.from_estimator(grid_search2, X_train2, Y_train2, ax=ax)\n",
        "plt.show()\n",
        "\n",
        "print()\n",
        "print()\n",
        "print('++++++++++++++++++++++++++++++++++++++++++++++++++++++++++')\n",
        "print()\n",
        "print()\n",
        "\n",
        "print(\"MODEL 2 TUNED -- Confusion matrix on test set: \")\n",
        "print()\n",
        "\n",
        "_, ax = plt.subplots(figsize=(5,5))\n",
        "ax.set(title=\"MODEL 2 TUNED Confusion Matrix on Test\")\n",
        "ConfusionMatrixDisplay.from_estimator(grid_search2, X_test2, Y_test2, ax=ax)\n",
        "plt.show()\n",
        "\n",
        "\n",
        "print()\n",
        "print()\n",
        "print('---------------------------------------------------------')\n",
        "print('---------------------------------------------------------')"
      ]
    },
    {
      "cell_type": "code",
      "execution_count": 26,
      "metadata": {},
      "outputs": [
        {
          "name": "stdout",
          "output_type": "stream",
          "text": [
            "---------------------------------------------------------------------------\n",
            "         MODEL 2 TUNED : C L A S S I F I C A T I O N   R E P O R T\n",
            "---------------------------------------------------------------------------\n",
            "\n",
            "\n",
            "              precision    recall  f1-score   support\n",
            "\n",
            "           0       0.99      1.00      0.99     55080\n",
            "           1       0.85      0.68      0.76      1836\n",
            "\n",
            "    accuracy                           0.99     56916\n",
            "   macro avg       0.92      0.84      0.87     56916\n",
            "weighted avg       0.99      0.99      0.99     56916\n",
            "\n",
            "\n",
            "\n",
            "---------------------------------------------------------------------------\n",
            "---------------------------------------------------------------------------\n"
          ]
        }
      ],
      "source": [
        "print('---------------------------------------------------------------------------')\n",
        "print('         MODEL 2 TUNED : C L A S S I F I C A T I O N   R E P O R T')\n",
        "print('---------------------------------------------------------------------------')\n",
        "print()\n",
        "print()\n",
        "\n",
        "\n",
        "from sklearn.metrics import classification_report\n",
        "\n",
        "print(classification_report(Y_test2, Y_test_pred2_tuned))\n",
        "\n",
        "\n",
        "print()\n",
        "print()\n",
        "print('---------------------------------------------------------------------------')\n",
        "print('---------------------------------------------------------------------------')"
      ]
    },
    {
      "cell_type": "markdown",
      "metadata": {},
      "source": [
        "#### **Interpretation :** 🔍\n",
        "\n",
        "+ Woah, performances seem really really good here on **MODEL 2 TUNED** : \n",
        "\n",
        "    - Score on the **train** :  **0.7651**\n",
        "    - Score on the **test** : **0.7570**\n",
        "    - The l2 penalty means we applied **Ridge (L2) regularization** on the model *grid_search2*\n",
        "    - **Better performances than 2 first models**\n",
        "    -\n",
        "\n",
        "\n",
        "+ Still, we can't stop here, we have to try other type of models (**no free lunch theorem**)  "
      ]
    },
    {
      "cell_type": "markdown",
      "metadata": {},
      "source": [
        "---"
      ]
    },
    {
      "cell_type": "markdown",
      "metadata": {},
      "source": [
        "## 🔹 **Plot the models** 📊"
      ]
    },
    {
      "cell_type": "markdown",
      "metadata": {},
      "source": [
        "+ + + + + + + + + + + + + + + + + + + + + + + + + + + + + + + +"
      ]
    },
    {
      "cell_type": "markdown",
      "metadata": {},
      "source": [
        "##### ℹ️ *Adding the result from the 3 precedent models into a dataframe* :  "
      ]
    },
    {
      "cell_type": "code",
      "execution_count": 27,
      "metadata": {},
      "outputs": [],
      "source": [
        "scores = [] # list where all the model performances will be stored"
      ]
    },
    {
      "cell_type": "code",
      "execution_count": 28,
      "metadata": {},
      "outputs": [
        {
          "data": {
            "text/plain": [
              "[{'name_model': 'MODEL 1',\n",
              "  'model': 'LogReg Baseline',\n",
              "  'F1_SCORE': 0.6938517686692869,\n",
              "  'set': 'train'},\n",
              " {'name_model': 'MODEL 1',\n",
              "  'model': 'LogReg Baseline',\n",
              "  'F1_SCORE': 0.7060240963855423,\n",
              "  'set': 'test'},\n",
              " {'name_model': 'MODEL 2 (multivar)',\n",
              "  'model': 'LogReg Multivar',\n",
              "  'F1_SCORE': 0.7650207312476442,\n",
              "  'set': 'train'},\n",
              " {'name_model': 'MODEL 2 (multivar)',\n",
              "  'model': 'LogReg Multivar',\n",
              "  'F1_SCORE': 0.7563791008505467,\n",
              "  'set': 'test'},\n",
              " {'name_model': 'MODEL 2 TUNED',\n",
              "  'model': 'LogReg TUNED',\n",
              "  'F1_SCORE': 0.7651178552601853,\n",
              "  'set': 'train'},\n",
              " {'name_model': 'MODEL 2 TUNED',\n",
              "  'model': 'LogReg TUNED',\n",
              "  'F1_SCORE': 0.7570518653321201,\n",
              "  'set': 'test'}]"
            ]
          },
          "execution_count": 28,
          "metadata": {},
          "output_type": "execute_result"
        }
      ],
      "source": [
        "# Adding 'Model 1 (baseline)' into the dataframe \n",
        "scores.append({'name_model': 'MODEL 1',\n",
        "                'model': 'LogReg Baseline', \n",
        "                'F1_SCORE' : model_1_train_f1score,\n",
        "                'set' : 'train'})\n",
        "\n",
        "scores.append({'name_model': 'MODEL 1',\n",
        "                'model': 'LogReg Baseline', \n",
        "                'F1_SCORE' : model_1_test_f1score,\n",
        "                'set' : 'test'})\n",
        "\n",
        "\n",
        "\n",
        "# Adding 'Model 2 (multivariate)' into the dataframe \n",
        "scores.append({'name_model': 'MODEL 2 (multivar)',\n",
        "                'model': 'LogReg Multivar', \n",
        "                'F1_SCORE' : model_2_train_f1score,\n",
        "                'set' : 'train'})\n",
        "\n",
        "scores.append({'name_model': 'MODEL 2 (multivar)',\n",
        "                'model': 'LogReg Multivar', \n",
        "                'F1_SCORE' : model_2_test_f1score,\n",
        "                'set' : 'test'})\n",
        "\n",
        "                \n",
        "\n",
        "# Adding 'Model 2 TUNED' into the dataframe \n",
        "scores.append({'name_model': 'MODEL 2 TUNED',\n",
        "                'model': 'LogReg TUNED', \n",
        "                'F1_SCORE' : gs2_train_f1score,\n",
        "                'set' : 'train'})\n",
        "\n",
        "scores.append({'name_model': 'MODEL 2 TUNED',\n",
        "                'model': 'LogReg TUNED', \n",
        "                'F1_SCORE' : gs2_test_f1score,\n",
        "                'set' : 'test'})\n",
        "\n",
        "scores"
      ]
    },
    {
      "cell_type": "code",
      "execution_count": 29,
      "metadata": {},
      "outputs": [
        {
          "data": {
            "text/html": [
              "<div>\n",
              "<style scoped>\n",
              "    .dataframe tbody tr th:only-of-type {\n",
              "        vertical-align: middle;\n",
              "    }\n",
              "\n",
              "    .dataframe tbody tr th {\n",
              "        vertical-align: top;\n",
              "    }\n",
              "\n",
              "    .dataframe thead th {\n",
              "        text-align: right;\n",
              "    }\n",
              "</style>\n",
              "<table border=\"1\" class=\"dataframe\">\n",
              "  <thead>\n",
              "    <tr style=\"text-align: right;\">\n",
              "      <th></th>\n",
              "      <th>name_model</th>\n",
              "      <th>model</th>\n",
              "      <th>F1_SCORE</th>\n",
              "      <th>set</th>\n",
              "    </tr>\n",
              "  </thead>\n",
              "  <tbody>\n",
              "    <tr>\n",
              "      <th>0</th>\n",
              "      <td>MODEL 1</td>\n",
              "      <td>LogReg Baseline</td>\n",
              "      <td>0.693852</td>\n",
              "      <td>train</td>\n",
              "    </tr>\n",
              "    <tr>\n",
              "      <th>1</th>\n",
              "      <td>MODEL 1</td>\n",
              "      <td>LogReg Baseline</td>\n",
              "      <td>0.706024</td>\n",
              "      <td>test</td>\n",
              "    </tr>\n",
              "    <tr>\n",
              "      <th>2</th>\n",
              "      <td>MODEL 2 (multivar)</td>\n",
              "      <td>LogReg Multivar</td>\n",
              "      <td>0.765021</td>\n",
              "      <td>train</td>\n",
              "    </tr>\n",
              "    <tr>\n",
              "      <th>3</th>\n",
              "      <td>MODEL 2 (multivar)</td>\n",
              "      <td>LogReg Multivar</td>\n",
              "      <td>0.756379</td>\n",
              "      <td>test</td>\n",
              "    </tr>\n",
              "    <tr>\n",
              "      <th>4</th>\n",
              "      <td>MODEL 2 TUNED</td>\n",
              "      <td>LogReg TUNED</td>\n",
              "      <td>0.765118</td>\n",
              "      <td>train</td>\n",
              "    </tr>\n",
              "    <tr>\n",
              "      <th>5</th>\n",
              "      <td>MODEL 2 TUNED</td>\n",
              "      <td>LogReg TUNED</td>\n",
              "      <td>0.757052</td>\n",
              "      <td>test</td>\n",
              "    </tr>\n",
              "  </tbody>\n",
              "</table>\n",
              "</div>"
            ],
            "text/plain": [
              "           name_model            model  F1_SCORE    set\n",
              "0             MODEL 1  LogReg Baseline  0.693852  train\n",
              "1             MODEL 1  LogReg Baseline  0.706024   test\n",
              "2  MODEL 2 (multivar)  LogReg Multivar  0.765021  train\n",
              "3  MODEL 2 (multivar)  LogReg Multivar  0.756379   test\n",
              "4       MODEL 2 TUNED     LogReg TUNED  0.765118  train\n",
              "5       MODEL 2 TUNED     LogReg TUNED  0.757052   test"
            ]
          },
          "execution_count": 29,
          "metadata": {},
          "output_type": "execute_result"
        }
      ],
      "source": [
        "# As the method .append has been deprecated we need to concatenate \n",
        "# ---------------------------------------------------------------------------------------\n",
        "\n",
        "# Creating two dataframes (one empty and the other one containing there 'scores' list)\n",
        "df = pd.DataFrame(columns=['name_model', 'model', 'F1_SCORE', 'set'])\n",
        "df_results = pd.DataFrame(scores, columns=['name_model', 'model', 'F1_SCORE', 'set'])\n",
        "\n",
        "# Concatenate both dataframes in order to create 'perf_final_df' \n",
        "perf_final_df = pd.concat([df, df_results])\n",
        "perf_final_df"
      ]
    },
    {
      "cell_type": "code",
      "execution_count": 30,
      "metadata": {},
      "outputs": [
        {
          "data": {
            "text/html": [
              "<div>\n",
              "<style scoped>\n",
              "    .dataframe tbody tr th:only-of-type {\n",
              "        vertical-align: middle;\n",
              "    }\n",
              "\n",
              "    .dataframe tbody tr th {\n",
              "        vertical-align: top;\n",
              "    }\n",
              "\n",
              "    .dataframe thead th {\n",
              "        text-align: right;\n",
              "    }\n",
              "</style>\n",
              "<table border=\"1\" class=\"dataframe\">\n",
              "  <thead>\n",
              "    <tr style=\"text-align: right;\">\n",
              "      <th></th>\n",
              "      <th>name_model</th>\n",
              "      <th>model</th>\n",
              "      <th>F1_SCORE</th>\n",
              "      <th>set</th>\n",
              "    </tr>\n",
              "  </thead>\n",
              "  <tbody>\n",
              "    <tr>\n",
              "      <th>4</th>\n",
              "      <td>MODEL 2 TUNED</td>\n",
              "      <td>LogReg TUNED</td>\n",
              "      <td>0.765118</td>\n",
              "      <td>train</td>\n",
              "    </tr>\n",
              "    <tr>\n",
              "      <th>2</th>\n",
              "      <td>MODEL 2 (multivar)</td>\n",
              "      <td>LogReg Multivar</td>\n",
              "      <td>0.765021</td>\n",
              "      <td>train</td>\n",
              "    </tr>\n",
              "    <tr>\n",
              "      <th>0</th>\n",
              "      <td>MODEL 1</td>\n",
              "      <td>LogReg Baseline</td>\n",
              "      <td>0.693852</td>\n",
              "      <td>train</td>\n",
              "    </tr>\n",
              "    <tr>\n",
              "      <th>5</th>\n",
              "      <td>MODEL 2 TUNED</td>\n",
              "      <td>LogReg TUNED</td>\n",
              "      <td>0.757052</td>\n",
              "      <td>test</td>\n",
              "    </tr>\n",
              "    <tr>\n",
              "      <th>3</th>\n",
              "      <td>MODEL 2 (multivar)</td>\n",
              "      <td>LogReg Multivar</td>\n",
              "      <td>0.756379</td>\n",
              "      <td>test</td>\n",
              "    </tr>\n",
              "    <tr>\n",
              "      <th>1</th>\n",
              "      <td>MODEL 1</td>\n",
              "      <td>LogReg Baseline</td>\n",
              "      <td>0.706024</td>\n",
              "      <td>test</td>\n",
              "    </tr>\n",
              "  </tbody>\n",
              "</table>\n",
              "</div>"
            ],
            "text/plain": [
              "           name_model            model  F1_SCORE    set\n",
              "4       MODEL 2 TUNED     LogReg TUNED  0.765118  train\n",
              "2  MODEL 2 (multivar)  LogReg Multivar  0.765021  train\n",
              "0             MODEL 1  LogReg Baseline  0.693852  train\n",
              "5       MODEL 2 TUNED     LogReg TUNED  0.757052   test\n",
              "3  MODEL 2 (multivar)  LogReg Multivar  0.756379   test\n",
              "1             MODEL 1  LogReg Baseline  0.706024   test"
            ]
          },
          "execution_count": 30,
          "metadata": {},
          "output_type": "execute_result"
        }
      ],
      "source": [
        "# We sort values to have a descending order of performances f1_scores\n",
        "\n",
        "perf_final_df = perf_final_df.sort_values(by = ['set', 'F1_SCORE'], ascending = False)\n",
        "perf_final_df"
      ]
    },
    {
      "cell_type": "code",
      "execution_count": 31,
      "metadata": {},
      "outputs": [
        {
          "data": {
            "image/svg+xml": [
              "<svg class=\"main-svg\" xmlns=\"http://www.w3.org/2000/svg\" xmlns:xlink=\"http://www.w3.org/1999/xlink\" width=\"900\" height=\"700\" style=\"\" viewBox=\"0 0 900 700\"><rect x=\"0\" y=\"0\" width=\"900\" height=\"700\" style=\"fill: rgb(255, 255, 255); fill-opacity: 1;\"/><defs id=\"defs-a303e7\"><g class=\"clips\"><clipPath id=\"clipa303e7xyplot\" class=\"plotclip\"><rect width=\"721\" height=\"560\"/></clipPath><clipPath class=\"axesclip\" id=\"clipa303e7x\"><rect x=\"80\" y=\"0\" width=\"721\" height=\"700\"/></clipPath><clipPath class=\"axesclip\" id=\"clipa303e7y\"><rect x=\"0\" y=\"60\" width=\"900\" height=\"560\"/></clipPath><clipPath class=\"axesclip\" id=\"clipa303e7xy\"><rect x=\"80\" y=\"60\" width=\"721\" height=\"560\"/></clipPath></g><g class=\"gradients\"/><g class=\"patterns\"/></defs><g class=\"bglayer\"/><g class=\"layer-below\"><g class=\"imagelayer\"/><g class=\"shapelayer\"/></g><g class=\"cartesianlayer\"><g class=\"subplot xy\"><g class=\"layer-subplot\"><g class=\"shapelayer\"/><g class=\"imagelayer\"/></g><g class=\"minor-gridlayer\"><g class=\"x\"/><g class=\"y\"/></g><g class=\"gridlayer\"><g class=\"x\"/><g class=\"y\"><path class=\"ygrid crisp\" transform=\"translate(0,550.47)\" d=\"M80,0h721\" style=\"stroke: rgb(238, 238, 238); stroke-opacity: 1; stroke-width: 1px;\"/><path class=\"ygrid crisp\" transform=\"translate(0,480.94)\" d=\"M80,0h721\" style=\"stroke: rgb(238, 238, 238); stroke-opacity: 1; stroke-width: 1px;\"/><path class=\"ygrid crisp\" transform=\"translate(0,411.4)\" d=\"M80,0h721\" style=\"stroke: rgb(238, 238, 238); stroke-opacity: 1; stroke-width: 1px;\"/><path class=\"ygrid crisp\" transform=\"translate(0,341.87)\" d=\"M80,0h721\" style=\"stroke: rgb(238, 238, 238); stroke-opacity: 1; stroke-width: 1px;\"/><path class=\"ygrid crisp\" transform=\"translate(0,272.34000000000003)\" d=\"M80,0h721\" style=\"stroke: rgb(238, 238, 238); stroke-opacity: 1; stroke-width: 1px;\"/><path class=\"ygrid crisp\" transform=\"translate(0,202.81)\" d=\"M80,0h721\" style=\"stroke: rgb(238, 238, 238); stroke-opacity: 1; stroke-width: 1px;\"/><path class=\"ygrid crisp\" transform=\"translate(0,133.28)\" d=\"M80,0h721\" style=\"stroke: rgb(238, 238, 238); stroke-opacity: 1; stroke-width: 1px;\"/><path class=\"ygrid crisp\" transform=\"translate(0,63.75)\" d=\"M80,0h721\" style=\"stroke: rgb(238, 238, 238); stroke-opacity: 1; stroke-width: 1px;\"/></g></g><g class=\"zerolinelayer\"><path class=\"yzl zl crisp\" transform=\"translate(0,620)\" d=\"M80,0h721\" style=\"stroke: rgb(68, 68, 68); stroke-opacity: 1; stroke-width: 1px;\"/></g><path class=\"xlines-below\"/><path class=\"ylines-below\"/><g class=\"overlines-below\"/><g class=\"xaxislayer-below\"/><g class=\"yaxislayer-below\"/><g class=\"overaxes-below\"/><g class=\"plot\" transform=\"translate(80,60)\" clip-path=\"url(#clipa303e7xyplot)\"><g class=\"barlayer mlayer\"><g class=\"trace bars\" style=\"opacity: 1;\"><g class=\"points\"><g class=\"point\"><path d=\"M24.03,560V28H120.17V560Z\" style=\"vector-effect: none; opacity: 1; stroke-width: 0px; fill: rgb(75, 154, 199); fill-opacity: 1;\"/></g><g class=\"point\"><path d=\"M264.37,560V28.07H360.5V560Z\" style=\"vector-effect: none; opacity: 1; stroke-width: 0px; fill: rgb(75, 154, 199); fill-opacity: 1;\"/></g><g class=\"point\"><path d=\"M504.7,560V77.55H600.83V560Z\" style=\"vector-effect: none; opacity: 1; stroke-width: 0px; fill: rgb(75, 154, 199); fill-opacity: 1;\"/></g></g></g><g class=\"trace bars\" style=\"opacity: 1;\"><g class=\"points\"><g class=\"point\"><path d=\"M120.17,560V33.61H216.3V560Z\" style=\"vector-effect: none; opacity: 1; stroke-width: 0px; fill: rgb(75, 232, 224); fill-opacity: 1;\"/></g><g class=\"point\"><path d=\"M360.5,560V34.08H456.63V560Z\" style=\"vector-effect: none; opacity: 1; stroke-width: 0px; fill: rgb(75, 232, 224); fill-opacity: 1;\"/></g><g class=\"point\"><path d=\"M600.83,560V69.09H696.97V560Z\" style=\"vector-effect: none; opacity: 1; stroke-width: 0px; fill: rgb(75, 232, 224); fill-opacity: 1;\"/></g></g></g></g></g><g class=\"overplot\"/><path class=\"xlines-above crisp\" d=\"M0,0\" style=\"fill: none;\"/><path class=\"ylines-above crisp\" d=\"M0,0\" style=\"fill: none;\"/><g class=\"overlines-above\"/><g class=\"xaxislayer-above\"><g class=\"xtick\"><text text-anchor=\"middle\" x=\"0\" y=\"633\" transform=\"translate(200.17000000000002,0)\" style=\"font-family: 'Open Sans', verdana, arial, sans-serif; font-size: 12px; fill: rgb(68, 68, 68); fill-opacity: 1; white-space: pre; opacity: 1;\">LogReg TUNED</text></g><g class=\"xtick\"><text text-anchor=\"middle\" x=\"0\" y=\"633\" transform=\"translate(440.5,0)\" style=\"font-family: 'Open Sans', verdana, arial, sans-serif; font-size: 12px; fill: rgb(68, 68, 68); fill-opacity: 1; white-space: pre; opacity: 1;\">LogReg Multivar</text></g><g class=\"xtick\"><text text-anchor=\"middle\" x=\"0\" y=\"633\" transform=\"translate(680.83,0)\" style=\"font-family: 'Open Sans', verdana, arial, sans-serif; font-size: 12px; fill: rgb(68, 68, 68); fill-opacity: 1; white-space: pre; opacity: 1;\">LogReg Baseline</text></g></g><g class=\"yaxislayer-above\"><g class=\"ytick\"><text text-anchor=\"end\" x=\"79\" y=\"4.199999999999999\" transform=\"translate(0,620)\" style=\"font-family: 'Open Sans', verdana, arial, sans-serif; font-size: 12px; fill: rgb(68, 68, 68); fill-opacity: 1; white-space: pre; opacity: 1;\">0</text></g><g class=\"ytick\"><text text-anchor=\"end\" x=\"79\" y=\"4.199999999999999\" style=\"font-family: 'Open Sans', verdana, arial, sans-serif; font-size: 12px; fill: rgb(68, 68, 68); fill-opacity: 1; white-space: pre; opacity: 1;\" transform=\"translate(0,550.47)\">0.1</text></g><g class=\"ytick\"><text text-anchor=\"end\" x=\"79\" y=\"4.199999999999999\" style=\"font-family: 'Open Sans', verdana, arial, sans-serif; font-size: 12px; fill: rgb(68, 68, 68); fill-opacity: 1; white-space: pre; opacity: 1;\" transform=\"translate(0,480.94)\">0.2</text></g><g class=\"ytick\"><text text-anchor=\"end\" x=\"79\" y=\"4.199999999999999\" style=\"font-family: 'Open Sans', verdana, arial, sans-serif; font-size: 12px; fill: rgb(68, 68, 68); fill-opacity: 1; white-space: pre; opacity: 1;\" transform=\"translate(0,411.4)\">0.3</text></g><g class=\"ytick\"><text text-anchor=\"end\" x=\"79\" y=\"4.199999999999999\" style=\"font-family: 'Open Sans', verdana, arial, sans-serif; font-size: 12px; fill: rgb(68, 68, 68); fill-opacity: 1; white-space: pre; opacity: 1;\" transform=\"translate(0,341.87)\">0.4</text></g><g class=\"ytick\"><text text-anchor=\"end\" x=\"79\" y=\"4.199999999999999\" style=\"font-family: 'Open Sans', verdana, arial, sans-serif; font-size: 12px; fill: rgb(68, 68, 68); fill-opacity: 1; white-space: pre; opacity: 1;\" transform=\"translate(0,272.34000000000003)\">0.5</text></g><g class=\"ytick\"><text text-anchor=\"end\" x=\"79\" y=\"4.199999999999999\" style=\"font-family: 'Open Sans', verdana, arial, sans-serif; font-size: 12px; fill: rgb(68, 68, 68); fill-opacity: 1; white-space: pre; opacity: 1;\" transform=\"translate(0,202.81)\">0.6</text></g><g class=\"ytick\"><text text-anchor=\"end\" x=\"79\" y=\"4.199999999999999\" style=\"font-family: 'Open Sans', verdana, arial, sans-serif; font-size: 12px; fill: rgb(68, 68, 68); fill-opacity: 1; white-space: pre; opacity: 1;\" transform=\"translate(0,133.28)\">0.7</text></g><g class=\"ytick\"><text text-anchor=\"end\" x=\"79\" y=\"4.199999999999999\" style=\"font-family: 'Open Sans', verdana, arial, sans-serif; font-size: 12px; fill: rgb(68, 68, 68); fill-opacity: 1; white-space: pre; opacity: 1;\" transform=\"translate(0,63.75)\">0.8</text></g></g><g class=\"overaxes-above\"/></g></g><g class=\"polarlayer\"/><g class=\"smithlayer\"/><g class=\"ternarylayer\"/><g class=\"geolayer\"/><g class=\"funnelarealayer\"/><g class=\"pielayer\"/><g class=\"iciclelayer\"/><g class=\"treemaplayer\"/><g class=\"sunburstlayer\"/><g class=\"glimages\"/><defs id=\"topdefs-a303e7\"><g class=\"clips\"/><clipPath id=\"legenda303e7\"><rect width=\"73\" height=\"67\" x=\"0\" y=\"0\"/></clipPath></defs><g class=\"layer-above\"><g class=\"imagelayer\"/><g class=\"shapelayer\"/></g><g class=\"infolayer\"><g class=\"legend\" pointer-events=\"all\" transform=\"translate(815.42,60)\"><rect class=\"bg\" shape-rendering=\"crispEdges\" style=\"stroke: rgb(68, 68, 68); stroke-opacity: 1; fill: rgb(255, 255, 255); fill-opacity: 1; stroke-width: 0px;\" width=\"73\" height=\"67\" x=\"0\" y=\"0\"/><g class=\"scrollbox\" transform=\"\" clip-path=\"url(#legenda303e7)\"><text class=\"legendtitletext\" text-anchor=\"start\" x=\"2\" y=\"18.2\" style=\"font-family: 'Open Sans', verdana, arial, sans-serif; font-size: 14px; fill: rgb(68, 68, 68); fill-opacity: 1; white-space: pre;\">set</text><g class=\"groups\" transform=\"\"><g class=\"traces\" transform=\"translate(0,32.7)\" style=\"opacity: 1;\"><text class=\"legendtext\" text-anchor=\"start\" x=\"40\" y=\"4.680000000000001\" style=\"font-family: 'Open Sans', verdana, arial, sans-serif; font-size: 12px; fill: rgb(68, 68, 68); fill-opacity: 1; white-space: pre;\">train</text><g class=\"layers\" style=\"opacity: 1;\"><g class=\"legendfill\"/><g class=\"legendlines\"/><g class=\"legendsymbols\"><g class=\"legendpoints\"><path class=\"legendundefined\" d=\"M6,6H-6V-6H6Z\" transform=\"translate(20,0)\" style=\"stroke-width: 0px; fill: rgb(75, 154, 199); fill-opacity: 1;\"/></g></g></g><rect class=\"legendtoggle\" x=\"0\" y=\"-9.5\" width=\"67.953125\" height=\"19\" style=\"fill: rgb(0, 0, 0); fill-opacity: 0;\"/></g></g><g class=\"groups\" transform=\"\"><g class=\"traces\" transform=\"translate(0,51.7)\" style=\"opacity: 1;\"><text class=\"legendtext\" text-anchor=\"start\" x=\"40\" y=\"4.680000000000001\" style=\"font-family: 'Open Sans', verdana, arial, sans-serif; font-size: 12px; fill: rgb(68, 68, 68); fill-opacity: 1; white-space: pre;\">test</text><g class=\"layers\" style=\"opacity: 1;\"><g class=\"legendfill\"/><g class=\"legendlines\"/><g class=\"legendsymbols\"><g class=\"legendpoints\"><path class=\"legendundefined\" d=\"M6,6H-6V-6H6Z\" transform=\"translate(20,0)\" style=\"stroke-width: 0px; fill: rgb(75, 232, 224); fill-opacity: 1;\"/></g></g></g><rect class=\"legendtoggle\" x=\"0\" y=\"-9.5\" width=\"67.953125\" height=\"19\" style=\"fill: rgb(0, 0, 0); fill-opacity: 0;\"/></g></g></g><rect class=\"scrollbar\" rx=\"20\" ry=\"3\" width=\"0\" height=\"0\" style=\"fill: rgb(128, 139, 164); fill-opacity: 1;\" x=\"0\" y=\"0\"/></g><g class=\"g-gtitle\"/><g class=\"g-xtitle\"><text class=\"xtitle\" x=\"440.5\" y=\"672\" text-anchor=\"middle\" style=\"font-family: 'Open Sans', verdana, arial, sans-serif; font-size: 14px; fill: rgb(68, 68, 68); opacity: 1; font-weight: normal; white-space: pre;\">model</text></g><g class=\"g-ytitle\"><text class=\"ytitle\" transform=\"rotate(-90,42,340)\" x=\"42\" y=\"340\" text-anchor=\"middle\" style=\"font-family: 'Open Sans', verdana, arial, sans-serif; font-size: 14px; fill: rgb(68, 68, 68); opacity: 1; font-weight: normal; white-space: pre;\">F1_SCORE</text></g></g></svg>"
            ]
          },
          "metadata": {},
          "output_type": "display_data"
        }
      ],
      "source": [
        "fig = px.bar(perf_final_df, x = \"model\", y = 'F1_SCORE', color = 'set', barmode = 'group', width = 900, height=700)\n",
        "fig.show()"
      ]
    },
    {
      "cell_type": "code",
      "execution_count": 32,
      "metadata": {},
      "outputs": [
        {
          "data": {
            "image/png": "[encoded data removed]",
            "text/plain": [
              "<IPython.core.display.Image object>"
            ]
          },
          "execution_count": 32,
          "metadata": {},
          "output_type": "execute_result"
        }
      ],
      "source": [
        "from IPython.display import Image\n",
        "Image(filename=\"Graphs_ML/plotly_3_models_perf.png\")\n",
        "\n"
      ]
    },
    {
      "cell_type": "markdown",
      "metadata": {},
      "source": [
        "+ + + + + + + + + + + + + + + + + + + + + + + + + + + + + + + +"
      ]
    },
    {
      "cell_type": "markdown",
      "metadata": {},
      "source": [
        "---"
      ]
    },
    {
      "cell_type": "markdown",
      "metadata": {},
      "source": [
        "## 🔶 **Testing other models** (non linear & emsemble learning)"
      ]
    },
    {
      "cell_type": "markdown",
      "metadata": {},
      "source": [
        "### ➡️ <ins>**MODEL 3 :** Random Forest *(non linear)* 🌲🌲🌲</ins>"
      ]
    },
    {
      "cell_type": "code",
      "execution_count": 33,
      "metadata": {},
      "outputs": [
        {
          "name": "stdout",
          "output_type": "stream",
          "text": [
            "Grid search...\n",
            "{'max_depth': [2, 4, 6, 8, 10], 'min_samples_leaf': [1, 2, 5], 'min_samples_split': [2, 4, 8], 'n_estimators': [10, 20, 40, 60, 80, 100]}\n",
            "Fitting 3 folds for each of 270 candidates, totalling 810 fits\n"
          ]
        },
        {
          "name": "stdout",
          "output_type": "stream",
          "text": [
            "...Done\n",
            "\n",
            "Best hyperparameters :  {'max_depth': 8, 'min_samples_leaf': 5, 'min_samples_split': 8, 'n_estimators': 80}\n",
            "Best validation accuracy :  0.9861023262351535\n",
            "\n",
            "Predictions on the train set :  [0 0 0 ... 0 0 0]\n",
            "Predictions on the test set :  [0 0 1 ... 0 0 0]\n",
            "\n",
            "F1SCORE on the train set :  0.7664205799528122\n",
            "F1SCORE on the test set :  0.7552019583843328\n"
          ]
        },
        {
          "data": {
            "text/html": [
              "<div>\n",
              "<style scoped>\n",
              "    .dataframe tbody tr th:only-of-type {\n",
              "        vertical-align: middle;\n",
              "    }\n",
              "\n",
              "    .dataframe tbody tr th {\n",
              "        vertical-align: top;\n",
              "    }\n",
              "\n",
              "    .dataframe thead th {\n",
              "        text-align: right;\n",
              "    }\n",
              "</style>\n",
              "<table border=\"1\" class=\"dataframe\">\n",
              "  <thead>\n",
              "    <tr style=\"text-align: right;\">\n",
              "      <th></th>\n",
              "      <th>name_model</th>\n",
              "      <th>model</th>\n",
              "      <th>F1_SCORE</th>\n",
              "      <th>set</th>\n",
              "    </tr>\n",
              "  </thead>\n",
              "  <tbody>\n",
              "    <tr>\n",
              "      <th>0</th>\n",
              "      <td>MODEL 1</td>\n",
              "      <td>LogReg Baseline</td>\n",
              "      <td>0.693852</td>\n",
              "      <td>train</td>\n",
              "    </tr>\n",
              "    <tr>\n",
              "      <th>1</th>\n",
              "      <td>MODEL 1</td>\n",
              "      <td>LogReg Baseline</td>\n",
              "      <td>0.706024</td>\n",
              "      <td>test</td>\n",
              "    </tr>\n",
              "    <tr>\n",
              "      <th>2</th>\n",
              "      <td>MODEL 2 (multivar)</td>\n",
              "      <td>LogReg Multivar</td>\n",
              "      <td>0.765021</td>\n",
              "      <td>train</td>\n",
              "    </tr>\n",
              "    <tr>\n",
              "      <th>3</th>\n",
              "      <td>MODEL 2 (multivar)</td>\n",
              "      <td>LogReg Multivar</td>\n",
              "      <td>0.756379</td>\n",
              "      <td>test</td>\n",
              "    </tr>\n",
              "    <tr>\n",
              "      <th>4</th>\n",
              "      <td>MODEL 2 TUNED</td>\n",
              "      <td>LogReg TUNED</td>\n",
              "      <td>0.765118</td>\n",
              "      <td>train</td>\n",
              "    </tr>\n",
              "    <tr>\n",
              "      <th>5</th>\n",
              "      <td>MODEL 2 TUNED</td>\n",
              "      <td>LogReg TUNED</td>\n",
              "      <td>0.757052</td>\n",
              "      <td>test</td>\n",
              "    </tr>\n",
              "    <tr>\n",
              "      <th>6</th>\n",
              "      <td>MODEL 3</td>\n",
              "      <td>Random Forest</td>\n",
              "      <td>0.766421</td>\n",
              "      <td>train</td>\n",
              "    </tr>\n",
              "    <tr>\n",
              "      <th>7</th>\n",
              "      <td>MODEL 3</td>\n",
              "      <td>Random Forest</td>\n",
              "      <td>0.755202</td>\n",
              "      <td>test</td>\n",
              "    </tr>\n",
              "  </tbody>\n",
              "</table>\n",
              "</div>"
            ],
            "text/plain": [
              "           name_model            model  F1_SCORE    set\n",
              "0             MODEL 1  LogReg Baseline  0.693852  train\n",
              "1             MODEL 1  LogReg Baseline  0.706024   test\n",
              "2  MODEL 2 (multivar)  LogReg Multivar  0.765021  train\n",
              "3  MODEL 2 (multivar)  LogReg Multivar  0.756379   test\n",
              "4       MODEL 2 TUNED     LogReg TUNED  0.765118  train\n",
              "5       MODEL 2 TUNED     LogReg TUNED  0.757052   test\n",
              "6             MODEL 3    Random Forest  0.766421  train\n",
              "7             MODEL 3    Random Forest  0.755202   test"
            ]
          },
          "execution_count": 33,
          "metadata": {},
          "output_type": "execute_result"
        }
      ],
      "source": [
        "print(\"Grid search...\")\n",
        "random_forest = RandomForestClassifier()\n",
        "\n",
        "# Grid of values to be tested\n",
        "random_forest_params = {\n",
        "    'max_depth': [2, 4, 6, 8, 10],\n",
        "    'min_samples_leaf': [1, 2, 5],\n",
        "    'min_samples_split': [2, 4, 8],\n",
        "    'n_estimators': [10, 20, 40, 60, 80, 100]\n",
        "}\n",
        "\n",
        "print(random_forest_params)\n",
        "gridsearch3 = GridSearchCV(random_forest, param_grid = random_forest_params, cv = 3, verbose = 1)\n",
        "gridsearch3.fit(X_train2, Y_train2)\n",
        "print('...Done')\n",
        "print()\n",
        "\n",
        "print(\"Best hyperparameters : \", gridsearch3.best_params_)\n",
        "print(\"Best validation accuracy : \", gridsearch3.best_score_)\n",
        "print()\n",
        "\n",
        "GS3_Y_train_pred = gridsearch3.predict(X_train2)\n",
        "GS3_Y_test_pred = gridsearch3.predict(X_test2)\n",
        "\n",
        "print('Predictions on the train set : ', GS3_Y_train_pred)\n",
        "print('Predictions on the test set : ', GS3_Y_test_pred)\n",
        "\n",
        "print()\n",
        "\n",
        "GS3_train_f1score = f1_score(Y_train2, GS3_Y_train_pred)\n",
        "GS3_test_f1score = f1_score(Y_test2, GS3_Y_test_pred)\n",
        "\n",
        "print('F1SCORE on the train set : ', GS3_train_f1score)\n",
        "print('F1SCORE on the test set : ', GS3_test_f1score)\n",
        "\n",
        "\n",
        "# Adding 'Model 3' into the dataframe \n",
        "scores.append({'name_model': 'MODEL 3',\n",
        "                'model': 'Random Forest', \n",
        "                'F1_SCORE' : GS3_train_f1score,\n",
        "                'set' : 'train'})\n",
        "\n",
        "scores.append({'name_model': 'MODEL 3',\n",
        "                'model': 'Random Forest', \n",
        "                'F1_SCORE' : GS3_test_f1score,\n",
        "                'set' : 'test'})\n",
        "\n",
        "df = pd.DataFrame(columns=['name_model', 'model', 'F1_SCORE', 'set'])\n",
        "df_results = pd.DataFrame(scores, columns=['name_model', 'model', 'F1_SCORE', 'set'])\n",
        "\n",
        "# Concatenate both dataframes in order to create 'perf_final_df' \n",
        "perf_final_df = pd.concat([df, df_results])\n",
        "perf_final_df"
      ]
    },
    {
      "cell_type": "markdown",
      "metadata": {},
      "source": [
        "### ➡️ <ins>**MODEL 4 :** AdaBoost Classifier with Decision Tree *(ensemble)* 🌳</ins>"
      ]
    },
    {
      "cell_type": "code",
      "execution_count": 34,
      "metadata": {},
      "outputs": [
        {
          "name": "stdout",
          "output_type": "stream",
          "text": [
            "Grid search...\n",
            "Fitting 3 folds for each of 162 candidates, totalling 486 fits\n"
          ]
        },
        {
          "name": "stdout",
          "output_type": "stream",
          "text": [
            "...Done.\n",
            "\n",
            "Best hyperparameters :  {'base_estimator__max_depth': 8, 'base_estimator__min_samples_leaf': 3, 'base_estimator__min_samples_split': 10, 'n_estimators': 2}\n",
            "Best validation accuracy :  0.985663082437276\n",
            "\n",
            "Predictions on the train set :  [0 0 0 ... 0 0 0]\n",
            "Predictions on the test set :  [0 0 1 ... 0 0 0]\n",
            "\n",
            "F1SCORE on the train set :  0.771180787191461\n",
            "F1SCORE on the test set :  0.7531231409875074\n"
          ]
        },
        {
          "data": {
            "text/html": [
              "<div>\n",
              "<style scoped>\n",
              "    .dataframe tbody tr th:only-of-type {\n",
              "        vertical-align: middle;\n",
              "    }\n",
              "\n",
              "    .dataframe tbody tr th {\n",
              "        vertical-align: top;\n",
              "    }\n",
              "\n",
              "    .dataframe thead th {\n",
              "        text-align: right;\n",
              "    }\n",
              "</style>\n",
              "<table border=\"1\" class=\"dataframe\">\n",
              "  <thead>\n",
              "    <tr style=\"text-align: right;\">\n",
              "      <th></th>\n",
              "      <th>name_model</th>\n",
              "      <th>model</th>\n",
              "      <th>F1_SCORE</th>\n",
              "      <th>set</th>\n",
              "    </tr>\n",
              "  </thead>\n",
              "  <tbody>\n",
              "    <tr>\n",
              "      <th>0</th>\n",
              "      <td>MODEL 1</td>\n",
              "      <td>LogReg Baseline</td>\n",
              "      <td>0.693852</td>\n",
              "      <td>train</td>\n",
              "    </tr>\n",
              "    <tr>\n",
              "      <th>1</th>\n",
              "      <td>MODEL 1</td>\n",
              "      <td>LogReg Baseline</td>\n",
              "      <td>0.706024</td>\n",
              "      <td>test</td>\n",
              "    </tr>\n",
              "    <tr>\n",
              "      <th>2</th>\n",
              "      <td>MODEL 2 (multivar)</td>\n",
              "      <td>LogReg Multivar</td>\n",
              "      <td>0.765021</td>\n",
              "      <td>train</td>\n",
              "    </tr>\n",
              "    <tr>\n",
              "      <th>3</th>\n",
              "      <td>MODEL 2 (multivar)</td>\n",
              "      <td>LogReg Multivar</td>\n",
              "      <td>0.756379</td>\n",
              "      <td>test</td>\n",
              "    </tr>\n",
              "    <tr>\n",
              "      <th>4</th>\n",
              "      <td>MODEL 2 TUNED</td>\n",
              "      <td>LogReg TUNED</td>\n",
              "      <td>0.765118</td>\n",
              "      <td>train</td>\n",
              "    </tr>\n",
              "    <tr>\n",
              "      <th>5</th>\n",
              "      <td>MODEL 2 TUNED</td>\n",
              "      <td>LogReg TUNED</td>\n",
              "      <td>0.757052</td>\n",
              "      <td>test</td>\n",
              "    </tr>\n",
              "    <tr>\n",
              "      <th>6</th>\n",
              "      <td>MODEL 3</td>\n",
              "      <td>Random Forest</td>\n",
              "      <td>0.766421</td>\n",
              "      <td>train</td>\n",
              "    </tr>\n",
              "    <tr>\n",
              "      <th>7</th>\n",
              "      <td>MODEL 3</td>\n",
              "      <td>Random Forest</td>\n",
              "      <td>0.755202</td>\n",
              "      <td>test</td>\n",
              "    </tr>\n",
              "    <tr>\n",
              "      <th>8</th>\n",
              "      <td>MODEL 4</td>\n",
              "      <td>AdaBoost DecTree</td>\n",
              "      <td>0.771181</td>\n",
              "      <td>train</td>\n",
              "    </tr>\n",
              "    <tr>\n",
              "      <th>9</th>\n",
              "      <td>MODEL 4</td>\n",
              "      <td>AdaBoost DecTree</td>\n",
              "      <td>0.753123</td>\n",
              "      <td>test</td>\n",
              "    </tr>\n",
              "  </tbody>\n",
              "</table>\n",
              "</div>"
            ],
            "text/plain": [
              "           name_model             model  F1_SCORE    set\n",
              "0             MODEL 1   LogReg Baseline  0.693852  train\n",
              "1             MODEL 1   LogReg Baseline  0.706024   test\n",
              "2  MODEL 2 (multivar)   LogReg Multivar  0.765021  train\n",
              "3  MODEL 2 (multivar)   LogReg Multivar  0.756379   test\n",
              "4       MODEL 2 TUNED      LogReg TUNED  0.765118  train\n",
              "5       MODEL 2 TUNED      LogReg TUNED  0.757052   test\n",
              "6             MODEL 3     Random Forest  0.766421  train\n",
              "7             MODEL 3     Random Forest  0.755202   test\n",
              "8             MODEL 4  AdaBoost DecTree  0.771181  train\n",
              "9             MODEL 4  AdaBoost DecTree  0.753123   test"
            ]
          },
          "execution_count": 34,
          "metadata": {},
          "output_type": "execute_result"
        }
      ],
      "source": [
        "print(\"Grid search...\")\n",
        "decision_tree = DecisionTreeClassifier()\n",
        "adaboost_dt = AdaBoostClassifier(decision_tree)\n",
        "\n",
        "# Grid of values to be tested\n",
        "adaboost_dt_params = {\n",
        "    'base_estimator__max_depth': [8, 10, 12],\n",
        "    'base_estimator__min_samples_leaf': [1, 2, 3],\n",
        "    'base_estimator__min_samples_split': [6, 8, 10],\n",
        "    'n_estimators': [2, 4, 6, 8, 10, 12]\n",
        "}\n",
        "\n",
        "gridsearch4 = GridSearchCV(adaboost_dt, param_grid = adaboost_dt_params, cv = 3, verbose = 1) \n",
        "gridsearch4.fit(X_train2, Y_train2)\n",
        "print(\"...Done.\")\n",
        "print()\n",
        "\n",
        "print(\"Best hyperparameters : \", gridsearch4.best_params_)\n",
        "print(\"Best validation accuracy : \", gridsearch4.best_score_)\n",
        "print()\n",
        "\n",
        "\n",
        "GS4_Y_train_pred = gridsearch4.predict(X_train2)\n",
        "GS4_Y_test_pred = gridsearch4.predict(X_test2)\n",
        "\n",
        "print('Predictions on the train set : ', GS4_Y_train_pred)\n",
        "print('Predictions on the test set : ', GS4_Y_test_pred)\n",
        "\n",
        "print()\n",
        "\n",
        "GS4_train_f1score = f1_score(Y_train2, GS4_Y_train_pred)\n",
        "GS4_test_f1score = f1_score(Y_test2, GS4_Y_test_pred)\n",
        "\n",
        "print('F1SCORE on the train set : ', GS4_train_f1score)\n",
        "print('F1SCORE on the test set : ', GS4_test_f1score)\n",
        "\n",
        "\n",
        "# Adding 'Model 4' into the dataframe \n",
        "scores.append({'name_model': 'MODEL 4',\n",
        "                'model': 'AdaBoost DecTree', \n",
        "                'F1_SCORE' : GS4_train_f1score,\n",
        "                'set' : 'train'})\n",
        "\n",
        "scores.append({'name_model': 'MODEL 4',\n",
        "                'model': 'AdaBoost DecTree', \n",
        "                'F1_SCORE' : GS4_test_f1score ,\n",
        "                'set' : 'test'})\n",
        "\n",
        "\n",
        "df = pd.DataFrame(columns=['name_model', 'model', 'F1_SCORE', 'set'])\n",
        "df_results = pd.DataFrame(scores, columns=['name_model', 'model', 'F1_SCORE', 'set'])\n",
        "\n",
        "# Concatenate both dataframes in order to create 'perf_final_df' \n",
        "perf_final_df = pd.concat([df, df_results])\n",
        "perf_final_df"
      ]
    },
    {
      "cell_type": "markdown",
      "metadata": {},
      "source": [
        "### ➡️ <ins>**MODEL 5 :** AdaBoost Classifier with Logistic Regression *(ensemble)* 🌻</ins>"
      ]
    },
    {
      "cell_type": "code",
      "execution_count": 35,
      "metadata": {},
      "outputs": [
        {
          "name": "stdout",
          "output_type": "stream",
          "text": [
            "Grid search...\n",
            "\n",
            "Fitting 3 folds for each of 56 candidates, totalling 168 fits\n"
          ]
        },
        {
          "name": "stdout",
          "output_type": "stream",
          "text": [
            "...Done.\n",
            "\n",
            "Best hyperparameters :  {'base_estimator__C': 5.0, 'n_estimators': 80}\n",
            "Best validation accuracy :  0.986273631316326\n",
            "\n",
            "Predictions on the train set :  [0 0 0 ... 0 0 0]\n",
            "Predictions on the test set :  [0 0 1 ... 0 0 0]\n",
            "\n",
            "F1SCORE on the train set :  0.764031382015691\n",
            "F1SCORE on the test set :  0.7575941676792223\n"
          ]
        },
        {
          "data": {
            "text/html": [
              "<div>\n",
              "<style scoped>\n",
              "    .dataframe tbody tr th:only-of-type {\n",
              "        vertical-align: middle;\n",
              "    }\n",
              "\n",
              "    .dataframe tbody tr th {\n",
              "        vertical-align: top;\n",
              "    }\n",
              "\n",
              "    .dataframe thead th {\n",
              "        text-align: right;\n",
              "    }\n",
              "</style>\n",
              "<table border=\"1\" class=\"dataframe\">\n",
              "  <thead>\n",
              "    <tr style=\"text-align: right;\">\n",
              "      <th></th>\n",
              "      <th>name_model</th>\n",
              "      <th>model</th>\n",
              "      <th>F1_SCORE</th>\n",
              "      <th>set</th>\n",
              "    </tr>\n",
              "  </thead>\n",
              "  <tbody>\n",
              "    <tr>\n",
              "      <th>0</th>\n",
              "      <td>MODEL 1</td>\n",
              "      <td>LogReg Baseline</td>\n",
              "      <td>0.693852</td>\n",
              "      <td>train</td>\n",
              "    </tr>\n",
              "    <tr>\n",
              "      <th>1</th>\n",
              "      <td>MODEL 1</td>\n",
              "      <td>LogReg Baseline</td>\n",
              "      <td>0.706024</td>\n",
              "      <td>test</td>\n",
              "    </tr>\n",
              "    <tr>\n",
              "      <th>2</th>\n",
              "      <td>MODEL 2 (multivar)</td>\n",
              "      <td>LogReg Multivar</td>\n",
              "      <td>0.765021</td>\n",
              "      <td>train</td>\n",
              "    </tr>\n",
              "    <tr>\n",
              "      <th>3</th>\n",
              "      <td>MODEL 2 (multivar)</td>\n",
              "      <td>LogReg Multivar</td>\n",
              "      <td>0.756379</td>\n",
              "      <td>test</td>\n",
              "    </tr>\n",
              "    <tr>\n",
              "      <th>4</th>\n",
              "      <td>MODEL 2 TUNED</td>\n",
              "      <td>LogReg TUNED</td>\n",
              "      <td>0.765118</td>\n",
              "      <td>train</td>\n",
              "    </tr>\n",
              "    <tr>\n",
              "      <th>5</th>\n",
              "      <td>MODEL 2 TUNED</td>\n",
              "      <td>LogReg TUNED</td>\n",
              "      <td>0.757052</td>\n",
              "      <td>test</td>\n",
              "    </tr>\n",
              "    <tr>\n",
              "      <th>6</th>\n",
              "      <td>MODEL 3</td>\n",
              "      <td>Random Forest</td>\n",
              "      <td>0.766421</td>\n",
              "      <td>train</td>\n",
              "    </tr>\n",
              "    <tr>\n",
              "      <th>7</th>\n",
              "      <td>MODEL 3</td>\n",
              "      <td>Random Forest</td>\n",
              "      <td>0.755202</td>\n",
              "      <td>test</td>\n",
              "    </tr>\n",
              "    <tr>\n",
              "      <th>8</th>\n",
              "      <td>MODEL 4</td>\n",
              "      <td>AdaBoost DecTree</td>\n",
              "      <td>0.771181</td>\n",
              "      <td>train</td>\n",
              "    </tr>\n",
              "    <tr>\n",
              "      <th>9</th>\n",
              "      <td>MODEL 4</td>\n",
              "      <td>AdaBoost DecTree</td>\n",
              "      <td>0.753123</td>\n",
              "      <td>test</td>\n",
              "    </tr>\n",
              "    <tr>\n",
              "      <th>10</th>\n",
              "      <td>MODEL 5</td>\n",
              "      <td>AdaBoost LogReg</td>\n",
              "      <td>0.764031</td>\n",
              "      <td>train</td>\n",
              "    </tr>\n",
              "    <tr>\n",
              "      <th>11</th>\n",
              "      <td>MODEL 5</td>\n",
              "      <td>AdaBoost LogReg</td>\n",
              "      <td>0.757594</td>\n",
              "      <td>test</td>\n",
              "    </tr>\n",
              "  </tbody>\n",
              "</table>\n",
              "</div>"
            ],
            "text/plain": [
              "            name_model             model  F1_SCORE    set\n",
              "0              MODEL 1   LogReg Baseline  0.693852  train\n",
              "1              MODEL 1   LogReg Baseline  0.706024   test\n",
              "2   MODEL 2 (multivar)   LogReg Multivar  0.765021  train\n",
              "3   MODEL 2 (multivar)   LogReg Multivar  0.756379   test\n",
              "4        MODEL 2 TUNED      LogReg TUNED  0.765118  train\n",
              "5        MODEL 2 TUNED      LogReg TUNED  0.757052   test\n",
              "6              MODEL 3     Random Forest  0.766421  train\n",
              "7              MODEL 3     Random Forest  0.755202   test\n",
              "8              MODEL 4  AdaBoost DecTree  0.771181  train\n",
              "9              MODEL 4  AdaBoost DecTree  0.753123   test\n",
              "10             MODEL 5   AdaBoost LogReg  0.764031  train\n",
              "11             MODEL 5   AdaBoost LogReg  0.757594   test"
            ]
          },
          "execution_count": 35,
          "metadata": {},
          "output_type": "execute_result"
        }
      ],
      "source": [
        "print(\"Grid search...\")\n",
        "print()\n",
        "logistic_regression = LogisticRegression(max_iter = 1000)\n",
        "adaboost_logreg = AdaBoostClassifier(logistic_regression)\n",
        "\n",
        "# Grid of values to be tested\n",
        "adaboost_logreg_params = {\n",
        "    'base_estimator__C': [0.01, 0.05, 0.1, 0.5, 1.0, 5.0, 10.0, 50.0],\n",
        "    'n_estimators': [5, 10, 20, 40, 60, 80, 100]\n",
        "}\n",
        "\n",
        "gridsearch5 = GridSearchCV(adaboost_logreg, param_grid = adaboost_logreg_params, cv = 3, verbose = 1) # cv : the number of folds to be used for CV\n",
        "gridsearch5.fit(X_train2, Y_train2)\n",
        "print(\"...Done.\")\n",
        "\n",
        "print()\n",
        "print(\"Best hyperparameters : \", gridsearch5.best_params_)\n",
        "print(\"Best validation accuracy : \", gridsearch5.best_score_)\n",
        "print()\n",
        "\n",
        "\n",
        "GS5_Y_train_pred = gridsearch5.predict(X_train2)\n",
        "GS5_Y_test_pred = gridsearch5.predict(X_test2)\n",
        "\n",
        "print('Predictions on the train set : ', GS5_Y_train_pred)\n",
        "print('Predictions on the test set : ', GS5_Y_test_pred)\n",
        "\n",
        "print()\n",
        "\n",
        "GS5_train_f1score = f1_score(Y_train2, GS5_Y_train_pred)\n",
        "GS5_test_f1score = f1_score(Y_test2, GS5_Y_test_pred)\n",
        "\n",
        "print('F1SCORE on the train set : ', GS5_train_f1score)\n",
        "print('F1SCORE on the test set : ', GS5_test_f1score)\n",
        "\n",
        "\n",
        "\n",
        "# Adding 'Model 4' into the dataframe \n",
        "scores.append({'name_model': 'MODEL 5',\n",
        "                'model': 'AdaBoost LogReg', \n",
        "                'F1_SCORE' : GS5_train_f1score,\n",
        "                'set' : 'train'})\n",
        "\n",
        "scores.append({'name_model': 'MODEL 5',\n",
        "                'model': 'AdaBoost LogReg', \n",
        "                'F1_SCORE' : GS5_test_f1score,\n",
        "                'set' : 'test'})\n",
        "\n",
        "\n",
        "df = pd.DataFrame(columns=['name_model', 'model', 'F1_SCORE', 'set'])\n",
        "df_results = pd.DataFrame(scores, columns=['name_model', 'model', 'F1_SCORE', 'set'])\n",
        "\n",
        "# Concatenate both dataframes in order to create 'perf_final_df' \n",
        "perf_final_df = pd.concat([df, df_results])\n",
        "perf_final_df"
      ]
    },
    {
      "cell_type": "markdown",
      "metadata": {},
      "source": [
        "### ➡️ <ins>**MODEL 6 :** Gradient Bosting Classifier *(ensemble)* \t🌼</ins>"
      ]
    },
    {
      "cell_type": "code",
      "execution_count": 36,
      "metadata": {},
      "outputs": [
        {
          "name": "stdout",
          "output_type": "stream",
          "text": [
            "Grid search...\n",
            "\n",
            "Fitting 3 folds for each of 162 candidates, totalling 486 fits\n"
          ]
        },
        {
          "name": "stdout",
          "output_type": "stream",
          "text": [
            "...Done.\n",
            "\n",
            "Best hyperparameters :  {'max_depth': 8, 'min_samples_leaf': 3, 'min_samples_split': 10, 'n_estimators': 12}\n",
            "Best validation accuracy :  0.9853556117787616\n",
            "\n",
            "Predictions on the train set :  [0 0 0 ... 0 0 0]\n",
            "Predictions on the test set :  [0 0 0 ... 0 0 0]\n",
            "\n",
            "F1SCORE on the train set :  0.7517945445844634\n",
            "F1SCORE on the test set :  0.7294344473007711\n",
            "\n"
          ]
        },
        {
          "data": {
            "text/html": [
              "<div>\n",
              "<style scoped>\n",
              "    .dataframe tbody tr th:only-of-type {\n",
              "        vertical-align: middle;\n",
              "    }\n",
              "\n",
              "    .dataframe tbody tr th {\n",
              "        vertical-align: top;\n",
              "    }\n",
              "\n",
              "    .dataframe thead th {\n",
              "        text-align: right;\n",
              "    }\n",
              "</style>\n",
              "<table border=\"1\" class=\"dataframe\">\n",
              "  <thead>\n",
              "    <tr style=\"text-align: right;\">\n",
              "      <th></th>\n",
              "      <th>name_model</th>\n",
              "      <th>model</th>\n",
              "      <th>F1_SCORE</th>\n",
              "      <th>set</th>\n",
              "    </tr>\n",
              "  </thead>\n",
              "  <tbody>\n",
              "    <tr>\n",
              "      <th>0</th>\n",
              "      <td>MODEL 1</td>\n",
              "      <td>LogReg Baseline</td>\n",
              "      <td>0.693852</td>\n",
              "      <td>train</td>\n",
              "    </tr>\n",
              "    <tr>\n",
              "      <th>1</th>\n",
              "      <td>MODEL 1</td>\n",
              "      <td>LogReg Baseline</td>\n",
              "      <td>0.706024</td>\n",
              "      <td>test</td>\n",
              "    </tr>\n",
              "    <tr>\n",
              "      <th>2</th>\n",
              "      <td>MODEL 2 (multivar)</td>\n",
              "      <td>LogReg Multivar</td>\n",
              "      <td>0.765021</td>\n",
              "      <td>train</td>\n",
              "    </tr>\n",
              "    <tr>\n",
              "      <th>3</th>\n",
              "      <td>MODEL 2 (multivar)</td>\n",
              "      <td>LogReg Multivar</td>\n",
              "      <td>0.756379</td>\n",
              "      <td>test</td>\n",
              "    </tr>\n",
              "    <tr>\n",
              "      <th>4</th>\n",
              "      <td>MODEL 2 TUNED</td>\n",
              "      <td>LogReg TUNED</td>\n",
              "      <td>0.765118</td>\n",
              "      <td>train</td>\n",
              "    </tr>\n",
              "    <tr>\n",
              "      <th>5</th>\n",
              "      <td>MODEL 2 TUNED</td>\n",
              "      <td>LogReg TUNED</td>\n",
              "      <td>0.757052</td>\n",
              "      <td>test</td>\n",
              "    </tr>\n",
              "    <tr>\n",
              "      <th>6</th>\n",
              "      <td>MODEL 3</td>\n",
              "      <td>Random Forest</td>\n",
              "      <td>0.766421</td>\n",
              "      <td>train</td>\n",
              "    </tr>\n",
              "    <tr>\n",
              "      <th>7</th>\n",
              "      <td>MODEL 3</td>\n",
              "      <td>Random Forest</td>\n",
              "      <td>0.755202</td>\n",
              "      <td>test</td>\n",
              "    </tr>\n",
              "    <tr>\n",
              "      <th>8</th>\n",
              "      <td>MODEL 4</td>\n",
              "      <td>AdaBoost DecTree</td>\n",
              "      <td>0.771181</td>\n",
              "      <td>train</td>\n",
              "    </tr>\n",
              "    <tr>\n",
              "      <th>9</th>\n",
              "      <td>MODEL 4</td>\n",
              "      <td>AdaBoost DecTree</td>\n",
              "      <td>0.753123</td>\n",
              "      <td>test</td>\n",
              "    </tr>\n",
              "    <tr>\n",
              "      <th>10</th>\n",
              "      <td>MODEL 5</td>\n",
              "      <td>AdaBoost LogReg</td>\n",
              "      <td>0.764031</td>\n",
              "      <td>train</td>\n",
              "    </tr>\n",
              "    <tr>\n",
              "      <th>11</th>\n",
              "      <td>MODEL 5</td>\n",
              "      <td>AdaBoost LogReg</td>\n",
              "      <td>0.757594</td>\n",
              "      <td>test</td>\n",
              "    </tr>\n",
              "    <tr>\n",
              "      <th>12</th>\n",
              "      <td>MODEL 6</td>\n",
              "      <td>Gradient Boosting</td>\n",
              "      <td>0.751795</td>\n",
              "      <td>train</td>\n",
              "    </tr>\n",
              "    <tr>\n",
              "      <th>13</th>\n",
              "      <td>MODEL 6</td>\n",
              "      <td>Gradient Boosting</td>\n",
              "      <td>0.729434</td>\n",
              "      <td>test</td>\n",
              "    </tr>\n",
              "  </tbody>\n",
              "</table>\n",
              "</div>"
            ],
            "text/plain": [
              "            name_model              model  F1_SCORE    set\n",
              "0              MODEL 1    LogReg Baseline  0.693852  train\n",
              "1              MODEL 1    LogReg Baseline  0.706024   test\n",
              "2   MODEL 2 (multivar)    LogReg Multivar  0.765021  train\n",
              "3   MODEL 2 (multivar)    LogReg Multivar  0.756379   test\n",
              "4        MODEL 2 TUNED       LogReg TUNED  0.765118  train\n",
              "5        MODEL 2 TUNED       LogReg TUNED  0.757052   test\n",
              "6              MODEL 3      Random Forest  0.766421  train\n",
              "7              MODEL 3      Random Forest  0.755202   test\n",
              "8              MODEL 4   AdaBoost DecTree  0.771181  train\n",
              "9              MODEL 4   AdaBoost DecTree  0.753123   test\n",
              "10             MODEL 5    AdaBoost LogReg  0.764031  train\n",
              "11             MODEL 5    AdaBoost LogReg  0.757594   test\n",
              "12             MODEL 6  Gradient Boosting  0.751795  train\n",
              "13             MODEL 6  Gradient Boosting  0.729434   test"
            ]
          },
          "execution_count": 36,
          "metadata": {},
          "output_type": "execute_result"
        }
      ],
      "source": [
        "print(\"Grid search...\")\n",
        "print()\n",
        "\n",
        "gradientboost = GradientBoostingClassifier()\n",
        "\n",
        "# Grid of values to be tested\n",
        "gradientboost_params = {\n",
        "    'max_depth': [8, 10, 12],\n",
        "    'min_samples_leaf': [1, 2, 3],\n",
        "    'min_samples_split': [6, 8, 10],\n",
        "    'n_estimators': [2, 4, 6, 8, 10, 12]\n",
        "}\n",
        "\n",
        "gridsearch6 = GridSearchCV(gradientboost, param_grid = gradientboost_params, cv = 3, verbose = 1)\n",
        "gridsearch6.fit(X_train2, Y_train2)\n",
        "print(\"...Done.\")\n",
        "print()\n",
        "\n",
        "print(\"Best hyperparameters : \", gridsearch6.best_params_)\n",
        "print(\"Best validation accuracy : \", gridsearch6.best_score_)\n",
        "print()\n",
        "\n",
        "\n",
        "GS6_Y_train_pred = gridsearch6.predict(X_train2)\n",
        "GS6_Y_test_pred = gridsearch6.predict(X_test2)\n",
        "\n",
        "print('Predictions on the train set : ', GS6_Y_train_pred)\n",
        "print('Predictions on the test set : ', GS6_Y_test_pred)\n",
        "print()\n",
        "\n",
        "GS6_train_f1score = f1_score(Y_train2, GS6_Y_train_pred)\n",
        "GS6_test_f1score = f1_score(Y_test2, GS6_Y_test_pred)\n",
        "\n",
        "print('F1SCORE on the train set : ', GS6_train_f1score)\n",
        "print('F1SCORE on the test set : ', GS6_test_f1score)\n",
        "print()\n",
        "\n",
        "\n",
        "# Adding 'Model 4' into the dataframe \n",
        "scores.append({'name_model': 'MODEL 6',\n",
        "                'model': 'Gradient Boosting', \n",
        "                'F1_SCORE' : GS6_train_f1score,\n",
        "                'set' : 'train'})\n",
        "\n",
        "scores.append({'name_model': 'MODEL 6',\n",
        "                'model': 'Gradient Boosting', \n",
        "                'F1_SCORE' : GS6_test_f1score,\n",
        "                'set' : 'test'})\n",
        "\n",
        "\n",
        "df = pd.DataFrame(columns=['name_model', 'model', 'F1_SCORE', 'set'])\n",
        "df_results = pd.DataFrame(scores, columns=['name_model', 'model', 'F1_SCORE', 'set'])\n",
        "\n",
        "# Concatenate both dataframes in order to create 'perf_final_df' \n",
        "perf_final_df = pd.concat([df, df_results])\n",
        "perf_final_df"
      ]
    },
    {
      "cell_type": "markdown",
      "metadata": {},
      "source": [
        "### ➡️ <ins>**MODEL 7 :** XGBoost Classifier *(ensemble)* 🌸</ins>"
      ]
    },
    {
      "cell_type": "code",
      "execution_count": 37,
      "metadata": {},
      "outputs": [
        {
          "name": "stdout",
          "output_type": "stream",
          "text": [
            "Grid search...\n",
            "{'max_depth': [4, 6, 8, 10], 'min_child_weight': [1, 2, 4, 6, 8], 'n_estimators': [2, 4, 6, 8, 10, 12]}\n",
            "Fitting 3 folds for each of 120 candidates, totalling 360 fits\n"
          ]
        },
        {
          "name": "stdout",
          "output_type": "stream",
          "text": [
            "...Done.\n",
            "Best hyperparameters :  {'max_depth': 6, 'min_child_weight': 4, 'n_estimators': 12}\n",
            "Best validation accuracy :  0.9860715791693021\n",
            "\n",
            "Predictions on the train set :  [0 0 0 ... 0 0 0]\n",
            "Predictions on the test set :  [0 0 1 ... 0 0 0]\n",
            "\n",
            "F1SCORE on the train set :  0.7641872032557089\n",
            "F1SCORE on the test set :  0.7542475728155339\n"
          ]
        },
        {
          "data": {
            "text/html": [
              "<div>\n",
              "<style scoped>\n",
              "    .dataframe tbody tr th:only-of-type {\n",
              "        vertical-align: middle;\n",
              "    }\n",
              "\n",
              "    .dataframe tbody tr th {\n",
              "        vertical-align: top;\n",
              "    }\n",
              "\n",
              "    .dataframe thead th {\n",
              "        text-align: right;\n",
              "    }\n",
              "</style>\n",
              "<table border=\"1\" class=\"dataframe\">\n",
              "  <thead>\n",
              "    <tr style=\"text-align: right;\">\n",
              "      <th></th>\n",
              "      <th>name_model</th>\n",
              "      <th>model</th>\n",
              "      <th>F1_SCORE</th>\n",
              "      <th>set</th>\n",
              "    </tr>\n",
              "  </thead>\n",
              "  <tbody>\n",
              "    <tr>\n",
              "      <th>0</th>\n",
              "      <td>MODEL 1</td>\n",
              "      <td>LogReg Baseline</td>\n",
              "      <td>0.693852</td>\n",
              "      <td>train</td>\n",
              "    </tr>\n",
              "    <tr>\n",
              "      <th>1</th>\n",
              "      <td>MODEL 1</td>\n",
              "      <td>LogReg Baseline</td>\n",
              "      <td>0.706024</td>\n",
              "      <td>test</td>\n",
              "    </tr>\n",
              "    <tr>\n",
              "      <th>2</th>\n",
              "      <td>MODEL 2 (multivar)</td>\n",
              "      <td>LogReg Multivar</td>\n",
              "      <td>0.765021</td>\n",
              "      <td>train</td>\n",
              "    </tr>\n",
              "    <tr>\n",
              "      <th>3</th>\n",
              "      <td>MODEL 2 (multivar)</td>\n",
              "      <td>LogReg Multivar</td>\n",
              "      <td>0.756379</td>\n",
              "      <td>test</td>\n",
              "    </tr>\n",
              "    <tr>\n",
              "      <th>4</th>\n",
              "      <td>MODEL 2 TUNED</td>\n",
              "      <td>LogReg TUNED</td>\n",
              "      <td>0.765118</td>\n",
              "      <td>train</td>\n",
              "    </tr>\n",
              "    <tr>\n",
              "      <th>5</th>\n",
              "      <td>MODEL 2 TUNED</td>\n",
              "      <td>LogReg TUNED</td>\n",
              "      <td>0.757052</td>\n",
              "      <td>test</td>\n",
              "    </tr>\n",
              "    <tr>\n",
              "      <th>6</th>\n",
              "      <td>MODEL 3</td>\n",
              "      <td>Random Forest</td>\n",
              "      <td>0.766421</td>\n",
              "      <td>train</td>\n",
              "    </tr>\n",
              "    <tr>\n",
              "      <th>7</th>\n",
              "      <td>MODEL 3</td>\n",
              "      <td>Random Forest</td>\n",
              "      <td>0.755202</td>\n",
              "      <td>test</td>\n",
              "    </tr>\n",
              "    <tr>\n",
              "      <th>8</th>\n",
              "      <td>MODEL 4</td>\n",
              "      <td>AdaBoost DecTree</td>\n",
              "      <td>0.771181</td>\n",
              "      <td>train</td>\n",
              "    </tr>\n",
              "    <tr>\n",
              "      <th>9</th>\n",
              "      <td>MODEL 4</td>\n",
              "      <td>AdaBoost DecTree</td>\n",
              "      <td>0.753123</td>\n",
              "      <td>test</td>\n",
              "    </tr>\n",
              "    <tr>\n",
              "      <th>10</th>\n",
              "      <td>MODEL 5</td>\n",
              "      <td>AdaBoost LogReg</td>\n",
              "      <td>0.764031</td>\n",
              "      <td>train</td>\n",
              "    </tr>\n",
              "    <tr>\n",
              "      <th>11</th>\n",
              "      <td>MODEL 5</td>\n",
              "      <td>AdaBoost LogReg</td>\n",
              "      <td>0.757594</td>\n",
              "      <td>test</td>\n",
              "    </tr>\n",
              "    <tr>\n",
              "      <th>12</th>\n",
              "      <td>MODEL 6</td>\n",
              "      <td>Gradient Boosting</td>\n",
              "      <td>0.751795</td>\n",
              "      <td>train</td>\n",
              "    </tr>\n",
              "    <tr>\n",
              "      <th>13</th>\n",
              "      <td>MODEL 6</td>\n",
              "      <td>Gradient Boosting</td>\n",
              "      <td>0.729434</td>\n",
              "      <td>test</td>\n",
              "    </tr>\n",
              "    <tr>\n",
              "      <th>14</th>\n",
              "      <td>MODEL 7</td>\n",
              "      <td>XG Boost</td>\n",
              "      <td>0.764187</td>\n",
              "      <td>train</td>\n",
              "    </tr>\n",
              "    <tr>\n",
              "      <th>15</th>\n",
              "      <td>MODEL 7</td>\n",
              "      <td>XG Boost</td>\n",
              "      <td>0.754248</td>\n",
              "      <td>test</td>\n",
              "    </tr>\n",
              "  </tbody>\n",
              "</table>\n",
              "</div>"
            ],
            "text/plain": [
              "            name_model              model  F1_SCORE    set\n",
              "0              MODEL 1    LogReg Baseline  0.693852  train\n",
              "1              MODEL 1    LogReg Baseline  0.706024   test\n",
              "2   MODEL 2 (multivar)    LogReg Multivar  0.765021  train\n",
              "3   MODEL 2 (multivar)    LogReg Multivar  0.756379   test\n",
              "4        MODEL 2 TUNED       LogReg TUNED  0.765118  train\n",
              "5        MODEL 2 TUNED       LogReg TUNED  0.757052   test\n",
              "6              MODEL 3      Random Forest  0.766421  train\n",
              "7              MODEL 3      Random Forest  0.755202   test\n",
              "8              MODEL 4   AdaBoost DecTree  0.771181  train\n",
              "9              MODEL 4   AdaBoost DecTree  0.753123   test\n",
              "10             MODEL 5    AdaBoost LogReg  0.764031  train\n",
              "11             MODEL 5    AdaBoost LogReg  0.757594   test\n",
              "12             MODEL 6  Gradient Boosting  0.751795  train\n",
              "13             MODEL 6  Gradient Boosting  0.729434   test\n",
              "14             MODEL 7           XG Boost  0.764187  train\n",
              "15             MODEL 7           XG Boost  0.754248   test"
            ]
          },
          "execution_count": 37,
          "metadata": {},
          "output_type": "execute_result"
        }
      ],
      "source": [
        "# Perform grid search\n",
        "print(\"Grid search...\")\n",
        "xgboost = XGBClassifier()\n",
        "\n",
        "# Grid of values to be tested\n",
        "xgboost_params = {\n",
        "    'max_depth': [4, 6, 8, 10],\n",
        "    'min_child_weight': [1, 2, 4, 6, 8],\n",
        "    'n_estimators': [2, 4, 6, 8, 10, 12]\n",
        "}\n",
        "\n",
        "print(xgboost_params)\n",
        "gridsearch7 = GridSearchCV(xgboost, param_grid = xgboost_params, cv = 3, verbose = 1) \n",
        "gridsearch7.fit(X_train2, Y_train2)\n",
        "print(\"...Done.\")\n",
        "\n",
        "print(\"Best hyperparameters : \", gridsearch7.best_params_)\n",
        "print(\"Best validation accuracy : \", gridsearch7.best_score_)\n",
        "print()\n",
        "\n",
        "\n",
        "GS7_Y_train_pred = gridsearch7.predict(X_train2)\n",
        "GS7_Y_test_pred = gridsearch7.predict(X_test2)\n",
        "\n",
        "print('Predictions on the train set : ', GS7_Y_train_pred)\n",
        "print('Predictions on the test set : ', GS7_Y_test_pred)\n",
        "print()\n",
        "\n",
        "GS7_train_f1score = f1_score(Y_train2, GS7_Y_train_pred)\n",
        "GS7_test_f1score = f1_score(Y_test2, GS7_Y_test_pred)\n",
        "\n",
        "print('F1SCORE on the train set : ', GS7_train_f1score)\n",
        "print('F1SCORE on the test set : ', GS7_test_f1score)\n",
        "\n",
        "\n",
        "\n",
        "# Adding 'Model 4' into the dataframe \n",
        "scores.append({'name_model': 'MODEL 7',\n",
        "                'model': 'XG Boost', \n",
        "                'F1_SCORE' : GS7_train_f1score,\n",
        "                'set' : 'train'})\n",
        "\n",
        "scores.append({'name_model': 'MODEL 7',\n",
        "                'model': 'XG Boost', \n",
        "                'F1_SCORE' : GS7_test_f1score,\n",
        "                'set' : 'test'})\n",
        "                \n",
        "                \n",
        "df = pd.DataFrame(columns=['name_model', 'model', 'F1_SCORE', 'set'])\n",
        "df_results = pd.DataFrame(scores, columns=['name_model', 'model', 'F1_SCORE', 'set'])\n",
        "\n",
        "# Concatenate both dataframes in order to create 'perf_final_df' \n",
        "perf_final_df = pd.concat([df, df_results])\n",
        "perf_final_df"
      ]
    },
    {
      "cell_type": "markdown",
      "metadata": {},
      "source": [
        "### ➡️ <ins>**MODEL 8 :** Support Vector Machine Classifier *(non linear)* 🍄</ins>"
      ]
    },
    {
      "cell_type": "code",
      "execution_count": 38,
      "metadata": {},
      "outputs": [
        {
          "name": "stdout",
          "output_type": "stream",
          "text": [
            "Grid search...\n",
            "\n",
            "Fitting 3 folds for each of 48 candidates, totalling 144 fits\n"
          ]
        },
        {
          "name": "stdout",
          "output_type": "stream",
          "text": [
            "...Done.\n",
            "\n",
            "Best hyperparameters :  {'C': 1, 'gamma': 0.001, 'kernel': 'rbf'}\n",
            "Best validation accuracy :  0.9858519572703633\n",
            "\n",
            "Predictions on the train set :  [0 0 0 ... 0 0 0]\n",
            "Predictions on the test set :  [0 0 1 ... 0 0 0]\n",
            "\n",
            "F1SCORE on the train set :  0.7736668663870582\n",
            "F1SCORE on the test set :  0.7563832982877741\n"
          ]
        },
        {
          "data": {
            "text/html": [
              "<div>\n",
              "<style scoped>\n",
              "    .dataframe tbody tr th:only-of-type {\n",
              "        vertical-align: middle;\n",
              "    }\n",
              "\n",
              "    .dataframe tbody tr th {\n",
              "        vertical-align: top;\n",
              "    }\n",
              "\n",
              "    .dataframe thead th {\n",
              "        text-align: right;\n",
              "    }\n",
              "</style>\n",
              "<table border=\"1\" class=\"dataframe\">\n",
              "  <thead>\n",
              "    <tr style=\"text-align: right;\">\n",
              "      <th></th>\n",
              "      <th>name_model</th>\n",
              "      <th>model</th>\n",
              "      <th>F1_SCORE</th>\n",
              "      <th>set</th>\n",
              "    </tr>\n",
              "  </thead>\n",
              "  <tbody>\n",
              "    <tr>\n",
              "      <th>0</th>\n",
              "      <td>MODEL 1</td>\n",
              "      <td>LogReg Baseline</td>\n",
              "      <td>0.693852</td>\n",
              "      <td>train</td>\n",
              "    </tr>\n",
              "    <tr>\n",
              "      <th>1</th>\n",
              "      <td>MODEL 1</td>\n",
              "      <td>LogReg Baseline</td>\n",
              "      <td>0.706024</td>\n",
              "      <td>test</td>\n",
              "    </tr>\n",
              "    <tr>\n",
              "      <th>2</th>\n",
              "      <td>MODEL 2 (multivar)</td>\n",
              "      <td>LogReg Multivar</td>\n",
              "      <td>0.765021</td>\n",
              "      <td>train</td>\n",
              "    </tr>\n",
              "    <tr>\n",
              "      <th>3</th>\n",
              "      <td>MODEL 2 (multivar)</td>\n",
              "      <td>LogReg Multivar</td>\n",
              "      <td>0.756379</td>\n",
              "      <td>test</td>\n",
              "    </tr>\n",
              "    <tr>\n",
              "      <th>4</th>\n",
              "      <td>MODEL 2 TUNED</td>\n",
              "      <td>LogReg TUNED</td>\n",
              "      <td>0.765118</td>\n",
              "      <td>train</td>\n",
              "    </tr>\n",
              "    <tr>\n",
              "      <th>5</th>\n",
              "      <td>MODEL 2 TUNED</td>\n",
              "      <td>LogReg TUNED</td>\n",
              "      <td>0.757052</td>\n",
              "      <td>test</td>\n",
              "    </tr>\n",
              "    <tr>\n",
              "      <th>6</th>\n",
              "      <td>MODEL 3</td>\n",
              "      <td>Random Forest</td>\n",
              "      <td>0.766421</td>\n",
              "      <td>train</td>\n",
              "    </tr>\n",
              "    <tr>\n",
              "      <th>7</th>\n",
              "      <td>MODEL 3</td>\n",
              "      <td>Random Forest</td>\n",
              "      <td>0.755202</td>\n",
              "      <td>test</td>\n",
              "    </tr>\n",
              "    <tr>\n",
              "      <th>8</th>\n",
              "      <td>MODEL 4</td>\n",
              "      <td>AdaBoost DecTree</td>\n",
              "      <td>0.771181</td>\n",
              "      <td>train</td>\n",
              "    </tr>\n",
              "    <tr>\n",
              "      <th>9</th>\n",
              "      <td>MODEL 4</td>\n",
              "      <td>AdaBoost DecTree</td>\n",
              "      <td>0.753123</td>\n",
              "      <td>test</td>\n",
              "    </tr>\n",
              "    <tr>\n",
              "      <th>10</th>\n",
              "      <td>MODEL 5</td>\n",
              "      <td>AdaBoost LogReg</td>\n",
              "      <td>0.764031</td>\n",
              "      <td>train</td>\n",
              "    </tr>\n",
              "    <tr>\n",
              "      <th>11</th>\n",
              "      <td>MODEL 5</td>\n",
              "      <td>AdaBoost LogReg</td>\n",
              "      <td>0.757594</td>\n",
              "      <td>test</td>\n",
              "    </tr>\n",
              "    <tr>\n",
              "      <th>12</th>\n",
              "      <td>MODEL 6</td>\n",
              "      <td>Gradient Boosting</td>\n",
              "      <td>0.751795</td>\n",
              "      <td>train</td>\n",
              "    </tr>\n",
              "    <tr>\n",
              "      <th>13</th>\n",
              "      <td>MODEL 6</td>\n",
              "      <td>Gradient Boosting</td>\n",
              "      <td>0.729434</td>\n",
              "      <td>test</td>\n",
              "    </tr>\n",
              "    <tr>\n",
              "      <th>14</th>\n",
              "      <td>MODEL 7</td>\n",
              "      <td>XG Boost</td>\n",
              "      <td>0.764187</td>\n",
              "      <td>train</td>\n",
              "    </tr>\n",
              "    <tr>\n",
              "      <th>15</th>\n",
              "      <td>MODEL 7</td>\n",
              "      <td>XG Boost</td>\n",
              "      <td>0.754248</td>\n",
              "      <td>test</td>\n",
              "    </tr>\n",
              "    <tr>\n",
              "      <th>16</th>\n",
              "      <td>MODEL 8</td>\n",
              "      <td>Support Vector Classifier</td>\n",
              "      <td>0.773667</td>\n",
              "      <td>train</td>\n",
              "    </tr>\n",
              "    <tr>\n",
              "      <th>17</th>\n",
              "      <td>MODEL 8</td>\n",
              "      <td>Support Vector Classifier</td>\n",
              "      <td>0.756383</td>\n",
              "      <td>test</td>\n",
              "    </tr>\n",
              "  </tbody>\n",
              "</table>\n",
              "</div>"
            ],
            "text/plain": [
              "            name_model                      model  F1_SCORE    set\n",
              "0              MODEL 1            LogReg Baseline  0.693852  train\n",
              "1              MODEL 1            LogReg Baseline  0.706024   test\n",
              "2   MODEL 2 (multivar)            LogReg Multivar  0.765021  train\n",
              "3   MODEL 2 (multivar)            LogReg Multivar  0.756379   test\n",
              "4        MODEL 2 TUNED               LogReg TUNED  0.765118  train\n",
              "5        MODEL 2 TUNED               LogReg TUNED  0.757052   test\n",
              "6              MODEL 3              Random Forest  0.766421  train\n",
              "7              MODEL 3              Random Forest  0.755202   test\n",
              "8              MODEL 4           AdaBoost DecTree  0.771181  train\n",
              "9              MODEL 4           AdaBoost DecTree  0.753123   test\n",
              "10             MODEL 5            AdaBoost LogReg  0.764031  train\n",
              "11             MODEL 5            AdaBoost LogReg  0.757594   test\n",
              "12             MODEL 6          Gradient Boosting  0.751795  train\n",
              "13             MODEL 6          Gradient Boosting  0.729434   test\n",
              "14             MODEL 7                   XG Boost  0.764187  train\n",
              "15             MODEL 7                   XG Boost  0.754248   test\n",
              "16             MODEL 8  Support Vector Classifier  0.773667  train\n",
              "17             MODEL 8  Support Vector Classifier  0.756383   test"
            ]
          },
          "execution_count": 38,
          "metadata": {},
          "output_type": "execute_result"
        }
      ],
      "source": [
        "print(\"Grid search...\")\n",
        "print()\n",
        "svc = SVC(probability=True)\n",
        "\n",
        "\n",
        "svc_params = {\n",
        "    'kernel': ['rbf', 'poly', 'linear'],\n",
        "    'C': [1, 5, 10, 50],\n",
        "    'gamma': [0.0001, 0.0005, 0.001, 0.005],\n",
        "    }\n",
        "\n",
        "\n",
        "gridsearch8 = GridSearchCV(xgboost, param_grid = svc_params, cv = 3, verbose = 1) \n",
        "gridsearch8.fit(X_train2, Y_train2)\n",
        "print(\"...Done.\")\n",
        "print()\n",
        "\n",
        "print(\"Best hyperparameters : \", gridsearch8.best_params_)\n",
        "print(\"Best validation accuracy : \", gridsearch8.best_score_)\n",
        "print()\n",
        "\n",
        "\n",
        "GS8_Y_train_pred = gridsearch8.predict(X_train2)\n",
        "GS8_Y_test_pred = gridsearch8.predict(X_test2)\n",
        "\n",
        "print('Predictions on the train set : ', GS8_Y_train_pred)\n",
        "print('Predictions on the test set : ', GS8_Y_test_pred)\n",
        "print()\n",
        "\n",
        "GS8_train_f1score = f1_score(Y_train2, GS8_Y_train_pred)\n",
        "GS8_test_f1score = f1_score(Y_test2, GS8_Y_test_pred)\n",
        "\n",
        "print('F1SCORE on the train set : ', GS8_train_f1score)\n",
        "print('F1SCORE on the test set : ', GS8_test_f1score)\n",
        "\n",
        "\n",
        "\n",
        "# Adding 'Model 4' into the dataframe \n",
        "scores.append({'name_model': 'MODEL 8',\n",
        "                'model': 'Support Vector Classifier', \n",
        "                'F1_SCORE' : GS8_train_f1score,\n",
        "                'set' : 'train'})\n",
        "\n",
        "scores.append({'name_model': 'MODEL 8',\n",
        "                'model': 'Support Vector Classifier', \n",
        "                'F1_SCORE' : GS8_test_f1score,\n",
        "                'set' : 'test'})\n",
        "                \n",
        "                \n",
        "df = pd.DataFrame(columns=['name_model', 'model', 'F1_SCORE', 'set'])\n",
        "df_results = pd.DataFrame(scores, columns=['name_model', 'model', 'F1_SCORE', 'set'])\n",
        "\n",
        "# Concatenate both dataframes in order to create 'perf_final_df' \n",
        "perf_final_df = pd.concat([df, df_results])\n",
        "perf_final_df"
      ]
    },
    {
      "cell_type": "code",
      "execution_count": 39,
      "metadata": {},
      "outputs": [
        {
          "data": {
            "image/svg+xml": [
              "<svg class=\"main-svg\" xmlns=\"http://www.w3.org/2000/svg\" xmlns:xlink=\"http://www.w3.org/1999/xlink\" width=\"900\" height=\"500\" style=\"\" viewBox=\"0 0 900 500\"><rect x=\"0\" y=\"0\" width=\"900\" height=\"500\" style=\"fill: rgb(255, 255, 255); fill-opacity: 1;\"/><defs id=\"defs-fb0df0\"><g class=\"clips\"><clipPath id=\"clipfb0df0xyplot\" class=\"plotclip\"><rect width=\"721\" height=\"360\"/></clipPath><clipPath class=\"axesclip\" id=\"clipfb0df0x\"><rect x=\"80\" y=\"0\" width=\"721\" height=\"500\"/></clipPath><clipPath class=\"axesclip\" id=\"clipfb0df0y\"><rect x=\"0\" y=\"60\" width=\"900\" height=\"360\"/></clipPath><clipPath class=\"axesclip\" id=\"clipfb0df0xy\"><rect x=\"80\" y=\"60\" width=\"721\" height=\"360\"/></clipPath></g><g class=\"gradients\"/><g class=\"patterns\"/></defs><g class=\"bglayer\"/><g class=\"layer-below\"><g class=\"imagelayer\"/><g class=\"shapelayer\"/></g><g class=\"cartesianlayer\"><g class=\"subplot xy\"><g class=\"layer-subplot\"><g class=\"shapelayer\"/><g class=\"imagelayer\"/></g><g class=\"minor-gridlayer\"><g class=\"x\"/><g class=\"y\"/></g><g class=\"gridlayer\"><g class=\"x\"/><g class=\"y\"><path class=\"ygrid crisp\" transform=\"translate(0,375.79)\" d=\"M80,0h721\" style=\"stroke: rgb(238, 238, 238); stroke-opacity: 1; stroke-width: 1px;\"/><path class=\"ygrid crisp\" transform=\"translate(0,331.59)\" d=\"M80,0h721\" style=\"stroke: rgb(238, 238, 238); stroke-opacity: 1; stroke-width: 1px;\"/><path class=\"ygrid crisp\" transform=\"translate(0,287.38)\" d=\"M80,0h721\" style=\"stroke: rgb(238, 238, 238); stroke-opacity: 1; stroke-width: 1px;\"/><path class=\"ygrid crisp\" transform=\"translate(0,243.18)\" d=\"M80,0h721\" style=\"stroke: rgb(238, 238, 238); stroke-opacity: 1; stroke-width: 1px;\"/><path class=\"ygrid crisp\" transform=\"translate(0,198.97)\" d=\"M80,0h721\" style=\"stroke: rgb(238, 238, 238); stroke-opacity: 1; stroke-width: 1px;\"/><path class=\"ygrid crisp\" transform=\"translate(0,154.76999999999998)\" d=\"M80,0h721\" style=\"stroke: rgb(238, 238, 238); stroke-opacity: 1; stroke-width: 1px;\"/><path class=\"ygrid crisp\" transform=\"translate(0,110.56)\" d=\"M80,0h721\" style=\"stroke: rgb(238, 238, 238); stroke-opacity: 1; stroke-width: 1px;\"/><path class=\"ygrid crisp\" transform=\"translate(0,66.36)\" d=\"M80,0h721\" style=\"stroke: rgb(238, 238, 238); stroke-opacity: 1; stroke-width: 1px;\"/></g></g><g class=\"zerolinelayer\"><path class=\"yzl zl crisp\" transform=\"translate(0,420)\" d=\"M80,0h721\" style=\"stroke: rgb(68, 68, 68); stroke-opacity: 1; stroke-width: 1px;\"/></g><path class=\"xlines-below\"/><path class=\"ylines-below\"/><g class=\"overlines-below\"/><g class=\"xaxislayer-below\"/><g class=\"yaxislayer-below\"/><g class=\"overaxes-below\"/><g class=\"plot\" transform=\"translate(80,60)\" clip-path=\"url(#clipfb0df0xyplot)\"><g class=\"barlayer mlayer\"><g class=\"trace bars\" style=\"opacity: 1;\"><g class=\"points\"><g class=\"point\"><path d=\"M8.01,360V18H40.06V360Z\" style=\"vector-effect: none; opacity: 1; stroke-width: 0px; fill: rgb(75, 154, 199); fill-opacity: 1;\"/></g><g class=\"point\"><path d=\"M88.12,360V19.1H120.17V360Z\" style=\"vector-effect: none; opacity: 1; stroke-width: 0px; fill: rgb(75, 154, 199); fill-opacity: 1;\"/></g><g class=\"point\"><path d=\"M168.23,360V21.2H200.28V360Z\" style=\"vector-effect: none; opacity: 1; stroke-width: 0px; fill: rgb(75, 154, 199); fill-opacity: 1;\"/></g><g class=\"point\"><path d=\"M248.34,360V21.78H280.39V360Z\" style=\"vector-effect: none; opacity: 1; stroke-width: 0px; fill: rgb(75, 154, 199); fill-opacity: 1;\"/></g><g class=\"point\"><path d=\"M328.46,360V21.82H360.5V360Z\" style=\"vector-effect: none; opacity: 1; stroke-width: 0px; fill: rgb(75, 154, 199); fill-opacity: 1;\"/></g><g class=\"point\"><path d=\"M408.57,360V22.19H440.61V360Z\" style=\"vector-effect: none; opacity: 1; stroke-width: 0px; fill: rgb(75, 154, 199); fill-opacity: 1;\"/></g><g class=\"point\"><path d=\"M488.68,360V22.26H520.72V360Z\" style=\"vector-effect: none; opacity: 1; stroke-width: 0px; fill: rgb(75, 154, 199); fill-opacity: 1;\"/></g><g class=\"point\"><path d=\"M568.79,360V27.67H600.83V360Z\" style=\"vector-effect: none; opacity: 1; stroke-width: 0px; fill: rgb(75, 154, 199); fill-opacity: 1;\"/></g><g class=\"point\"><path d=\"M648.9,360V53.28H680.94V360Z\" style=\"vector-effect: none; opacity: 1; stroke-width: 0px; fill: rgb(75, 154, 199); fill-opacity: 1;\"/></g></g></g><g class=\"trace bars\" style=\"opacity: 1;\"><g class=\"points\"><g class=\"point\"><path d=\"M520.72,360V25.1H552.77V360Z\" style=\"vector-effect: none; opacity: 1; stroke-width: 0px; fill: rgb(75, 232, 224); fill-opacity: 1;\"/></g><g class=\"point\"><path d=\"M280.39,360V25.34H312.43V360Z\" style=\"vector-effect: none; opacity: 1; stroke-width: 0px; fill: rgb(75, 232, 224); fill-opacity: 1;\"/></g><g class=\"point\"><path d=\"M40.06,360V25.64H72.1V360Z\" style=\"vector-effect: none; opacity: 1; stroke-width: 0px; fill: rgb(75, 232, 224); fill-opacity: 1;\"/></g><g class=\"point\"><path d=\"M360.5,360V25.64H392.54V360Z\" style=\"vector-effect: none; opacity: 1; stroke-width: 0px; fill: rgb(75, 232, 224); fill-opacity: 1;\"/></g><g class=\"point\"><path d=\"M200.28,360V26.16H232.32V360Z\" style=\"vector-effect: none; opacity: 1; stroke-width: 0px; fill: rgb(75, 232, 224); fill-opacity: 1;\"/></g><g class=\"point\"><path d=\"M440.61,360V26.58H472.66V360Z\" style=\"vector-effect: none; opacity: 1; stroke-width: 0px; fill: rgb(75, 232, 224); fill-opacity: 1;\"/></g><g class=\"point\"><path d=\"M120.17,360V27.08H152.21V360Z\" style=\"vector-effect: none; opacity: 1; stroke-width: 0px; fill: rgb(75, 232, 224); fill-opacity: 1;\"/></g><g class=\"point\"><path d=\"M600.83,360V37.55H632.88V360Z\" style=\"vector-effect: none; opacity: 1; stroke-width: 0px; fill: rgb(75, 232, 224); fill-opacity: 1;\"/></g><g class=\"point\"><path d=\"M680.94,360V47.9H712.99V360Z\" style=\"vector-effect: none; opacity: 1; stroke-width: 0px; fill: rgb(75, 232, 224); fill-opacity: 1;\"/></g></g></g></g></g><g class=\"overplot\"/><path class=\"xlines-above crisp\" d=\"M0,0\" style=\"fill: none;\"/><path class=\"ylines-above crisp\" d=\"M0,0\" style=\"fill: none;\"/><g class=\"overlines-above\"/><g class=\"xaxislayer-above\"><g class=\"xtick\"><text text-anchor=\"start\" x=\"0\" y=\"433\" transform=\"translate(120.06,0) rotate(30,0,427)\" style=\"font-family: 'Open Sans', verdana, arial, sans-serif; font-size: 12px; fill: rgb(68, 68, 68); fill-opacity: 1; white-space: pre; opacity: 1;\">Support Vector Classifier</text></g><g class=\"xtick\"><text text-anchor=\"start\" x=\"0\" y=\"433\" transform=\"translate(200.17000000000002,0) rotate(30,0,427)\" style=\"font-family: 'Open Sans', verdana, arial, sans-serif; font-size: 12px; fill: rgb(68, 68, 68); fill-opacity: 1; white-space: pre; opacity: 1;\">AdaBoost DecTree</text></g><g class=\"xtick\"><text text-anchor=\"start\" x=\"0\" y=\"433\" transform=\"translate(280.28,0) rotate(30,0,427)\" style=\"font-family: 'Open Sans', verdana, arial, sans-serif; font-size: 12px; fill: rgb(68, 68, 68); fill-opacity: 1; white-space: pre; opacity: 1;\">Random Forest</text></g><g class=\"xtick\"><text text-anchor=\"start\" x=\"0\" y=\"433\" transform=\"translate(360.39,0) rotate(30,0,427)\" style=\"font-family: 'Open Sans', verdana, arial, sans-serif; font-size: 12px; fill: rgb(68, 68, 68); fill-opacity: 1; white-space: pre; opacity: 1;\">LogReg TUNED</text></g><g class=\"xtick\"><text text-anchor=\"start\" x=\"0\" y=\"433\" transform=\"translate(440.5,0) rotate(30,0,427)\" style=\"font-family: 'Open Sans', verdana, arial, sans-serif; font-size: 12px; fill: rgb(68, 68, 68); fill-opacity: 1; white-space: pre; opacity: 1;\">LogReg Multivar</text></g><g class=\"xtick\"><text text-anchor=\"start\" x=\"0\" y=\"433\" transform=\"translate(520.61,0) rotate(30,0,427)\" style=\"font-family: 'Open Sans', verdana, arial, sans-serif; font-size: 12px; fill: rgb(68, 68, 68); fill-opacity: 1; white-space: pre; opacity: 1;\">XG Boost</text></g><g class=\"xtick\"><text text-anchor=\"start\" x=\"0\" y=\"433\" transform=\"translate(600.72,0) rotate(30,0,427)\" style=\"font-family: 'Open Sans', verdana, arial, sans-serif; font-size: 12px; fill: rgb(68, 68, 68); fill-opacity: 1; white-space: pre; opacity: 1;\">AdaBoost LogReg</text></g><g class=\"xtick\"><text text-anchor=\"start\" x=\"0\" y=\"433\" transform=\"translate(680.83,0) rotate(30,0,427)\" style=\"font-family: 'Open Sans', verdana, arial, sans-serif; font-size: 12px; fill: rgb(68, 68, 68); fill-opacity: 1; white-space: pre; opacity: 1;\">Gradient Boosting</text></g><g class=\"xtick\"><text text-anchor=\"start\" x=\"0\" y=\"433\" transform=\"translate(760.94,0) rotate(30,0,427)\" style=\"font-family: 'Open Sans', verdana, arial, sans-serif; font-size: 12px; fill: rgb(68, 68, 68); fill-opacity: 1; white-space: pre; opacity: 1;\">LogReg Baseline</text></g></g><g class=\"yaxislayer-above\"><g class=\"ytick\"><text text-anchor=\"end\" x=\"79\" y=\"4.199999999999999\" transform=\"translate(0,420)\" style=\"font-family: 'Open Sans', verdana, arial, sans-serif; font-size: 12px; fill: rgb(68, 68, 68); fill-opacity: 1; white-space: pre; opacity: 1;\">0</text></g><g class=\"ytick\"><text text-anchor=\"end\" x=\"79\" y=\"4.199999999999999\" style=\"font-family: 'Open Sans', verdana, arial, sans-serif; font-size: 12px; fill: rgb(68, 68, 68); fill-opacity: 1; white-space: pre; opacity: 1;\" transform=\"translate(0,375.79)\">0.1</text></g><g class=\"ytick\"><text text-anchor=\"end\" x=\"79\" y=\"4.199999999999999\" style=\"font-family: 'Open Sans', verdana, arial, sans-serif; font-size: 12px; fill: rgb(68, 68, 68); fill-opacity: 1; white-space: pre; opacity: 1;\" transform=\"translate(0,331.59)\">0.2</text></g><g class=\"ytick\"><text text-anchor=\"end\" x=\"79\" y=\"4.199999999999999\" style=\"font-family: 'Open Sans', verdana, arial, sans-serif; font-size: 12px; fill: rgb(68, 68, 68); fill-opacity: 1; white-space: pre; opacity: 1;\" transform=\"translate(0,287.38)\">0.3</text></g><g class=\"ytick\"><text text-anchor=\"end\" x=\"79\" y=\"4.199999999999999\" style=\"font-family: 'Open Sans', verdana, arial, sans-serif; font-size: 12px; fill: rgb(68, 68, 68); fill-opacity: 1; white-space: pre; opacity: 1;\" transform=\"translate(0,243.18)\">0.4</text></g><g class=\"ytick\"><text text-anchor=\"end\" x=\"79\" y=\"4.199999999999999\" style=\"font-family: 'Open Sans', verdana, arial, sans-serif; font-size: 12px; fill: rgb(68, 68, 68); fill-opacity: 1; white-space: pre; opacity: 1;\" transform=\"translate(0,198.97)\">0.5</text></g><g class=\"ytick\"><text text-anchor=\"end\" x=\"79\" y=\"4.199999999999999\" style=\"font-family: 'Open Sans', verdana, arial, sans-serif; font-size: 12px; fill: rgb(68, 68, 68); fill-opacity: 1; white-space: pre; opacity: 1;\" transform=\"translate(0,154.76999999999998)\">0.6</text></g><g class=\"ytick\"><text text-anchor=\"end\" x=\"79\" y=\"4.199999999999999\" style=\"font-family: 'Open Sans', verdana, arial, sans-serif; font-size: 12px; fill: rgb(68, 68, 68); fill-opacity: 1; white-space: pre; opacity: 1;\" transform=\"translate(0,110.56)\">0.7</text></g><g class=\"ytick\"><text text-anchor=\"end\" x=\"79\" y=\"4.199999999999999\" style=\"font-family: 'Open Sans', verdana, arial, sans-serif; font-size: 12px; fill: rgb(68, 68, 68); fill-opacity: 1; white-space: pre; opacity: 1;\" transform=\"translate(0,66.36)\">0.8</text></g></g><g class=\"overaxes-above\"/></g></g><g class=\"polarlayer\"/><g class=\"smithlayer\"/><g class=\"ternarylayer\"/><g class=\"geolayer\"/><g class=\"funnelarealayer\"/><g class=\"pielayer\"/><g class=\"iciclelayer\"/><g class=\"treemaplayer\"/><g class=\"sunburstlayer\"/><g class=\"glimages\"/><defs id=\"topdefs-fb0df0\"><g class=\"clips\"/><clipPath id=\"legendfb0df0\"><rect width=\"73\" height=\"67\" x=\"0\" y=\"0\"/></clipPath></defs><g class=\"layer-above\"><g class=\"imagelayer\"/><g class=\"shapelayer\"/></g><g class=\"infolayer\"><g class=\"legend\" pointer-events=\"all\" transform=\"translate(815.42,60)\"><rect class=\"bg\" shape-rendering=\"crispEdges\" width=\"73\" height=\"67\" x=\"0\" y=\"0\" style=\"stroke: rgb(68, 68, 68); stroke-opacity: 1; fill: rgb(255, 255, 255); fill-opacity: 1; stroke-width: 0px;\"/><g class=\"scrollbox\" transform=\"\" clip-path=\"url(#legendfb0df0)\"><text class=\"legendtitletext\" text-anchor=\"start\" x=\"2\" y=\"18.2\" style=\"font-family: 'Open Sans', verdana, arial, sans-serif; font-size: 14px; fill: rgb(68, 68, 68); fill-opacity: 1; white-space: pre;\">set</text><g class=\"groups\" transform=\"\"><g class=\"traces\" transform=\"translate(0,32.7)\" style=\"opacity: 1;\"><text class=\"legendtext\" text-anchor=\"start\" x=\"40\" y=\"4.680000000000001\" style=\"font-family: 'Open Sans', verdana, arial, sans-serif; font-size: 12px; fill: rgb(68, 68, 68); fill-opacity: 1; white-space: pre;\">train</text><g class=\"layers\" style=\"opacity: 1;\"><g class=\"legendfill\"/><g class=\"legendlines\"/><g class=\"legendsymbols\"><g class=\"legendpoints\"><path class=\"legendundefined\" d=\"M6,6H-6V-6H6Z\" transform=\"translate(20,0)\" style=\"stroke-width: 0px; fill: rgb(75, 154, 199); fill-opacity: 1;\"/></g></g></g><rect class=\"legendtoggle\" x=\"0\" y=\"-9.5\" width=\"67.953125\" height=\"19\" style=\"fill: rgb(0, 0, 0); fill-opacity: 0;\"/></g></g><g class=\"groups\" transform=\"\"><g class=\"traces\" transform=\"translate(0,51.7)\" style=\"opacity: 1;\"><text class=\"legendtext\" text-anchor=\"start\" x=\"40\" y=\"4.680000000000001\" style=\"font-family: 'Open Sans', verdana, arial, sans-serif; font-size: 12px; fill: rgb(68, 68, 68); fill-opacity: 1; white-space: pre;\">test</text><g class=\"layers\" style=\"opacity: 1;\"><g class=\"legendfill\"/><g class=\"legendlines\"/><g class=\"legendsymbols\"><g class=\"legendpoints\"><path class=\"legendundefined\" d=\"M6,6H-6V-6H6Z\" transform=\"translate(20,0)\" style=\"stroke-width: 0px; fill: rgb(75, 232, 224); fill-opacity: 1;\"/></g></g></g><rect class=\"legendtoggle\" x=\"0\" y=\"-9.5\" width=\"67.953125\" height=\"19\" style=\"fill: rgb(0, 0, 0); fill-opacity: 0;\"/></g></g></g><rect class=\"scrollbar\" rx=\"20\" ry=\"3\" width=\"0\" height=\"0\" x=\"0\" y=\"0\" style=\"fill: rgb(128, 139, 164); fill-opacity: 1;\"/></g><g class=\"g-gtitle\"/><g class=\"g-xtitle\" transform=\"translate(0,25)\"><text class=\"xtitle\" x=\"440.5\" y=\"472\" text-anchor=\"middle\" style=\"font-family: 'Open Sans', verdana, arial, sans-serif; font-size: 14px; fill: rgb(68, 68, 68); opacity: 1; font-weight: normal; white-space: pre;\">model</text></g><g class=\"g-ytitle\"><text class=\"ytitle\" transform=\"rotate(-90,42,240)\" x=\"42\" y=\"240\" text-anchor=\"middle\" style=\"font-family: 'Open Sans', verdana, arial, sans-serif; font-size: 14px; fill: rgb(68, 68, 68); opacity: 1; font-weight: normal; white-space: pre;\">F1_SCORE</text></g></g></svg>"
            ]
          },
          "metadata": {},
          "output_type": "display_data"
        }
      ],
      "source": [
        "perf_final_df = perf_final_df.sort_values(by = ['set', 'F1_SCORE'], ascending = False)\n",
        "px.bar(perf_final_df, x = \"model\", y = 'F1_SCORE', color = 'set', barmode = 'group', width = 900)"
      ]
    },
    {
      "cell_type": "code",
      "execution_count": 40,
      "metadata": {},
      "outputs": [
        {
          "data": {
            "image/png": "[encoded data removed]",
            "text/plain": [
              "<IPython.core.display.Image object>"
            ]
          },
          "execution_count": 40,
          "metadata": {},
          "output_type": "execute_result"
        }
      ],
      "source": [
        "from IPython.display import Image\n",
        "Image(filename=\"Graphs_ML/plotly_all_models_perf.png\")"
      ]
    },
    {
      "cell_type": "markdown",
      "metadata": {},
      "source": [
        "3 best models are : SVC, Adaboost Decision Tree and the Logistic Regression Tuned (model 2)\n",
        "They don't differ that much in term of performances, let's try to do voting "
      ]
    },
    {
      "cell_type": "markdown",
      "metadata": {},
      "source": [
        "## 🔷 **Voting** ✋"
      ]
    },
    {
      "cell_type": "markdown",
      "metadata": {},
      "source": [
        "##### - Here we are going to execute a Soft Voting algorithm (more accurate thant Hard Voting) with 3 best classifiers (using the probability of predictions)"
      ]
    },
    {
      "cell_type": "code",
      "execution_count": 41,
      "metadata": {},
      "outputs": [
        {
          "name": "stdout",
          "output_type": "stream",
          "text": [
            "Fitting 3 folds for each of 162 candidates, totalling 486 fits\n",
            "Fitting 3 folds for each of 48 candidates, totalling 144 fits\n",
            "Predictions on training set :  [0 0 0 ... 0 0 0]\n",
            "Predictions on test set :  [0 0 1 ... 0 0 0]\n",
            "\n",
            "F1 SCORE on training set :  0.7718537351379645\n",
            "F1 SCORE on test set :  0.7581227436823105\n"
          ]
        }
      ],
      "source": [
        "voting = VotingClassifier(estimators=[\n",
        "                                      (\"LogReg TUNED\", grid_search2),\n",
        "                                      (\"AdaBoost DecTree\", gridsearch4),\n",
        "                                      (\"Support Vector Classifier\", gridsearch8)], \n",
        "                                      voting='soft') \n",
        "\n",
        "voting.fit(X_train2, Y_train2)\n",
        "\n",
        "voting_Y_train2_pred = voting.predict(X_train2)\n",
        "voting_Y_test2_pred = voting.predict(X_test2)\n",
        "\n",
        "print(\"Predictions on training set : \", voting_Y_train2_pred)\n",
        "print(\"Predictions on test set : \", voting_Y_test2_pred)\n",
        "print()\n",
        "\n",
        "\n",
        "print(\"F1 SCORE on training set : \", f1_score(Y_train2, voting_Y_train2_pred))\n",
        "print(\"F1 SCORE on test set : \", f1_score(Y_test2, voting_Y_test2_pred))"
      ]
    },
    {
      "cell_type": "code",
      "execution_count": 42,
      "metadata": {},
      "outputs": [
        {
          "data": {
            "image/svg+xml": [
              "<svg class=\"main-svg\" xmlns=\"http://www.w3.org/2000/svg\" xmlns:xlink=\"http://www.w3.org/1999/xlink\" width=\"900\" height=\"500\" style=\"\" viewBox=\"0 0 900 500\"><rect x=\"0\" y=\"0\" width=\"900\" height=\"500\" style=\"fill: rgb(255, 255, 255); fill-opacity: 1;\"/><defs id=\"defs-2f7ee2\"><g class=\"clips\"><clipPath id=\"clip2f7ee2xyplot\" class=\"plotclip\"><rect width=\"721\" height=\"360\"/></clipPath><clipPath class=\"axesclip\" id=\"clip2f7ee2x\"><rect x=\"80\" y=\"0\" width=\"721\" height=\"500\"/></clipPath><clipPath class=\"axesclip\" id=\"clip2f7ee2y\"><rect x=\"0\" y=\"60\" width=\"900\" height=\"360\"/></clipPath><clipPath class=\"axesclip\" id=\"clip2f7ee2xy\"><rect x=\"80\" y=\"60\" width=\"721\" height=\"360\"/></clipPath></g><g class=\"gradients\"/><g class=\"patterns\"/></defs><g class=\"bglayer\"/><g class=\"layer-below\"><g class=\"imagelayer\"/><g class=\"shapelayer\"/></g><g class=\"cartesianlayer\"><g class=\"subplot xy\"><g class=\"layer-subplot\"><g class=\"shapelayer\"/><g class=\"imagelayer\"/></g><g class=\"minor-gridlayer\"><g class=\"x\"/><g class=\"y\"/></g><g class=\"gridlayer\"><g class=\"x\"/><g class=\"y\"><path class=\"ygrid crisp\" transform=\"translate(0,375.79)\" d=\"M80,0h721\" style=\"stroke: rgb(238, 238, 238); stroke-opacity: 1; stroke-width: 1px;\"/><path class=\"ygrid crisp\" transform=\"translate(0,331.59)\" d=\"M80,0h721\" style=\"stroke: rgb(238, 238, 238); stroke-opacity: 1; stroke-width: 1px;\"/><path class=\"ygrid crisp\" transform=\"translate(0,287.38)\" d=\"M80,0h721\" style=\"stroke: rgb(238, 238, 238); stroke-opacity: 1; stroke-width: 1px;\"/><path class=\"ygrid crisp\" transform=\"translate(0,243.18)\" d=\"M80,0h721\" style=\"stroke: rgb(238, 238, 238); stroke-opacity: 1; stroke-width: 1px;\"/><path class=\"ygrid crisp\" transform=\"translate(0,198.97)\" d=\"M80,0h721\" style=\"stroke: rgb(238, 238, 238); stroke-opacity: 1; stroke-width: 1px;\"/><path class=\"ygrid crisp\" transform=\"translate(0,154.76999999999998)\" d=\"M80,0h721\" style=\"stroke: rgb(238, 238, 238); stroke-opacity: 1; stroke-width: 1px;\"/><path class=\"ygrid crisp\" transform=\"translate(0,110.56)\" d=\"M80,0h721\" style=\"stroke: rgb(238, 238, 238); stroke-opacity: 1; stroke-width: 1px;\"/><path class=\"ygrid crisp\" transform=\"translate(0,66.36)\" d=\"M80,0h721\" style=\"stroke: rgb(238, 238, 238); stroke-opacity: 1; stroke-width: 1px;\"/></g></g><g class=\"zerolinelayer\"><path class=\"yzl zl crisp\" transform=\"translate(0,420)\" d=\"M80,0h721\" style=\"stroke: rgb(68, 68, 68); stroke-opacity: 1; stroke-width: 1px;\"/></g><path class=\"xlines-below\"/><path class=\"ylines-below\"/><g class=\"overlines-below\"/><g class=\"xaxislayer-below\"/><g class=\"yaxislayer-below\"/><g class=\"overaxes-below\"/><g class=\"plot\" transform=\"translate(80,60)\" clip-path=\"url(#clip2f7ee2xyplot)\"><g class=\"barlayer mlayer\"><g class=\"trace bars\" style=\"opacity: 1;\"><g class=\"points\"><g class=\"point\"><path d=\"M7.21,360V18H36.05V360Z\" style=\"vector-effect: none; opacity: 1; stroke-width: 0px; fill: rgb(75, 154, 199); fill-opacity: 1;\"/></g><g class=\"point\"><path d=\"M79.31,360V18.8H108.15V360Z\" style=\"vector-effect: none; opacity: 1; stroke-width: 0px; fill: rgb(75, 154, 199); fill-opacity: 1;\"/></g><g class=\"point\"><path d=\"M151.41,360V19.1H180.25V360Z\" style=\"vector-effect: none; opacity: 1; stroke-width: 0px; fill: rgb(75, 154, 199); fill-opacity: 1;\"/></g><g class=\"point\"><path d=\"M223.51,360V21.2H252.35V360Z\" style=\"vector-effect: none; opacity: 1; stroke-width: 0px; fill: rgb(75, 154, 199); fill-opacity: 1;\"/></g><g class=\"point\"><path d=\"M295.61,360V21.78H324.45V360Z\" style=\"vector-effect: none; opacity: 1; stroke-width: 0px; fill: rgb(75, 154, 199); fill-opacity: 1;\"/></g><g class=\"point\"><path d=\"M367.71,360V21.82H396.55V360Z\" style=\"vector-effect: none; opacity: 1; stroke-width: 0px; fill: rgb(75, 154, 199); fill-opacity: 1;\"/></g><g class=\"point\"><path d=\"M439.81,360V22.19H468.65V360Z\" style=\"vector-effect: none; opacity: 1; stroke-width: 0px; fill: rgb(75, 154, 199); fill-opacity: 1;\"/></g><g class=\"point\"><path d=\"M511.91,360V22.26H540.75V360Z\" style=\"vector-effect: none; opacity: 1; stroke-width: 0px; fill: rgb(75, 154, 199); fill-opacity: 1;\"/></g><g class=\"point\"><path d=\"M584.01,360V27.67H612.85V360Z\" style=\"vector-effect: none; opacity: 1; stroke-width: 0px; fill: rgb(75, 154, 199); fill-opacity: 1;\"/></g><g class=\"point\"><path d=\"M656.11,360V53.28H684.95V360Z\" style=\"vector-effect: none; opacity: 1; stroke-width: 0px; fill: rgb(75, 154, 199); fill-opacity: 1;\"/></g></g></g><g class=\"trace bars\" style=\"opacity: 1;\"><g class=\"points\"><g class=\"point\"><path d=\"M108.15,360V24.87H136.99V360Z\" style=\"vector-effect: none; opacity: 1; stroke-width: 0px; fill: rgb(75, 232, 224); fill-opacity: 1;\"/></g><g class=\"point\"><path d=\"M540.75,360V25.1H569.59V360Z\" style=\"vector-effect: none; opacity: 1; stroke-width: 0px; fill: rgb(75, 232, 224); fill-opacity: 1;\"/></g><g class=\"point\"><path d=\"M324.45,360V25.34H353.29V360Z\" style=\"vector-effect: none; opacity: 1; stroke-width: 0px; fill: rgb(75, 232, 224); fill-opacity: 1;\"/></g><g class=\"point\"><path d=\"M36.05,360V25.64H64.89V360Z\" style=\"vector-effect: none; opacity: 1; stroke-width: 0px; fill: rgb(75, 232, 224); fill-opacity: 1;\"/></g><g class=\"point\"><path d=\"M396.55,360V25.64H425.39V360Z\" style=\"vector-effect: none; opacity: 1; stroke-width: 0px; fill: rgb(75, 232, 224); fill-opacity: 1;\"/></g><g class=\"point\"><path d=\"M252.35,360V26.16H281.19V360Z\" style=\"vector-effect: none; opacity: 1; stroke-width: 0px; fill: rgb(75, 232, 224); fill-opacity: 1;\"/></g><g class=\"point\"><path d=\"M468.65,360V26.58H497.49V360Z\" style=\"vector-effect: none; opacity: 1; stroke-width: 0px; fill: rgb(75, 232, 224); fill-opacity: 1;\"/></g><g class=\"point\"><path d=\"M180.25,360V27.08H209.09V360Z\" style=\"vector-effect: none; opacity: 1; stroke-width: 0px; fill: rgb(75, 232, 224); fill-opacity: 1;\"/></g><g class=\"point\"><path d=\"M612.85,360V37.55H641.69V360Z\" style=\"vector-effect: none; opacity: 1; stroke-width: 0px; fill: rgb(75, 232, 224); fill-opacity: 1;\"/></g><g class=\"point\"><path d=\"M684.95,360V47.9H713.79V360Z\" style=\"vector-effect: none; opacity: 1; stroke-width: 0px; fill: rgb(75, 232, 224); fill-opacity: 1;\"/></g></g></g></g></g><g class=\"overplot\"/><path class=\"xlines-above crisp\" d=\"M0,0\" style=\"fill: none;\"/><path class=\"ylines-above crisp\" d=\"M0,0\" style=\"fill: none;\"/><g class=\"overlines-above\"/><g class=\"xaxislayer-above\"><g class=\"xtick\"><text text-anchor=\"start\" x=\"0\" y=\"433\" transform=\"translate(116.05,0) rotate(30,0,427)\" style=\"font-family: 'Open Sans', verdana, arial, sans-serif; font-size: 12px; fill: rgb(68, 68, 68); fill-opacity: 1; white-space: pre; opacity: 1;\">Support Vector Classifier</text></g><g class=\"xtick\"><text text-anchor=\"start\" x=\"0\" y=\"433\" transform=\"translate(188.15,0) rotate(30,0,427)\" style=\"font-family: 'Open Sans', verdana, arial, sans-serif; font-size: 12px; fill: rgb(68, 68, 68); fill-opacity: 1; white-space: pre; opacity: 1;\">Voting</text></g><g class=\"xtick\"><text text-anchor=\"start\" x=\"0\" y=\"433\" transform=\"translate(260.25,0) rotate(30,0,427)\" style=\"font-family: 'Open Sans', verdana, arial, sans-serif; font-size: 12px; fill: rgb(68, 68, 68); fill-opacity: 1; white-space: pre; opacity: 1;\">AdaBoost DecTree</text></g><g class=\"xtick\"><text text-anchor=\"start\" x=\"0\" y=\"433\" transform=\"translate(332.35,0) rotate(30,0,427)\" style=\"font-family: 'Open Sans', verdana, arial, sans-serif; font-size: 12px; fill: rgb(68, 68, 68); fill-opacity: 1; white-space: pre; opacity: 1;\">Random Forest</text></g><g class=\"xtick\"><text text-anchor=\"start\" x=\"0\" y=\"433\" transform=\"translate(404.45,0) rotate(30,0,427)\" style=\"font-family: 'Open Sans', verdana, arial, sans-serif; font-size: 12px; fill: rgb(68, 68, 68); fill-opacity: 1; white-space: pre; opacity: 1;\">LogReg TUNED</text></g><g class=\"xtick\"><text text-anchor=\"start\" x=\"0\" y=\"433\" transform=\"translate(476.55,0) rotate(30,0,427)\" style=\"font-family: 'Open Sans', verdana, arial, sans-serif; font-size: 12px; fill: rgb(68, 68, 68); fill-opacity: 1; white-space: pre; opacity: 1;\">LogReg Multivar</text></g><g class=\"xtick\"><text text-anchor=\"start\" x=\"0\" y=\"433\" transform=\"translate(548.65,0) rotate(30,0,427)\" style=\"font-family: 'Open Sans', verdana, arial, sans-serif; font-size: 12px; fill: rgb(68, 68, 68); fill-opacity: 1; white-space: pre; opacity: 1;\">XG Boost</text></g><g class=\"xtick\"><text text-anchor=\"start\" x=\"0\" y=\"433\" transform=\"translate(620.75,0) rotate(30,0,427)\" style=\"font-family: 'Open Sans', verdana, arial, sans-serif; font-size: 12px; fill: rgb(68, 68, 68); fill-opacity: 1; white-space: pre; opacity: 1;\">AdaBoost LogReg</text></g><g class=\"xtick\"><text text-anchor=\"start\" x=\"0\" y=\"433\" transform=\"translate(692.85,0) rotate(30,0,427)\" style=\"font-family: 'Open Sans', verdana, arial, sans-serif; font-size: 12px; fill: rgb(68, 68, 68); fill-opacity: 1; white-space: pre; opacity: 1;\">Gradient Boosting</text></g><g class=\"xtick\"><text text-anchor=\"start\" x=\"0\" y=\"433\" transform=\"translate(764.95,0) rotate(30,0,427)\" style=\"font-family: 'Open Sans', verdana, arial, sans-serif; font-size: 12px; fill: rgb(68, 68, 68); fill-opacity: 1; white-space: pre; opacity: 1;\">LogReg Baseline</text></g></g><g class=\"yaxislayer-above\"><g class=\"ytick\"><text text-anchor=\"end\" x=\"79\" y=\"4.199999999999999\" transform=\"translate(0,420)\" style=\"font-family: 'Open Sans', verdana, arial, sans-serif; font-size: 12px; fill: rgb(68, 68, 68); fill-opacity: 1; white-space: pre; opacity: 1;\">0</text></g><g class=\"ytick\"><text text-anchor=\"end\" x=\"79\" y=\"4.199999999999999\" style=\"font-family: 'Open Sans', verdana, arial, sans-serif; font-size: 12px; fill: rgb(68, 68, 68); fill-opacity: 1; white-space: pre; opacity: 1;\" transform=\"translate(0,375.79)\">0.1</text></g><g class=\"ytick\"><text text-anchor=\"end\" x=\"79\" y=\"4.199999999999999\" style=\"font-family: 'Open Sans', verdana, arial, sans-serif; font-size: 12px; fill: rgb(68, 68, 68); fill-opacity: 1; white-space: pre; opacity: 1;\" transform=\"translate(0,331.59)\">0.2</text></g><g class=\"ytick\"><text text-anchor=\"end\" x=\"79\" y=\"4.199999999999999\" style=\"font-family: 'Open Sans', verdana, arial, sans-serif; font-size: 12px; fill: rgb(68, 68, 68); fill-opacity: 1; white-space: pre; opacity: 1;\" transform=\"translate(0,287.38)\">0.3</text></g><g class=\"ytick\"><text text-anchor=\"end\" x=\"79\" y=\"4.199999999999999\" style=\"font-family: 'Open Sans', verdana, arial, sans-serif; font-size: 12px; fill: rgb(68, 68, 68); fill-opacity: 1; white-space: pre; opacity: 1;\" transform=\"translate(0,243.18)\">0.4</text></g><g class=\"ytick\"><text text-anchor=\"end\" x=\"79\" y=\"4.199999999999999\" style=\"font-family: 'Open Sans', verdana, arial, sans-serif; font-size: 12px; fill: rgb(68, 68, 68); fill-opacity: 1; white-space: pre; opacity: 1;\" transform=\"translate(0,198.97)\">0.5</text></g><g class=\"ytick\"><text text-anchor=\"end\" x=\"79\" y=\"4.199999999999999\" style=\"font-family: 'Open Sans', verdana, arial, sans-serif; font-size: 12px; fill: rgb(68, 68, 68); fill-opacity: 1; white-space: pre; opacity: 1;\" transform=\"translate(0,154.76999999999998)\">0.6</text></g><g class=\"ytick\"><text text-anchor=\"end\" x=\"79\" y=\"4.199999999999999\" style=\"font-family: 'Open Sans', verdana, arial, sans-serif; font-size: 12px; fill: rgb(68, 68, 68); fill-opacity: 1; white-space: pre; opacity: 1;\" transform=\"translate(0,110.56)\">0.7</text></g><g class=\"ytick\"><text text-anchor=\"end\" x=\"79\" y=\"4.199999999999999\" style=\"font-family: 'Open Sans', verdana, arial, sans-serif; font-size: 12px; fill: rgb(68, 68, 68); fill-opacity: 1; white-space: pre; opacity: 1;\" transform=\"translate(0,66.36)\">0.8</text></g></g><g class=\"overaxes-above\"/></g></g><g class=\"polarlayer\"/><g class=\"smithlayer\"/><g class=\"ternarylayer\"/><g class=\"geolayer\"/><g class=\"funnelarealayer\"/><g class=\"pielayer\"/><g class=\"iciclelayer\"/><g class=\"treemaplayer\"/><g class=\"sunburstlayer\"/><g class=\"glimages\"/><defs id=\"topdefs-2f7ee2\"><g class=\"clips\"/><clipPath id=\"legend2f7ee2\"><rect width=\"73\" height=\"67\" x=\"0\" y=\"0\"/></clipPath></defs><g class=\"layer-above\"><g class=\"imagelayer\"/><g class=\"shapelayer\"/></g><g class=\"infolayer\"><g class=\"legend\" pointer-events=\"all\" transform=\"translate(815.42,60)\"><rect class=\"bg\" shape-rendering=\"crispEdges\" width=\"73\" height=\"67\" x=\"0\" y=\"0\" style=\"stroke: rgb(68, 68, 68); stroke-opacity: 1; fill: rgb(255, 255, 255); fill-opacity: 1; stroke-width: 0px;\"/><g class=\"scrollbox\" transform=\"\" clip-path=\"url(#legend2f7ee2)\"><text class=\"legendtitletext\" text-anchor=\"start\" x=\"2\" y=\"18.2\" style=\"font-family: 'Open Sans', verdana, arial, sans-serif; font-size: 14px; fill: rgb(68, 68, 68); fill-opacity: 1; white-space: pre;\">set</text><g class=\"groups\" transform=\"\"><g class=\"traces\" transform=\"translate(0,32.7)\" style=\"opacity: 1;\"><text class=\"legendtext\" text-anchor=\"start\" x=\"40\" y=\"4.680000000000001\" style=\"font-family: 'Open Sans', verdana, arial, sans-serif; font-size: 12px; fill: rgb(68, 68, 68); fill-opacity: 1; white-space: pre;\">train</text><g class=\"layers\" style=\"opacity: 1;\"><g class=\"legendfill\"/><g class=\"legendlines\"/><g class=\"legendsymbols\"><g class=\"legendpoints\"><path class=\"legendundefined\" d=\"M6,6H-6V-6H6Z\" transform=\"translate(20,0)\" style=\"stroke-width: 0px; fill: rgb(75, 154, 199); fill-opacity: 1;\"/></g></g></g><rect class=\"legendtoggle\" x=\"0\" y=\"-9.5\" width=\"67.953125\" height=\"19\" style=\"fill: rgb(0, 0, 0); fill-opacity: 0;\"/></g></g><g class=\"groups\" transform=\"\"><g class=\"traces\" transform=\"translate(0,51.7)\" style=\"opacity: 1;\"><text class=\"legendtext\" text-anchor=\"start\" x=\"40\" y=\"4.680000000000001\" style=\"font-family: 'Open Sans', verdana, arial, sans-serif; font-size: 12px; fill: rgb(68, 68, 68); fill-opacity: 1; white-space: pre;\">test</text><g class=\"layers\" style=\"opacity: 1;\"><g class=\"legendfill\"/><g class=\"legendlines\"/><g class=\"legendsymbols\"><g class=\"legendpoints\"><path class=\"legendundefined\" d=\"M6,6H-6V-6H6Z\" transform=\"translate(20,0)\" style=\"stroke-width: 0px; fill: rgb(75, 232, 224); fill-opacity: 1;\"/></g></g></g><rect class=\"legendtoggle\" x=\"0\" y=\"-9.5\" width=\"67.953125\" height=\"19\" style=\"fill: rgb(0, 0, 0); fill-opacity: 0;\"/></g></g></g><rect class=\"scrollbar\" rx=\"20\" ry=\"3\" width=\"0\" height=\"0\" x=\"0\" y=\"0\" style=\"fill: rgb(128, 139, 164); fill-opacity: 1;\"/></g><g class=\"g-gtitle\"/><g class=\"g-xtitle\" transform=\"translate(0,24.1064453125)\"><text class=\"xtitle\" x=\"440.5\" y=\"472\" text-anchor=\"middle\" style=\"font-family: 'Open Sans', verdana, arial, sans-serif; font-size: 14px; fill: rgb(68, 68, 68); opacity: 1; font-weight: normal; white-space: pre;\">model</text></g><g class=\"g-ytitle\"><text class=\"ytitle\" transform=\"rotate(-90,42,240)\" x=\"42\" y=\"240\" text-anchor=\"middle\" style=\"font-family: 'Open Sans', verdana, arial, sans-serif; font-size: 14px; fill: rgb(68, 68, 68); opacity: 1; font-weight: normal; white-space: pre;\">F1_SCORE</text></g></g></svg>"
            ]
          },
          "metadata": {},
          "output_type": "display_data"
        }
      ],
      "source": [
        "scores.append({'name_model': 'VOTING',\n",
        "                'model': 'Voting', \n",
        "                'F1_SCORE' : f1_score(Y_train2, voting_Y_train2_pred),\n",
        "                'set' : 'train'})\n",
        "\n",
        "scores.append({'name_model': 'VOTING',\n",
        "                'model': 'Voting', \n",
        "                'F1_SCORE' : f1_score(Y_test2, voting_Y_test2_pred),\n",
        "                'set' : 'test'})\n",
        "\n",
        "df = pd.DataFrame(columns=['name_model', 'model', 'F1_SCORE', 'set'])\n",
        "df_results = pd.DataFrame(scores, columns=['name_model', 'model', 'F1_SCORE', 'set'])\n",
        "\n",
        "perf_final_df = pd.concat([df, df_results])\n",
        "\n",
        "perf_final_df = perf_final_df.sort_values(by = ['set', 'F1_SCORE'], ascending = False)\n",
        "px.bar(perf_final_df, x = \"model\", y = 'F1_SCORE', color = 'set', barmode = 'group', width = 900)"
      ]
    },
    {
      "cell_type": "code",
      "execution_count": 43,
      "metadata": {},
      "outputs": [
        {
          "data": {
            "image/png": "[encoded data removed]",
            "text/plain": [
              "<IPython.core.display.Image object>"
            ]
          },
          "execution_count": 43,
          "metadata": {},
          "output_type": "execute_result"
        }
      ],
      "source": [
        "from IPython.display import Image\n",
        "Image(filename=\"Graphs_ML/plotly_all_with_voting_perf.png\")"
      ]
    },
    {
      "cell_type": "code",
      "execution_count": 44,
      "metadata": {},
      "outputs": [
        {
          "data": {
            "text/html": [
              "<div>\n",
              "<style scoped>\n",
              "    .dataframe tbody tr th:only-of-type {\n",
              "        vertical-align: middle;\n",
              "    }\n",
              "\n",
              "    .dataframe tbody tr th {\n",
              "        vertical-align: top;\n",
              "    }\n",
              "\n",
              "    .dataframe thead th {\n",
              "        text-align: right;\n",
              "    }\n",
              "</style>\n",
              "<table border=\"1\" class=\"dataframe\">\n",
              "  <thead>\n",
              "    <tr style=\"text-align: right;\">\n",
              "      <th></th>\n",
              "      <th>name_model</th>\n",
              "      <th>model</th>\n",
              "      <th>F1_SCORE</th>\n",
              "      <th>set</th>\n",
              "    </tr>\n",
              "  </thead>\n",
              "  <tbody>\n",
              "    <tr>\n",
              "      <th>16</th>\n",
              "      <td>MODEL 8</td>\n",
              "      <td>Support Vector Classifier</td>\n",
              "      <td>0.773667</td>\n",
              "      <td>train</td>\n",
              "    </tr>\n",
              "    <tr>\n",
              "      <th>18</th>\n",
              "      <td>VOTING</td>\n",
              "      <td>Voting</td>\n",
              "      <td>0.771854</td>\n",
              "      <td>train</td>\n",
              "    </tr>\n",
              "    <tr>\n",
              "      <th>8</th>\n",
              "      <td>MODEL 4</td>\n",
              "      <td>AdaBoost DecTree</td>\n",
              "      <td>0.771181</td>\n",
              "      <td>train</td>\n",
              "    </tr>\n",
              "    <tr>\n",
              "      <th>6</th>\n",
              "      <td>MODEL 3</td>\n",
              "      <td>Random Forest</td>\n",
              "      <td>0.766421</td>\n",
              "      <td>train</td>\n",
              "    </tr>\n",
              "    <tr>\n",
              "      <th>4</th>\n",
              "      <td>MODEL 2 TUNED</td>\n",
              "      <td>LogReg TUNED</td>\n",
              "      <td>0.765118</td>\n",
              "      <td>train</td>\n",
              "    </tr>\n",
              "    <tr>\n",
              "      <th>2</th>\n",
              "      <td>MODEL 2 (multivar)</td>\n",
              "      <td>LogReg Multivar</td>\n",
              "      <td>0.765021</td>\n",
              "      <td>train</td>\n",
              "    </tr>\n",
              "    <tr>\n",
              "      <th>14</th>\n",
              "      <td>MODEL 7</td>\n",
              "      <td>XG Boost</td>\n",
              "      <td>0.764187</td>\n",
              "      <td>train</td>\n",
              "    </tr>\n",
              "    <tr>\n",
              "      <th>10</th>\n",
              "      <td>MODEL 5</td>\n",
              "      <td>AdaBoost LogReg</td>\n",
              "      <td>0.764031</td>\n",
              "      <td>train</td>\n",
              "    </tr>\n",
              "    <tr>\n",
              "      <th>12</th>\n",
              "      <td>MODEL 6</td>\n",
              "      <td>Gradient Boosting</td>\n",
              "      <td>0.751795</td>\n",
              "      <td>train</td>\n",
              "    </tr>\n",
              "    <tr>\n",
              "      <th>0</th>\n",
              "      <td>MODEL 1</td>\n",
              "      <td>LogReg Baseline</td>\n",
              "      <td>0.693852</td>\n",
              "      <td>train</td>\n",
              "    </tr>\n",
              "    <tr>\n",
              "      <th>19</th>\n",
              "      <td>VOTING</td>\n",
              "      <td>Voting</td>\n",
              "      <td>0.758123</td>\n",
              "      <td>test</td>\n",
              "    </tr>\n",
              "    <tr>\n",
              "      <th>11</th>\n",
              "      <td>MODEL 5</td>\n",
              "      <td>AdaBoost LogReg</td>\n",
              "      <td>0.757594</td>\n",
              "      <td>test</td>\n",
              "    </tr>\n",
              "    <tr>\n",
              "      <th>5</th>\n",
              "      <td>MODEL 2 TUNED</td>\n",
              "      <td>LogReg TUNED</td>\n",
              "      <td>0.757052</td>\n",
              "      <td>test</td>\n",
              "    </tr>\n",
              "    <tr>\n",
              "      <th>17</th>\n",
              "      <td>MODEL 8</td>\n",
              "      <td>Support Vector Classifier</td>\n",
              "      <td>0.756383</td>\n",
              "      <td>test</td>\n",
              "    </tr>\n",
              "    <tr>\n",
              "      <th>3</th>\n",
              "      <td>MODEL 2 (multivar)</td>\n",
              "      <td>LogReg Multivar</td>\n",
              "      <td>0.756379</td>\n",
              "      <td>test</td>\n",
              "    </tr>\n",
              "    <tr>\n",
              "      <th>7</th>\n",
              "      <td>MODEL 3</td>\n",
              "      <td>Random Forest</td>\n",
              "      <td>0.755202</td>\n",
              "      <td>test</td>\n",
              "    </tr>\n",
              "    <tr>\n",
              "      <th>15</th>\n",
              "      <td>MODEL 7</td>\n",
              "      <td>XG Boost</td>\n",
              "      <td>0.754248</td>\n",
              "      <td>test</td>\n",
              "    </tr>\n",
              "    <tr>\n",
              "      <th>9</th>\n",
              "      <td>MODEL 4</td>\n",
              "      <td>AdaBoost DecTree</td>\n",
              "      <td>0.753123</td>\n",
              "      <td>test</td>\n",
              "    </tr>\n",
              "    <tr>\n",
              "      <th>13</th>\n",
              "      <td>MODEL 6</td>\n",
              "      <td>Gradient Boosting</td>\n",
              "      <td>0.729434</td>\n",
              "      <td>test</td>\n",
              "    </tr>\n",
              "    <tr>\n",
              "      <th>1</th>\n",
              "      <td>MODEL 1</td>\n",
              "      <td>LogReg Baseline</td>\n",
              "      <td>0.706024</td>\n",
              "      <td>test</td>\n",
              "    </tr>\n",
              "  </tbody>\n",
              "</table>\n",
              "</div>"
            ],
            "text/plain": [
              "            name_model                      model  F1_SCORE    set\n",
              "16             MODEL 8  Support Vector Classifier  0.773667  train\n",
              "18              VOTING                     Voting  0.771854  train\n",
              "8              MODEL 4           AdaBoost DecTree  0.771181  train\n",
              "6              MODEL 3              Random Forest  0.766421  train\n",
              "4        MODEL 2 TUNED               LogReg TUNED  0.765118  train\n",
              "2   MODEL 2 (multivar)            LogReg Multivar  0.765021  train\n",
              "14             MODEL 7                   XG Boost  0.764187  train\n",
              "10             MODEL 5            AdaBoost LogReg  0.764031  train\n",
              "12             MODEL 6          Gradient Boosting  0.751795  train\n",
              "0              MODEL 1            LogReg Baseline  0.693852  train\n",
              "19              VOTING                     Voting  0.758123   test\n",
              "11             MODEL 5            AdaBoost LogReg  0.757594   test\n",
              "5        MODEL 2 TUNED               LogReg TUNED  0.757052   test\n",
              "17             MODEL 8  Support Vector Classifier  0.756383   test\n",
              "3   MODEL 2 (multivar)            LogReg Multivar  0.756379   test\n",
              "7              MODEL 3              Random Forest  0.755202   test\n",
              "15             MODEL 7                   XG Boost  0.754248   test\n",
              "9              MODEL 4           AdaBoost DecTree  0.753123   test\n",
              "13             MODEL 6          Gradient Boosting  0.729434   test\n",
              "1              MODEL 1            LogReg Baseline  0.706024   test"
            ]
          },
          "execution_count": 44,
          "metadata": {},
          "output_type": "execute_result"
        }
      ],
      "source": [
        "perf_final_df = perf_final_df.sort_values(by = ['set', 'F1_SCORE'], ascending = False)\n",
        "perf_final_df"
      ]
    },
    {
      "cell_type": "markdown",
      "metadata": {},
      "source": [
        "#### **CONCLUSION** : \n",
        "\n",
        "- 3 best models global perfomances are : SVC, Voting and Adaboost DecTree\n",
        "- The most important is to focus on the TEST SCORE which is ability of the test to make predictions on unknown datas \n",
        "- As we can see on 'perf_final_df : best performances on test and best balance in terme of variace-bias trade-off are made by the **Voting Model**"
      ]
    },
    {
      "cell_type": "markdown",
      "metadata": {},
      "source": [
        "-----"
      ]
    },
    {
      "cell_type": "markdown",
      "metadata": {},
      "source": [
        "## 🔷 **PART 3️⃣ :** **Training on all data** of Conversion Train Dataset"
      ]
    },
    {
      "cell_type": "markdown",
      "metadata": {},
      "source": [
        "------"
      ]
    },
    {
      "cell_type": "markdown",
      "metadata": {},
      "source": [
        "#### ➡️ **Training on ALL DATA** from Conversion Train dataset"
      ]
    },
    {
      "cell_type": "code",
      "execution_count": 45,
      "metadata": {},
      "outputs": [],
      "source": [
        "# defining Voting model as Best model \n",
        "\n",
        "best_model = voting"
      ]
    },
    {
      "cell_type": "code",
      "execution_count": 46,
      "metadata": {},
      "outputs": [
        {
          "name": "stdout",
          "output_type": "stream",
          "text": [
            "Fitting 3 folds for each of 162 candidates, totalling 486 fits\n",
            "Fitting 3 folds for each of 48 candidates, totalling 144 fits\n",
            "F1 SCORE with BEST MODEL -- On all training data :  0.7716573067272076\n"
          ]
        }
      ],
      "source": [
        "# Here we concatenate our train and test set to train your best classifier on all data with labels\n",
        "all_data_X = np.append(X_train2, X_test2, axis=0)\n",
        "all_data_Y = np.append(Y_train2, Y_test2)\n",
        "\n",
        "# Fitting model \n",
        "best_model.fit(all_data_X, all_data_Y)\n",
        "\n",
        "# Predictions \n",
        "all_data_Y_pred = best_model.predict(all_data_X)\n",
        "\n",
        "# Performances \n",
        "print('F1 SCORE with BEST MODEL -- On all training data : ', f1_score(all_data_Y, all_data_Y_pred))"
      ]
    },
    {
      "cell_type": "markdown",
      "metadata": {},
      "source": [
        "**INTERPRETATIONS :** \n",
        "* Traning the best model (Voting) on all data do not significantly raise performances "
      ]
    },
    {
      "cell_type": "markdown",
      "metadata": {},
      "source": [
        "---"
      ]
    },
    {
      "cell_type": "markdown",
      "metadata": {},
      "source": [
        "## ➡️ **Preprocessing on the TEST DATA** (without labels)"
      ]
    },
    {
      "cell_type": "markdown",
      "metadata": {},
      "source": [
        "+ + + + + + + + + + + + + + + + + + + + + + + + + + + + + + + + + + + + + +"
      ]
    },
    {
      "cell_type": "code",
      "execution_count": 47,
      "metadata": {},
      "outputs": [
        {
          "name": "stdout",
          "output_type": "stream",
          "text": [
            "Shape of Prediction Set (without labels) : (31620, 5)\n",
            "\n",
            "Here is the dataset without the target :\n"
          ]
        },
        {
          "data": {
            "text/html": [
              "<div>\n",
              "<style scoped>\n",
              "    .dataframe tbody tr th:only-of-type {\n",
              "        vertical-align: middle;\n",
              "    }\n",
              "\n",
              "    .dataframe tbody tr th {\n",
              "        vertical-align: top;\n",
              "    }\n",
              "\n",
              "    .dataframe thead th {\n",
              "        text-align: right;\n",
              "    }\n",
              "</style>\n",
              "<table border=\"1\" class=\"dataframe\">\n",
              "  <thead>\n",
              "    <tr style=\"text-align: right;\">\n",
              "      <th></th>\n",
              "      <th>country</th>\n",
              "      <th>age</th>\n",
              "      <th>new_user</th>\n",
              "      <th>source</th>\n",
              "      <th>total_pages_visited</th>\n",
              "    </tr>\n",
              "  </thead>\n",
              "  <tbody>\n",
              "    <tr>\n",
              "      <th>0</th>\n",
              "      <td>UK</td>\n",
              "      <td>28</td>\n",
              "      <td>0</td>\n",
              "      <td>Seo</td>\n",
              "      <td>16</td>\n",
              "    </tr>\n",
              "    <tr>\n",
              "      <th>1</th>\n",
              "      <td>UK</td>\n",
              "      <td>22</td>\n",
              "      <td>1</td>\n",
              "      <td>Direct</td>\n",
              "      <td>5</td>\n",
              "    </tr>\n",
              "    <tr>\n",
              "      <th>2</th>\n",
              "      <td>China</td>\n",
              "      <td>32</td>\n",
              "      <td>1</td>\n",
              "      <td>Seo</td>\n",
              "      <td>1</td>\n",
              "    </tr>\n",
              "    <tr>\n",
              "      <th>3</th>\n",
              "      <td>US</td>\n",
              "      <td>32</td>\n",
              "      <td>1</td>\n",
              "      <td>Ads</td>\n",
              "      <td>6</td>\n",
              "    </tr>\n",
              "    <tr>\n",
              "      <th>4</th>\n",
              "      <td>China</td>\n",
              "      <td>25</td>\n",
              "      <td>0</td>\n",
              "      <td>Seo</td>\n",
              "      <td>3</td>\n",
              "    </tr>\n",
              "  </tbody>\n",
              "</table>\n",
              "</div>"
            ],
            "text/plain": [
              "  country  age  new_user  source  total_pages_visited\n",
              "0      UK   28         0     Seo                   16\n",
              "1      UK   22         1  Direct                    5\n",
              "2   China   32         1     Seo                    1\n",
              "3      US   32         1     Ads                    6\n",
              "4   China   25         0     Seo                    3"
            ]
          },
          "execution_count": 47,
          "metadata": {},
          "output_type": "execute_result"
        }
      ],
      "source": [
        "conversion_without_labels = pd.read_csv('/Volumes/T7/__Project 4 ML__/CONVERSION /conversion_data_test.csv')\n",
        "print('Shape of Prediction Set (without labels) :', conversion_without_labels.shape)\n",
        "print()\n",
        "print('Here is the dataset without the target :')\n",
        "conversion_without_labels.head()"
      ]
    },
    {
      "cell_type": "code",
      "execution_count": 48,
      "metadata": {},
      "outputs": [
        {
          "name": "stdout",
          "output_type": "stream",
          "text": [
            "Converting pandas DataFrames to numpy arrays...\n",
            "\n",
            "...Done\n",
            "[[16 28 0 'UK' 'Seo']\n",
            " [5 22 1 'UK' 'Direct']\n",
            " [1 32 1 'China' 'Seo']\n",
            " [6 32 1 'US' 'Ads']\n",
            " [3 25 0 'China' 'Seo']]\n"
          ]
        }
      ],
      "source": [
        "features_list_without_labels = ['total_pages_visited', 'age', 'new_user', 'country', 'source']\n",
        "numerical_features2 = [0, 1]\n",
        "categorical_features2 = [2, 3, 4]\n",
        "X_without_labels = conversion_without_labels.loc[:, features_list_without_labels]\n",
        "\n",
        "print(\"Converting pandas DataFrames to numpy arrays...\")\n",
        "print()\n",
        "X_without_labels = X_without_labels.values\n",
        "print(\"...Done\")\n",
        "\n",
        "print(X_without_labels[0:5,:])"
      ]
    },
    {
      "cell_type": "code",
      "execution_count": 49,
      "metadata": {},
      "outputs": [
        {
          "name": "stdout",
          "output_type": "stream",
          "text": [
            "Encoding categorical features and standardizing numerical features...\n",
            "\n",
            "\n",
            "...Done\n",
            "\n",
            "[[ 3.33913917 -0.31512217  0.          0.          1.          0.\n",
            "   0.          1.        ]\n",
            " [ 0.03888347 -1.03657046  1.          0.          1.          0.\n",
            "   1.          0.        ]\n",
            " [-1.16120951  0.16584336  1.          0.          0.          0.\n",
            "   0.          1.        ]\n",
            " [ 0.33890671  0.16584336  1.          0.          0.          1.\n",
            "   0.          0.        ]\n",
            " [-0.56116302 -0.67584631  0.          0.          0.          0.\n",
            "   0.          1.        ]]\n"
          ]
        }
      ],
      "source": [
        "print(\"Encoding categorical features and standardizing numerical features...\")\n",
        "print()\n",
        "\n",
        "numerical_features2_without_lab = [0, 1]\n",
        "numerical_transformer2_without_lab = Pipeline(steps=[\n",
        "    ('imputer', SimpleImputer(strategy='mean')),\n",
        "    ('scaler', StandardScaler())\n",
        "])\n",
        "\n",
        "categorical_features2_without_lab = [2, 3, 4]\n",
        "categorical_transformer2_without_lab = Pipeline(steps=[\n",
        "    ('imputer', SimpleImputer(strategy='most_frequent')),\n",
        "    ('encoder', OneHotEncoder(drop='first'))\n",
        "])\n",
        "\n",
        "preprocessor2_without_lab = ColumnTransformer(transformers=[\n",
        "    ('num', numerical_transformer2_without_lab, numerical_features2_without_lab),\n",
        "    ('cat', categorical_transformer2_without_lab, categorical_features2_without_lab)])\n",
        "\n",
        "X_without_labels = preprocessor2_without_lab.fit_transform(X_without_labels)\n",
        "\n",
        "print()\n",
        "print(\"...Done\")\n",
        "print()\n",
        "\n",
        "print(X_without_labels[0:5,:])\n",
        " "
      ]
    },
    {
      "cell_type": "code",
      "execution_count": 50,
      "metadata": {},
      "outputs": [
        {
          "name": "stdout",
          "output_type": "stream",
          "text": [
            "----------------------------------------------------------------------------\n",
            "                   C O N F U S I O N   M A T R I X \n",
            "----------------------------------------------------------------------------\n",
            "\n",
            "\n"
          ]
        },
        {
          "data": {
            "image/png": "[encoded data removed]",
            "text/plain": [
              "<Figure size 500x500 with 2 Axes>"
            ]
          },
          "metadata": {},
          "output_type": "display_data"
        },
        {
          "name": "stdout",
          "output_type": "stream",
          "text": [
            "\n",
            "\n",
            "----------------------------------------------------------------------------\n",
            "----------------------------------------------------------------------------\n"
          ]
        }
      ],
      "source": [
        "# Confusion Matrix \n",
        "\n",
        "print('----------------------------------------------------------------------------')\n",
        "print('                   C O N F U S I O N   M A T R I X ')\n",
        "print('----------------------------------------------------------------------------')\n",
        "print()\n",
        "print()\n",
        "_, ax = plt.subplots(figsize=(5,5))\n",
        "ax.set(title=\"Confusion Matrix\")\n",
        "ConfusionMatrixDisplay.from_estimator(best_model, X_train2, Y_train2, ax=ax)\n",
        "plt.show()\n",
        "\n",
        "print()\n",
        "print()\n",
        "print('----------------------------------------------------------------------------')\n",
        "print('----------------------------------------------------------------------------')"
      ]
    },
    {
      "cell_type": "code",
      "execution_count": 51,
      "metadata": {},
      "outputs": [
        {
          "name": "stdout",
          "output_type": "stream",
          "text": [
            "----------------------------------------------------------------------------\n",
            "                            R O C   C U R V E  \n",
            "----------------------------------------------------------------------------\n",
            "\n",
            "\n"
          ]
        },
        {
          "data": {
            "image/png": "[encoded data removed]",
            "text/plain": [
              "<Figure size 400x400 with 1 Axes>"
            ]
          },
          "metadata": {},
          "output_type": "display_data"
        },
        {
          "name": "stdout",
          "output_type": "stream",
          "text": [
            "\n",
            "\n",
            "----------------------------------------------------------------------------\n",
            "----------------------------------------------------------------------------\n"
          ]
        }
      ],
      "source": [
        "# ROC Curve \n",
        "\n",
        "print('----------------------------------------------------------------------------')\n",
        "print('                            R O C   C U R V E  ')\n",
        "print('----------------------------------------------------------------------------')\n",
        "print()\n",
        "print()\n",
        "\n",
        "_, ax = plt.subplots(figsize=(4,4))\n",
        "ax.set(title=\"ROC Curve\")\n",
        "RocCurveDisplay.from_estimator(best_model, X_train2, Y_train2, ax=ax)\n",
        "plt.show()\n",
        "\n",
        "print()\n",
        "print()\n",
        "print('----------------------------------------------------------------------------')\n",
        "print('----------------------------------------------------------------------------')"
      ]
    },
    {
      "cell_type": "code",
      "execution_count": 52,
      "metadata": {},
      "outputs": [],
      "source": [
        "# Our predictions saved in 'conversion_data_test_predictions_DORIANEDOYONDOUSSE.csv'\n",
        "\n",
        "data = {\n",
        "    'converted': best_model.predict(X_without_labels)\n",
        "}\n",
        "\n",
        "Y_predictions = pd.DataFrame(columns=['converted'], data=data)\n",
        "Y_predictions.to_csv('conversion_data_test_predictions_DORIANEDOYONDOUSSE.csv', index=False)"
      ]
    },
    {
      "cell_type": "markdown",
      "metadata": {},
      "source": [
        "-----"
      ]
    },
    {
      "cell_type": "markdown",
      "metadata": {},
      "source": [
        "## 🔷 **PART 4️⃣ :** **Recommendations** about Newsletter's Conversion Rate"
      ]
    },
    {
      "cell_type": "markdown",
      "metadata": {},
      "source": [
        "------"
      ]
    },
    {
      "cell_type": "markdown",
      "metadata": {},
      "source": [
        "##### <ins>**What we could say to Data Science Weekly team about Conversion Rate to their Newsletter :**</ins>\n",
        "* Young people tend to convert more than older people (age correlation)\n",
        "* More the user look at pages more he tend to convert \n",
        "* Americans are the country how visit more their website but it doesn't mean they convert more : Germans do, they are the country where conversion rate is higher \n",
        "* Ads brings them a lot of potential users but Seo is the best source permiting them to gain cconversion rate\n"
      ]
    },
    {
      "cell_type": "markdown",
      "metadata": {},
      "source": [
        "##### <ins>**What we would recommand :**</ins>\n",
        " \n",
        "* Push researchs to understand why olders look less pages, try maybe change title of articles or website design to make it more attrative so than the esthetic make them want to look more and more pages \n",
        "* Understand topics that are attractive for older people and for youngers\n",
        "* Target more Europe, they seem to convert well \n"
      ]
    },
    {
      "cell_type": "markdown",
      "metadata": {},
      "source": [
        "##### <ins>**How to impove the predictions performances:**</ins>"
      ]
    },
    {
      "cell_type": "markdown",
      "metadata": {},
      "source": [
        "+ Do feature engineering with explanatory variables \n",
        "+ Use non supervised technics suchs as PCA to reduce number of explanatory variables in order to \"prepare\" data and variables before lunching supervised ML algorithms\n",
        "+ It was out of the scope of Jedha's program but with researches I founded that using SMOTE or other technics to BALANCE THE TARGET could have raise the f1 score"
      ]
    }
  ],
  "metadata": {
    "colab": {
      "provenance": []
    },
    "kernelspec": {
      "display_name": "Python 3",
      "name": "python3"
    },
    "language_info": {
      "codemirror_mode": {
        "name": "ipython",
        "version": 3
      },
      "file_extension": ".py",
      "mimetype": "text/x-python",
      "name": "python",
      "nbconvert_exporter": "python",
      "pygments_lexer": "ipython3",
      "version": "3.11.5"
    }
  },
  "nbformat": 4,
  "nbformat_minor": 0
}
